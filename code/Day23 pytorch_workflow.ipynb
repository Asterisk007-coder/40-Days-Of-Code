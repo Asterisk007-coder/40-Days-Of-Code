{
 "cells": [
  {
   "cell_type": "code",
   "execution_count": 2,
   "metadata": {},
   "outputs": [
    {
     "data": {
      "text/plain": [
       "'2.0.1+cu117'"
      ]
     },
     "execution_count": 2,
     "metadata": {},
     "output_type": "execute_result"
    }
   ],
   "source": [
    "import torch as t\n",
    "from torch import nn\n",
    "import matplotlib.pyplot as plt\n",
    "t.__version__"
   ]
  },
  {
   "cell_type": "code",
   "execution_count": 3,
   "metadata": {},
   "outputs": [
    {
     "data": {
      "text/plain": [
       "<matplotlib.collections.PathCollection at 0x24d6af16450>"
      ]
     },
     "execution_count": 3,
     "metadata": {},
     "output_type": "execute_result"
    },
    {
     "data": {
      "image/png": "[encoded data removed]",
      "text/plain": [
       "<Figure size 640x480 with 1 Axes>"
      ]
     },
     "metadata": {},
     "output_type": "display_data"
    }
   ],
   "source": [
    "# n=100\n",
    "# m=3\n",
    "\n",
    "w=0.7\n",
    "b=0.3\n",
    "\n",
    "start = 0 \n",
    "end = 1\n",
    "step = 0.02\n",
    "\n",
    "n=int((end-start)/step)\n",
    "\n",
    "# X=t.rand(n,1)\n",
    "\n",
    "X=t.arange(start,end,step).unsqueeze(1)\n",
    "y=w*X+b\n",
    "y+=t.randn(n,1)/100\n",
    "X.shape, y.shape\n",
    "# X\n",
    "plt.scatter(X,y)"
   ]
  },
  {
   "cell_type": "code",
   "execution_count": 4,
   "metadata": {},
   "outputs": [
    {
     "data": {
      "text/plain": [
       "(torch.Size([40, 1]), torch.Size([10, 1]))"
      ]
     },
     "execution_count": 4,
     "metadata": {},
     "output_type": "execute_result"
    }
   ],
   "source": [
    "train_split=int(0.8*len(X))\n",
    "X_train,y_train=X[:train_split],y[:train_split]\n",
    "X_test,y_test=X[train_split:],y[train_split:]\n",
    "X_train.size(), X_test.size()"
   ]
  },
  {
   "cell_type": "code",
   "execution_count": 11,
   "metadata": {},
   "outputs": [],
   "source": [
    "class LinearRegressionModel(nn.Module):\n",
    "    def __init__(self):\n",
    "        super().__init__()\n",
    "        self.weights = nn.Parameter(t.randn(1,requires_grad=True, dtype=t.float))\n",
    "\n",
    "        self.bias = nn.Parameter(t.randn(1,requires_grad=True, dtype=t.float))\n",
    "\n",
    "    def forward(self, X: t.Tensor) -> t.Tensor :\n",
    "        return self.weights*X + self.bias\n",
    "\n",
    "\n",
    "        "
   ]
  },
  {
   "cell_type": "code",
   "execution_count": 68,
   "metadata": {},
   "outputs": [],
   "source": [
    "t.manual_seed(42)\n",
    "m0=LinearRegressionModel()\n"
   ]
  },
  {
   "cell_type": "code",
   "execution_count": 155,
   "metadata": {},
   "outputs": [
    {
     "data": {
      "text/plain": [
       "[Parameter containing:\n",
       " tensor([0.6943], requires_grad=True),\n",
       " Parameter containing:\n",
       " tensor([0.3006], requires_grad=True)]"
      ]
     },
     "execution_count": 155,
     "metadata": {},
     "output_type": "execute_result"
    }
   ],
   "source": [
    "list(m0.parameters())"
   ]
  },
  {
   "cell_type": "code",
   "execution_count": 166,
   "metadata": {},
   "outputs": [
    {
     "data": {
      "text/plain": [
       "OrderedDict([('weights', tensor([0.6943])), ('bias', tensor([0.3006]))])"
      ]
     },
     "execution_count": 166,
     "metadata": {},
     "output_type": "execute_result"
    }
   ],
   "source": [
    "m0.state_dict()"
   ]
  },
  {
   "cell_type": "code",
   "execution_count": 168,
   "metadata": {},
   "outputs": [
    {
     "data": {
      "text/plain": [
       "tensor([[0.8560],\n",
       "        [0.8699],\n",
       "        [0.8838],\n",
       "        [0.8977],\n",
       "        [0.9116],\n",
       "        [0.9255],\n",
       "        [0.9393],\n",
       "        [0.9532],\n",
       "        [0.9671],\n",
       "        [0.9810]], grad_fn=<AddBackward0>)"
      ]
     },
     "execution_count": 168,
     "metadata": {},
     "output_type": "execute_result"
    }
   ],
   "source": [
    "m0.eval()\n",
    "m0.forward(X_test)"
   ]
  },
  {
   "cell_type": "code",
   "execution_count": 165,
   "metadata": {},
   "outputs": [
    {
     "data": {
      "text/plain": [
       "(tensor([[0.8600, 0.8740, 0.8880, 0.9020, 0.9160, 0.9300, 0.9440, 0.9580, 0.9720,\n",
       "          0.9860]]),\n",
       " tensor([[0.3982, 0.4049, 0.4116, 0.4184, 0.4251, 0.4318, 0.4386, 0.4453, 0.4520,\n",
       "          0.4588]]),\n",
       " tensor([[0.8487, 0.8723, 0.8870, 0.9053, 0.9182, 0.9165, 0.9318, 0.9426, 0.9731,\n",
       "          1.0044]]))"
      ]
     },
     "execution_count": 165,
     "metadata": {},
     "output_type": "execute_result"
    }
   ],
   "source": [
    "k1=X_test*w+b\n",
    "k1.T,test_pred.T, y_test.T"
   ]
  },
  {
   "cell_type": "code",
   "execution_count": 24,
   "metadata": {},
   "outputs": [
    {
     "data": {
      "text/plain": [
       "(tensor([[0.3982, 0.4049, 0.4116, 0.4184, 0.4251, 0.4318, 0.4386, 0.4453, 0.4520,\n",
       "          0.4588]]),\n",
       " tensor([[0.8487, 0.8723, 0.8870, 0.9053, 0.9182, 0.9165, 0.9318, 0.9426, 0.9731,\n",
       "          1.0044]]))"
      ]
     },
     "execution_count": 24,
     "metadata": {},
     "output_type": "execute_result"
    }
   ],
   "source": [
    "with t.inference_mode():\n",
    "    pred=m0(X_test)\n",
    "pred.T,  y_test.T"
   ]
  },
  {
   "cell_type": "code",
   "execution_count": 215,
   "metadata": {},
   "outputs": [
    {
     "data": {
      "text/plain": [
       "[6.4, 4.8]"
      ]
     },
     "execution_count": 215,
     "metadata": {},
     "output_type": "execute_result"
    },
    {
     "data": {
      "image/png": "[encoded data removed]",
      "text/plain": [
       "<Figure size 640x480 with 1 Axes>"
      ]
     },
     "metadata": {},
     "output_type": "display_data"
    }
   ],
   "source": [
    "def plot():\n",
    "    plt.scatter(X_test,y_test, label='testing data')    \n",
    "    plt.scatter(X_train,y_train, label='training data')\n",
    "    m0.eval()\n",
    "    with t.inference_mode():        \n",
    "        test_pred = m0(X_test)\n",
    "    plt.scatter(X_test,test_pred, label='Predictions')\n",
    "    plt.legend()\n",
    "\n",
    "plot()\n",
    "plt.title(\"Predictions after 200 epochs\")\n",
    "# plt.figsize(20,7)\n",
    "plt.rcParams[\"figure.figsize\"] #[6.4, 4.8]\n"
   ]
  },
  {
   "cell_type": "code",
   "execution_count": null,
   "metadata": {},
   "outputs": [],
   "source": []
  },
  {
   "cell_type": "code",
   "execution_count": 117,
   "metadata": {},
   "outputs": [],
   "source": [
    "def reset():\n",
    "    global m0, optimizer\n",
    "    m0=LinearRegressionModel()\n",
    "    optimizer = t.optim.SGD(params = m0.parameters(),lr=0.01)"
   ]
  },
  {
   "cell_type": "code",
   "execution_count": 200,
   "metadata": {},
   "outputs": [
    {
     "name": "stdout",
     "output_type": "stream",
     "text": [
      "0.3119860589504242 0.34 0.14\n",
      "Epoch  0  | Test Loss :  0.4780603349208832\n",
      "0.30046504735946655 0.34 0.15\n",
      "0.2889440655708313 0.35 0.16\n",
      "0.27742305397987366 0.35 0.17\n",
      "0.26590201258659363 0.36 0.18\n",
      "0.25438106060028076 0.36 0.19\n",
      "0.24286003410816193 0.36 0.2\n",
      "0.23133902251720428 0.37 0.21\n",
      "0.21981804072856903 0.37 0.22\n",
      "0.20829704403877258 0.38 0.23\n",
      "0.19677603244781494 0.38 0.24\n",
      "Epoch  10  | Test Loss :  0.343350350856781\n",
      "0.1852550208568573 0.38 0.25\n",
      "0.17373402416706085 0.39 0.26\n",
      "0.1622130274772644 0.39 0.27\n",
      "0.15069201588630676 0.4 0.28\n",
      "0.1391710340976715 0.4 0.29\n",
      "0.12765005230903625 0.4 0.3\n",
      "0.11655056476593018 0.41 0.31\n",
      "0.10658083856105804 0.41 0.32\n",
      "0.09785813838243484 0.41 0.33\n",
      "0.0897475928068161 0.42 0.33\n",
      "Epoch  20  | Test Loss :  0.21535396575927734\n",
      "0.08365585654973984 0.42 0.34\n",
      "0.07825770229101181 0.43 0.34\n",
      "0.07334725558757782 0.43 0.35\n",
      "0.06859304010868073 0.43 0.36\n",
      "0.06458643823862076 0.44 0.36\n",
      "0.06100640445947647 0.44 0.37\n",
      "0.05790834501385689 0.44 0.37\n",
      "0.05533995106816292 0.45 0.37\n",
      "0.05342762917280197 0.45 0.38\n",
      "0.05201822519302368 0.45 0.38\n",
      "Epoch  30  | Test Loss :  0.14038607478141785\n",
      "0.050894610583782196 0.45 0.38\n",
      "0.04977100342512131 0.46 0.38\n",
      "0.04867348074913025 0.46 0.38\n",
      "0.047803327441215515 0.46 0.38\n",
      "0.04693317040801048 0.46 0.39\n",
      "0.04616860672831535 0.47 0.39\n",
      "0.045592837035655975 0.47 0.39\n",
      "0.04510558769106865 0.47 0.39\n",
      "0.04461834207177162 0.47 0.39\n",
      "0.0441310852766037 0.48 0.39\n",
      "Epoch  40  | Test Loss :  0.10757950693368912\n",
      "0.04368937015533447 0.48 0.39\n",
      "0.04329732805490494 0.48 0.39\n",
      "0.0429052896797657 0.48 0.39\n",
      "0.04251324012875557 0.48 0.39\n",
      "0.04212120175361633 0.49 0.39\n",
      "0.04176783934235573 0.49 0.39\n",
      "0.04143623262643814 0.49 0.39\n",
      "0.04109794646501541 0.49 0.39\n",
      "0.04075966030359268 0.49 0.39\n",
      "0.04042137786746025 0.49 0.39\n",
      "Epoch  50  | Test Loss :  0.09405215829610825\n",
      "0.04008931666612625 0.5 0.39\n",
      "0.039751652628183365 0.5 0.38\n",
      "0.03941336274147034 0.5 0.38\n",
      "0.03907507658004761 0.5 0.38\n",
      "0.038742221891880035 0.5 0.38\n",
      "0.03840535506606102 0.5 0.38\n",
      "0.03806706517934799 0.51 0.38\n",
      "0.037728775292634964 0.51 0.38\n",
      "0.03741247579455376 0.51 0.38\n",
      "0.03707830235362053 0.51 0.38\n",
      "Epoch  60  | Test Loss :  0.0860021561384201\n",
      "0.0367400124669075 0.51 0.38\n",
      "0.036416083574295044 0.51 0.38\n",
      "0.03608504682779312 0.52 0.38\n",
      "0.03576364740729332 0.52 0.38\n",
      "0.035434968769550323 0.52 0.38\n",
      "0.035106319934129715 0.52 0.37\n",
      "0.034784894436597824 0.52 0.37\n",
      "0.0344538576900959 0.52 0.37\n",
      "0.03412995487451553 0.53 0.37\n",
      "0.033803775906562805 0.53 0.37\n",
      "Epoch  70  | Test Loss :  0.07958410680294037\n",
      "0.03347274661064148 0.53 0.37\n",
      "0.033155836164951324 0.53 0.37\n",
      "0.032864902168512344 0.53 0.37\n",
      "0.03253387287259102 0.53 0.37\n",
      "0.0322028324007988 0.54 0.37\n",
      "0.031882788985967636 0.54 0.37\n",
      "0.03157218545675278 0.54 0.37\n",
      "0.03126158192753792 0.54 0.37\n",
      "0.030951177701354027 0.54 0.37\n",
      "0.03064410388469696 0.54 0.36\n",
      "Epoch  80  | Test Loss :  0.07139032334089279\n",
      "0.030333494767546654 0.55 0.36\n",
      "0.030022893100976944 0.55 0.36\n",
      "0.029712283983826637 0.55 0.36\n",
      "0.02940167486667633 0.55 0.36\n",
      "0.02909107506275177 0.55 0.36\n",
      "0.02878047153353691 0.55 0.36\n",
      "0.028472011908888817 0.56 0.36\n",
      "0.028162991628050804 0.56 0.36\n",
      "0.027852391824126244 0.56 0.36\n",
      "0.027541782706975937 0.56 0.36\n",
      "Epoch  90  | Test Loss :  0.0620008185505867\n",
      "0.027231168001890182 0.56 0.36\n",
      "0.026920568197965622 0.56 0.36\n",
      "0.026609962806105614 0.57 0.36\n",
      "0.02629973366856575 0.57 0.36\n",
      "0.025992488488554955 0.57 0.36\n",
      "0.0256818775087595 0.57 0.36\n",
      "0.025371277704834938 0.57 0.36\n",
      "0.02506067231297493 0.57 0.35\n",
      "0.024750065058469772 0.58 0.35\n",
      "0.024439465254545212 0.58 0.35\n",
      "Epoch  100  | Test Loss :  0.052611298859119415\n",
      "0.024128850549459457 0.58 0.35\n",
      "0.02382056787610054 0.58 0.35\n",
      "0.023511379957199097 0.58 0.35\n",
      "0.02320077456533909 0.58 0.35\n",
      "0.02289016917347908 0.59 0.35\n",
      "0.022579561918973923 0.59 0.35\n",
      "0.022268960252404213 0.59 0.35\n",
      "0.021958356723189354 0.59 0.35\n",
      "0.021648291498422623 0.59 0.35\n",
      "0.021340876817703247 0.59 0.35\n",
      "Epoch  110  | Test Loss :  0.04387307167053223\n",
      "0.02103027142584324 0.6 0.35\n",
      "0.020737458020448685 0.6 0.35\n",
      "0.0204329714179039 0.6 0.35\n",
      "0.020136334002017975 0.6 0.34\n",
      "0.019836818799376488 0.6 0.34\n",
      "0.01953406073153019 0.6 0.34\n",
      "0.019240673631429672 0.6 0.34\n",
      "0.018936187028884888 0.61 0.34\n",
      "0.018640130758285522 0.61 0.34\n",
      "0.018340039998292923 0.61 0.34\n",
      "Epoch  120  | Test Loss :  0.0382205955684185\n",
      "0.018037861213088036 0.61 0.34\n",
      "0.017743879929184914 0.61 0.34\n",
      "0.017439398914575577 0.61 0.34\n",
      "0.017143916338682175 0.62 0.34\n",
      "0.016843251883983612 0.62 0.34\n",
      "0.016541652381420135 0.62 0.34\n",
      "0.0162470955401659 0.62 0.33\n",
      "0.015942614525556564 0.62 0.33\n",
      "0.01564771868288517 0.62 0.33\n",
      "0.015346462838351727 0.62 0.33\n",
      "Epoch  130  | Test Loss :  0.032568126916885376\n",
      "0.015045451000332832 0.63 0.33\n",
      "0.014750313945114613 0.63 0.33\n",
      "0.014445835724473 0.63 0.33\n",
      "0.014170421287417412 0.63 0.33\n",
      "0.013878223486244678 0.63 0.33\n",
      "0.01359359361231327 0.63 0.33\n",
      "0.013318955898284912 0.64 0.33\n",
      "0.01304431539028883 0.64 0.33\n",
      "0.012769674882292747 0.64 0.33\n",
      "0.01249503344297409 0.64 0.33\n",
      "Epoch  140  | Test Loss :  0.024577368050813675\n",
      "0.012220395728945732 0.64 0.33\n",
      "0.011945756152272224 0.64 0.32\n",
      "0.011671116575598717 0.64 0.32\n",
      "0.01139648538082838 0.65 0.32\n",
      "0.011121838353574276 0.65 0.32\n",
      "0.010847201570868492 0.65 0.32\n",
      "0.010580929927527905 0.65 0.32\n",
      "0.010307117365300655 0.65 0.32\n",
      "0.010064581409096718 0.65 0.32\n",
      "0.009873167611658573 0.66 0.32\n",
      "Epoch  150  | Test Loss :  0.015442443080246449\n",
      "0.00968859251588583 0.66 0.32\n",
      "0.009509214200079441 0.66 0.32\n",
      "0.00932579766958952 0.66 0.32\n",
      "0.009145253337919712 0.66 0.32\n",
      "0.008962996304035187 0.66 0.32\n",
      "0.008781297132372856 0.66 0.32\n",
      "0.008600195869803429 0.66 0.32\n",
      "0.00841734278947115 0.66 0.32\n",
      "0.008237401023507118 0.67 0.31\n",
      "0.008105866611003876 0.67 0.31\n",
      "Epoch  160  | Test Loss :  0.011742949485778809\n",
      "0.00794990174472332 0.67 0.31\n",
      "0.007797141559422016 0.67 0.31\n",
      "0.007666056044399738 0.67 0.31\n",
      "0.007603564765304327 0.67 0.31\n",
      "0.0075195953249931335 0.67 0.31\n",
      "0.0074189091101288795 0.67 0.31\n",
      "0.007356702350080013 0.67 0.31\n",
      "0.007298448123037815 0.67 0.31\n",
      "0.007237765938043594 0.67 0.31\n",
      "0.007175554521381855 0.67 0.31\n",
      "Epoch  170  | Test Loss :  0.010089104995131493\n",
      "0.007113343570381403 0.68 0.31\n",
      "0.007061042822897434 0.68 0.31\n",
      "0.007017483003437519 0.68 0.31\n",
      "0.006973923183977604 0.68 0.31\n",
      "0.006930360104888678 0.68 0.31\n",
      "0.006890100426971912 0.68 0.31\n",
      "0.006846535950899124 0.68 0.31\n",
      "0.006802982185035944 0.68 0.31\n",
      "0.006759422831237316 0.68 0.31\n",
      "0.0067354971542954445 0.68 0.31\n",
      "Epoch  180  | Test Loss :  0.009287792257964611\n",
      "0.006715863011777401 0.68 0.31\n",
      "0.0066723027266561985 0.68 0.31\n",
      "0.006636044941842556 0.68 0.31\n",
      "0.006609602365642786 0.68 0.31\n",
      "0.0065854936838150024 0.68 0.31\n",
      "0.006600482854992151 0.68 0.31\n",
      "0.006535583175718784 0.68 0.31\n",
      "0.006522572599351406 0.68 0.31\n",
      "0.006504932884126902 0.68 0.31\n",
      "0.006494981236755848 0.68 0.31\n",
      "Epoch  190  | Test Loss :  0.008918833918869495\n",
      "0.006481835152953863 0.69 0.31\n",
      "0.00646419171243906 0.69 0.31\n",
      "0.006457369774580002 0.69 0.31\n",
      "0.006441088858991861 0.69 0.31\n",
      "0.006425219587981701 0.69 0.31\n",
      "0.006417991127818823 0.69 0.31\n",
      "0.006400357931852341 0.69 0.31\n",
      "0.006387612782418728 0.69 0.3\n",
      "0.006377259735018015 0.69 0.3\n"
     ]
    }
   ],
   "source": [
    "t.manual_seed(42)\n",
    "epochs = 200\n",
    "reset()\n",
    "train_loss_values=[]\n",
    "test_loss_values=[]\n",
    "epoch_list=[]\n",
    "for epoch in range(epochs):\n",
    "    m0.train()\n",
    "    y_pred = m0(X_train)\n",
    "    loss=loss_f(y_pred,y_train)\n",
    "    optimizer.zero_grad()\n",
    "    loss.backward()\n",
    "    optimizer.step()\n",
    "    print(loss.item(), round(m0.weights.item(),2), round(m0.bias.item(),2))\n",
    "    \n",
    "    m0.eval()\n",
    "    with t.inference_mode():\n",
    "        # m0.train()\n",
    "        test_pred = m0(X_test)\n",
    "        test_loss=loss_f(test_pred,y_test)\n",
    "        epoch_list.append(epoch)\n",
    "        train_loss_values.append(loss.detach())\n",
    "        test_loss_values.append(test_loss.detach())\n",
    "        if epoch%10==0:\n",
    "            print(\"Epoch \", epoch, \" | Test Loss : \", test_loss.item())\n",
    "\n"
   ]
  },
  {
   "cell_type": "code",
   "execution_count": 202,
   "metadata": {},
   "outputs": [
    {
     "data": {
      "text/plain": [
       "<matplotlib.legend.Legend at 0x24d737383d0>"
      ]
     },
     "execution_count": 202,
     "metadata": {},
     "output_type": "execute_result"
    },
    {
     "data": {
      "image/png": "[encoded data removed]",
      "text/plain": [
       "<Figure size 640x480 with 1 Axes>"
      ]
     },
     "metadata": {},
     "output_type": "display_data"
    }
   ],
   "source": [
    "plt.plot(epoch_list,train_loss_values,  label='training loss')\n",
    "\n",
    "plt.plot(epoch_list,test_loss_values, label='testing loss')\n",
    "plt.title(\"Loss curves\")\n",
    "\n",
    "\n",
    "plt.legend()"
   ]
  },
  {
   "cell_type": "code",
   "execution_count": null,
   "metadata": {},
   "outputs": [],
   "source": [
    "# Saving the model:\n"
   ]
  }
 ],
 "metadata": {
  "kernelspec": {
   "display_name": "Python 3",
   "language": "python",
   "name": "python3"
  },
  "language_info": {
   "codemirror_mode": {
    "name": "ipython",
    "version": 3
   },
   "file_extension": ".py",
   "mimetype": "text/x-python",
   "name": "python",
   "nbconvert_exporter": "python",
   "pygments_lexer": "ipython3",
   "version": "3.11.2"
  }
 },
 "nbformat": 4,
 "nbformat_minor": 2
}
