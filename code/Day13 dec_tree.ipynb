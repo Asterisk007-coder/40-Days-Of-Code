{
 "cells": [
  {
   "cell_type": "code",
   "execution_count": 1,
   "metadata": {},
   "outputs": [],
   "source": [
    "import numpy as np\n",
    "import pandas as pd\n",
    "# im\n",
    "import matplotlib.pyplot as plt\n",
    "import graphviz\n",
    "import seaborn as sns"
   ]
  },
  {
   "cell_type": "code",
   "execution_count": 2,
   "metadata": {},
   "outputs": [],
   "source": [
    "class Node:\n",
    "    def __init__(self):\n",
    "        \n",
    "        self.feature_index=None\n",
    "        self.threshold=None\n",
    "        self.cond=None\n",
    "        self.value=None\n",
    "        self.children=[]\n",
    "        self.left=None\n",
    "        self.right=None\n",
    "        self.isroot=False\n",
    "        self.isleaf=False\n",
    "        self.samples=None\n",
    "        self.discrete=True\n",
    "        # self.cond=None\n",
    "        '''basically if self.discrete is true then match conditions by equality, else by high/low'''\n",
    "\n",
    "def plot_node(root,dot,k,parent,thresholds=None):\n",
    "    root_id=str(k)\n",
    "    root_text='X'+str(root.feature_index)\n",
    "    # if thresholds is not None:\n",
    "        # thres=thresholds[root.feature_index][0]\n",
    "        # thres=thresholds[root.feature_index][0]\n",
    "        # if thres-int(thres)==0:\n",
    "        #     thres=int(thres)\n",
    "    root_text+=' < '+str(int(root.threshold))\n",
    "    dot.node(root_id,root_text,shape='box')  \n",
    "    k+=1\n",
    "\n",
    "    # if (k!=0)\n",
    "\n",
    "    l=len(root.children)\n",
    "    for i in range(l):\n",
    "        # dot.node(str(i),'feature')\n",
    "        child=root.children[i]\n",
    "        \n",
    "        \n",
    "        if child.isleaf:\n",
    "            text='Class '+str(child.value).strip('[]')\n",
    "            dot.node(str(k),text,shape='oval')\n",
    "            node_label=child.cond\n",
    "            node_label = bool(node_label)\n",
    "                # print(node_label)\n",
    "            dot.edge(root_id,str(k),str(node_label))\n",
    "            k+=1\n",
    "        else:\n",
    "            dot,k=plot_node(child,dot,k,root_id)\n",
    "    if parent is not None:\n",
    "        node_label=root.cond\n",
    "        \n",
    "        node_label = bool(node_label)\n",
    "        # print(node_label)\n",
    "        \n",
    "        dot.edge(parent,root_id,str(node_label))\n",
    "\n",
    "    return dot,k\n",
    "\n",
    "\n",
    "def plot_tree(root,k=0,*,render_flag=False,thresholds=None):\n",
    "    dot=graphviz.Digraph()\n",
    "    dot,k=plot_node(root,dot,k,None,thresholds)\n",
    "    if render_flag==True:\n",
    "        dot.render('Tree',format='png',cleanup=True,view=True)\n",
    "    return dot\n",
    "\n",
    "# dot=plot_tree(head)\n",
    "# dot"
   ]
  },
  {
   "cell_type": "code",
   "execution_count": 124,
   "metadata": {},
   "outputs": [],
   "source": [
    "n=20\n",
    "X=np.random.randint(0,3,size=(n,3))\n",
    "y=np.random.randint(0,2,size=(n,1))\n",
    "# tree=ID3(X,y,verbose=False)\n",
    "# plot_tree(tree)"
   ]
  },
  {
   "cell_type": "code",
   "execution_count": null,
   "metadata": {},
   "outputs": [],
   "source": []
  },
  {
   "cell_type": "code",
   "execution_count": 4,
   "metadata": {},
   "outputs": [
    {
     "data": {
      "text/plain": [
       "1.584962500721156"
      ]
     },
     "execution_count": 4,
     "metadata": {},
     "output_type": "execute_result"
    }
   ],
   "source": [
    "def entropy_binary(p,n):\n",
    "    '''higher entropy means more equal dataset, is from 0 to 1'''\n",
    "    N=p+n\n",
    "    p/=N\n",
    "    n/=N\n",
    "\n",
    "    return -(p*np.log2(p)+n*np.log2(n))\n",
    "\n",
    "def entropy_prob(p_array):\n",
    "    '''higher entropy means more equal dataset, is from 0 to 1'''\n",
    "\n",
    "    p_=p_array.astype('float64')\n",
    "\n",
    "    N=np.sum(p_)\n",
    "    p_/=N\n",
    "    \n",
    "    return -np.sum(p_*np.log2(p_))\n",
    "\n",
    "def entropy(a):\n",
    "    x,probs=np.unique(a,return_counts=True)\n",
    "    return entropy_prob(probs)\n",
    "\n",
    "k=np.array((9,5,2))\n",
    "entropy(k)\n"
   ]
  },
  {
   "cell_type": "code",
   "execution_count": 5,
   "metadata": {},
   "outputs": [],
   "source": [
    "x=np.arange(3)"
   ]
  },
  {
   "cell_type": "code",
   "execution_count": 6,
   "metadata": {},
   "outputs": [],
   "source": [
    "a = np.random.randint(0,5,size=(4,3))\n",
    "a[:,0:1].shape\n",
    "\n",
    "def mode(x):\n",
    "    val,counts=np.unique(x,return_counts=True)\n",
    "    return val[np.argmax(counts)]\n"
   ]
  },
  {
   "cell_type": "code",
   "execution_count": null,
   "metadata": {},
   "outputs": [],
   "source": []
  },
  {
   "cell_type": "code",
   "execution_count": null,
   "metadata": {},
   "outputs": [],
   "source": []
  },
  {
   "cell_type": "code",
   "execution_count": 7,
   "metadata": {},
   "outputs": [],
   "source": [
    "def gain(S,y,*,feature_index):\n",
    "    '''calculates information gain'''\n",
    "    A=feature_index\n",
    "    old_entropy=entropy(y)\n",
    "    n,m=S.shape\n",
    "    S_A=S[:,A]\n",
    "    vals=np.unique(S_A)\n",
    "    new_entropy=0\n",
    "    for v in vals:\n",
    "        yv=y[S_A==v]\n",
    "        new_entropy+=yv.shape[0]/n*entropy(yv)\n",
    "    \n",
    "    return old_entropy-new_entropy\n",
    "\n",
    "def optimum_feature(X,y,*,features = None, ):\n",
    "    n,m=X.shape\n",
    "    \n",
    "    if features is None:\n",
    "        features=np.ones(m)\n",
    "    \n",
    "    # m=features.shape[0]\n",
    "    max_feature=None\n",
    "    max_gain=-1\n",
    "    # print(\"Gains follow : \")\n",
    "    for i in range(m):\n",
    "        if features[i]==0:\n",
    "            continue\n",
    "        gain1=gain(X,y,feature_index=i)\n",
    "        # print(i, gain1.item())\n",
    "        if i==0 or max_gain<gain1:\n",
    "            max_feature=i\n",
    "\n",
    "    return max_feature"
   ]
  },
  {
   "cell_type": "code",
   "execution_count": 8,
   "metadata": {},
   "outputs": [
    {
     "data": {
      "text/plain": [
       "2"
      ]
     },
     "execution_count": 8,
     "metadata": {},
     "output_type": "execute_result"
    }
   ],
   "source": [
    "optimum_feature(X,y,features=None)"
   ]
  },
  {
   "cell_type": "code",
   "execution_count": 9,
   "metadata": {},
   "outputs": [
    {
     "data": {
      "text/plain": [
       "(array([[44,  1,  0,  1,  1]]), array([[1, 0, 1, 1]]))"
      ]
     },
     "execution_count": 9,
     "metadata": {},
     "output_type": "execute_result"
    }
   ],
   "source": [
    "# vals,counts=np.unique(y,return_counts=1)\n",
    "# if counts.shape[0]==1:\n",
    "# #     print(counts[0])\n",
    "# print(counts.shape[0])\n",
    "\n",
    "y=np.random.randint(0,3,size=(4,1))\n",
    "# np.concatenate((y,(np.array((44,))[:,np.newaxis])),axis=0)\n",
    "# np.array((2,))[:,np.newaxis].shape\n",
    "\n",
    "def get_2d_vector(x):\n",
    "    return np.array((44,))[:,np.newaxis]\n",
    "\n",
    "def push_back(x,v):\n",
    "    return np.concatenate((v,get_2d_vector(x)),axis=0)\n",
    "    # return v\n",
    "\n",
    "def push_front(x,v):\n",
    "    \n",
    "    if len(v.shape)==1:\n",
    "        x=np.array((x,))\n",
    "    elif len(v.shape)==2:\n",
    "        x=get_2d_vector(x)\n",
    "    return np.concatenate((x,v),axis=0)\n",
    "    # return v\n",
    "\n",
    "k=push_front(y[0],y)\n",
    "k.T, y.T\n"
   ]
  },
  {
   "cell_type": "code",
   "execution_count": 10,
   "metadata": {},
   "outputs": [
    {
     "data": {
      "text/plain": [
       "2"
      ]
     },
     "execution_count": 10,
     "metadata": {},
     "output_type": "execute_result"
    }
   ],
   "source": [
    "len(np.array((32,)).shape)\n",
    "len(get_2d_vector(3).shape)"
   ]
  },
  {
   "cell_type": "code",
   "execution_count": 11,
   "metadata": {},
   "outputs": [
    {
     "data": {
      "text/plain": [
       "array([[1.],\n",
       "       [1.],\n",
       "       [1.]])"
      ]
     },
     "execution_count": 11,
     "metadata": {},
     "output_type": "execute_result"
    }
   ],
   "source": [
    "\n",
    "# def f(x,r):\n",
    "#     # return x*x+r\n",
    "#     return x[0]\n",
    "# f(y,3)\n",
    "\n",
    "# gain(y,y,feature_index=0)\n",
    "# np.where(y<2,)\n",
    "\n",
    "np.ones((3,1))"
   ]
  },
  {
   "cell_type": "code",
   "execution_count": 12,
   "metadata": {},
   "outputs": [],
   "source": [
    "np.random.seed=0\n",
    "def load_data(test_ratio=0.2,features=4):\n",
    "    \n",
    "    from sklearn.datasets import load_iris\n",
    "    iris=load_iris()\n",
    "    X=iris.data[:,:]\n",
    "    n=X.shape[0]\n",
    "    y=iris.target.reshape(n,1)\n",
    "    test_size=int(test_ratio*(X.shape[0]))\n",
    "    X_comb=np.concatenate((X,y),axis=1)\n",
    "    n=X_comb.shape[0]\n",
    "    # X_comb.sort(axis=0)\n",
    "    np.random.shuffle(X_comb)\n",
    "    cutset=np.random.choice(n,test_size,replace=False)\n",
    "    mask=np.ones(n,dtype=bool)\n",
    "    mask[cutset]=False\n",
    "    X_test_comb=X_comb[~mask]\n",
    "    X_new_comb=X_comb[mask]\n",
    "    X_new_comb.sort(axis=0)\n",
    "    X_test_comb.sort(axis=0)\n",
    "    X=X_new_comb[:,:features]\n",
    "    y=X_new_comb[:,-1:]\n",
    "\n",
    "    X_test=X_test_comb[:,:features]\n",
    "    y_test=X_test_comb[:,-1:]\n",
    "    return X,y,X_test,y_test\n"
   ]
  },
  {
   "cell_type": "code",
   "execution_count": 13,
   "metadata": {},
   "outputs": [],
   "source": [
    "X,y,X_test,y_test=load_data()"
   ]
  },
  {
   "cell_type": "code",
   "execution_count": 14,
   "metadata": {},
   "outputs": [
    {
     "data": {
      "text/plain": [
       "(120, 1)"
      ]
     },
     "execution_count": 14,
     "metadata": {},
     "output_type": "execute_result"
    }
   ],
   "source": [
    "y.shape"
   ]
  },
  {
   "cell_type": "code",
   "execution_count": 110,
   "metadata": {},
   "outputs": [],
   "source": [
    "def get_max_gain(X,y,inplace=False):\n",
    "    n,m=X.shape\n",
    "    X_=X.copy(\n",
    "\n",
    "    )\n",
    "    y_=y.copy()\n",
    "    best_threshold=None\n",
    "    best_feature=-1\n",
    "    best_gain=None\n",
    "    for i in range(m):\n",
    "        vals,counts=np.unique(X_[:,i],return_counts=True)\n",
    "       \n",
    "        ind=np.argsort(X_[:,i]).reshape(y_.shape)\n",
    "        # print(\" yo ind shape \",ind.shape)  \n",
    "        # print(\"shape of y is \",y_.shape)  \n",
    "        y_=np.take_along_axis(y_,ind,axis=0)      \n",
    "        # print(ind[:, np.newaxis].shape)\n",
    "        X_ = np.take_along_axis(X_, ind.reshape(n,1), axis=0)        \n",
    "        y2=push_front(y_[0],y_)\n",
    "        y3=y_.copy()\n",
    "        y3-=y2[:-1]\n",
    "        mask=np.where(y3!=0,True,False)        \n",
    "        r=X_[:,i:i+1]\n",
    "        r1=push_front(r[0],r)\n",
    "        r2=np.where(mask,(r+r1[:-1])/2,-1)\n",
    "        if 0:\n",
    "            print(\"r2 : \",r2.shape)\n",
    "        thresholds=np.where(r2!=-1)[0]\n",
    "        # print(\"thredhls shape \",thresholds.shape)\n",
    "        r3=[(gain(np.where(r<c,0,1),y_,feature_index=0)) for c in thresholds]\n",
    "        gain1=max(r3)\n",
    "        if 0:\n",
    "            print(thresholds.shape)\n",
    "            print(len(thresholds))\n",
    "            print((thresholds))\n",
    "            best_index=thresholds.index(best_gain)\n",
    "\n",
    "        # best_index=np.argmax(r3)\n",
    "        # best_threshold=thresholds[best_index]\n",
    "        \n",
    "        # print(\"thredhls shape \",thresholds.shape)\n",
    "        # if verbose:\n",
    "        #     print(\"gain and threshold is \", best_gain, best_threshold)\n",
    "        #     print(\" min  y  \",min(y_),np.unique(y_)\n",
    "\n",
    "        if best_gain is None or gain1>best_gain:\n",
    "            best_index=np.argmax(r3)\n",
    "            best_threshold=thresholds[best_index]\n",
    "            best_feature=-1\n",
    "            best_gain=gain1\n",
    "            \n",
    "        # r=np.where(r<best_threshold,0,1)\n",
    "\n",
    "        # X_[:,i:i+1]=r        \n",
    "        # best_thresholds[i]=best_threshold\n",
    "\n",
    "    if inplace:\n",
    "        X=X_\n",
    "        y=y_\n",
    "    \n",
    "    return best_feature,best_threshold\n",
    "\n",
    "# X=iris.data[:,:]\n",
    "# y=iris.target\n",
    "# X,y,X_test,y_test=load_data()\n",
    "# X,y,thresholds=discretize(X,y,5)\n",
    "    "
   ]
  },
  {
   "cell_type": "code",
   "execution_count": 16,
   "metadata": {},
   "outputs": [
    {
     "data": {
      "text/plain": [
       "(120, 1)"
      ]
     },
     "execution_count": 16,
     "metadata": {},
     "output_type": "execute_result"
    }
   ],
   "source": [
    "y.shape"
   ]
  },
  {
   "cell_type": "code",
   "execution_count": null,
   "metadata": {},
   "outputs": [],
   "source": []
  },
  {
   "cell_type": "code",
   "execution_count": 84,
   "metadata": {},
   "outputs": [
    {
     "data": {
      "text/plain": [
       "array([[[ 0.94345582,  1.09151281,  0.46091034],\n",
       "        [ 0.62578785,  1.25055045, -1.53212852],\n",
       "        [ 0.62035788,  0.94119757,  1.20997477],\n",
       "        [-0.44950508, -0.8791815 , -0.95383943],\n",
       "        [ 0.09457064,  0.97265687, -0.87809315],\n",
       "        [ 0.43490535,  0.77206628, -0.9737695 ],\n",
       "        [ 0.01768155,  0.7334041 ,  1.41471194],\n",
       "        [-1.38626037,  0.26755031,  1.11164443],\n",
       "        [-1.06489955, -0.39456561,  1.19396498],\n",
       "        [ 0.34735335, -1.32083466,  1.48365509],\n",
       "        [-0.14622547, -0.30469576, -0.55759739],\n",
       "        [-0.59114865,  1.07567469,  0.68134088],\n",
       "        [-0.36549543, -0.64541104,  2.01946863],\n",
       "        [-0.43182737, -0.56684646, -0.33391522],\n",
       "        [-0.18809311, -0.52850673, -0.63834166],\n",
       "        [-2.68672571,  0.90017374, -0.40973014],\n",
       "        [ 1.27270298,  0.56527525, -1.4565771 ],\n",
       "        [ 1.07977955,  0.74064674,  1.16934395],\n",
       "        [ 0.78392881, -1.72331717, -0.38341286],\n",
       "        [-0.82333748, -0.93893678,  1.88536505],\n",
       "        [-0.94560394,  0.33743464,  1.77669693],\n",
       "        [ 0.65273001,  0.39707104, -0.98673215],\n",
       "        [-0.55597732, -2.49670615,  0.2169108 ],\n",
       "        [ 0.91762767, -1.11079081,  0.05650709],\n",
       "        [-1.26108929,  0.49685895,  1.5340027 ],\n",
       "        [ 1.02734026, -1.28727095, -2.57424268],\n",
       "        [ 2.75596891,  0.35867701,  0.99639036],\n",
       "        [-0.52249946,  0.84902755,  1.1383843 ],\n",
       "        [ 0.88057064,  0.29574376, -0.07786578],\n",
       "        [-1.60890489,  0.04036594,  0.2335608 ],\n",
       "        [-0.32157547,  0.18382995,  0.41571038],\n",
       "        [-0.4478836 , -0.98379491,  1.24269551],\n",
       "        [-1.54387277,  1.53063553,  0.90548874],\n",
       "        [ 1.48412417, -0.22304955,  1.19423425],\n",
       "        [ 0.96006598, -0.4720775 ,  0.8144291 ],\n",
       "        [ 0.17827177, -1.76092487,  0.614309  ],\n",
       "        [-0.93774016, -0.53318186,  0.0647652 ],\n",
       "        [ 1.02464132, -0.42541303,  0.26773261],\n",
       "        [ 0.45020296, -0.93653515, -0.25072958],\n",
       "        [-1.2200369 ,  0.14526658,  2.44289447]],\n",
       "\n",
       "       [[-0.82525774, -0.72357146,  0.94430612],\n",
       "        [-0.82525774, -0.72357146,  0.94430612],\n",
       "        [-0.82525774, -0.72357146,  0.94430612],\n",
       "        [-0.82525774, -0.72357146,  0.94430612],\n",
       "        [-0.82525774, -0.72357146,  0.94430612],\n",
       "        [-0.82525774, -0.72357146,  0.94430612],\n",
       "        [-0.82525774, -0.72357146,  0.94430612],\n",
       "        [-0.82525774, -0.72357146,  0.94430612],\n",
       "        [-0.82525774, -0.72357146,  0.94430612],\n",
       "        [-0.82525774, -0.72357146,  0.94430612],\n",
       "        [-0.82525774, -0.72357146,  0.94430612],\n",
       "        [-0.82525774, -0.72357146,  0.94430612],\n",
       "        [-0.82525774, -0.72357146,  0.94430612],\n",
       "        [-0.82525774, -0.72357146,  0.94430612],\n",
       "        [-0.82525774, -0.72357146,  0.94430612],\n",
       "        [-0.82525774, -0.72357146,  0.94430612],\n",
       "        [-0.82525774, -0.72357146,  0.94430612],\n",
       "        [-0.82525774, -0.72357146,  0.94430612],\n",
       "        [-0.82525774, -0.72357146,  0.94430612],\n",
       "        [-0.82525774, -0.72357146,  0.94430612],\n",
       "        [-0.82525774, -0.72357146,  0.94430612],\n",
       "        [-0.82525774, -0.72357146,  0.94430612],\n",
       "        [-0.82525774, -0.72357146,  0.94430612],\n",
       "        [-0.82525774, -0.72357146,  0.94430612],\n",
       "        [-0.82525774, -0.72357146,  0.94430612],\n",
       "        [-0.82525774, -0.72357146,  0.94430612],\n",
       "        [-0.82525774, -0.72357146,  0.94430612],\n",
       "        [-0.82525774, -0.72357146,  0.94430612],\n",
       "        [-0.82525774, -0.72357146,  0.94430612],\n",
       "        [-0.82525774, -0.72357146,  0.94430612],\n",
       "        [-0.82525774, -0.72357146,  0.94430612],\n",
       "        [-0.82525774, -0.72357146,  0.94430612],\n",
       "        [-0.82525774, -0.72357146,  0.94430612],\n",
       "        [-0.82525774, -0.72357146,  0.94430612],\n",
       "        [-0.82525774, -0.72357146,  0.94430612],\n",
       "        [-0.82525774, -0.72357146,  0.94430612],\n",
       "        [-0.82525774, -0.72357146,  0.94430612],\n",
       "        [-0.82525774, -0.72357146,  0.94430612],\n",
       "        [-0.82525774, -0.72357146,  0.94430612],\n",
       "        [-0.82525774, -0.72357146,  0.94430612]]])"
      ]
     },
     "execution_count": 84,
     "metadata": {},
     "output_type": "execute_result"
    }
   ],
   "source": [
    "mask=np.where(y>1)\n",
    "mask\n",
    "x1[mask,:]\n",
    "# # X1[81:84,:]\n",
    "# x1[81:84,:]\n",
    "\n"
   ]
  },
  {
   "cell_type": "markdown",
   "metadata": {},
   "source": [
    "X"
   ]
  },
  {
   "cell_type": "code",
   "execution_count": 138,
   "metadata": {},
   "outputs": [],
   "source": [
    "\n",
    "k=1\n",
    "X1=[]\n",
    "y1=[]\n",
    "f1=[]\n",
    "f0=2\n",
    "\n",
    "maxh =7\n",
    "h=1\n",
    "verbose=False\n",
    "def ID3(X,y):\n",
    "    global h\n",
    "    h+=1\n",
    "    \n",
    "    '''features = -1 to include all features, else pass features array'''\n",
    "    \n",
    "        \n",
    "    n,m=X.shape\n",
    "    # if features is None:\n",
    "    #     features=np.ones((m,1))\n",
    "    \n",
    "    root=Node()\n",
    "    root.samples=n\n",
    "    root.isroot=True\n",
    "    root.isleaf=True\n",
    "\n",
    "    vals,counts=np.unique(y,return_counts=1)\n",
    "    if counts.shape[0]==1:\n",
    "        root.value=y[0]\n",
    "        if verbose:\n",
    "            print(\"single target class left\",root.value)\n",
    "        \n",
    "        return root\n",
    "    if h>maxh:\n",
    "        root.value=mode(y)\n",
    "        if verbose:\n",
    "            print(\"single target class left\",root.value)\n",
    "        \n",
    "        return root\n",
    "    \n",
    "    \n",
    "    root.isleaf=False\n",
    "    root.feature_index,root.threshold=get_max_gain(X,y)\n",
    "    # feature_index=optimum_feature(X,y,features=features)\n",
    "    # root.feature_index=feature_index\n",
    "    \n",
    "    # r=np.where(r<best_threshold,0,1)\n",
    "    mask=np.where(X[:,root.feature_index]<root.threshold)\n",
    "    print(\"hi\")\n",
    "    if (y[mask].shape[0]>0):\n",
    "        \n",
    "        print(\"shape of y is \",y[mask].shape[0])  \n",
    "        root.left=ID3(X[mask],y[mask])\n",
    "        (root.left).true_cond=True\n",
    "    if (y[mask].shape[0]>0):\n",
    "        print(\"shape of y is \",y[mask].shape[0])  \n",
    "        root.right=ID3(X[mask],y[mask])\n",
    "        (root.right).true_cond=False\n",
    "\n",
    "    return root\n",
    "        \n",
    "        # new_entropy+=yv.shape[0]/n*entropy(yv)\n",
    "    \n",
    "\n",
    "\n",
    "        \n",
    "        \n",
    "    "
   ]
  },
  {
   "cell_type": "code",
   "execution_count": 142,
   "metadata": {},
   "outputs": [],
   "source": [
    "def train(X,y,model='ID3'):\n",
    "    \n",
    "    if model=='ID3':\n",
    "\n",
    "        tree= ID3(X,y)\n",
    "        return tree, plot_tree(tree)\n",
    "         "
   ]
  },
  {
   "cell_type": "code",
   "execution_count": 19,
   "metadata": {},
   "outputs": [
    {
     "data": {
      "text/plain": [
       "array([1., 1., 1., 1.])"
      ]
     },
     "execution_count": 19,
     "metadata": {},
     "output_type": "execute_result"
    }
   ],
   "source": [
    "X[2,:]"
   ]
  },
  {
   "cell_type": "code",
   "execution_count": 20,
   "metadata": {},
   "outputs": [],
   "source": [
    "def pred_node(root,x)\n",
    "    if root.isleaf:\n",
    "        # print(\"yo im at \",root.value)\n",
    "        return root.value\n",
    "    \n",
    "    val=x[root.feature_index]-root.threshold\n",
    "    k=-12\n",
    "    # for child in root.children:\n",
    "        if (root.left).cond==(val<0):\n",
    "            return pred_node(root.left,x)\n",
    "        else:\n",
    "            return pred_node(root.right,x)\n",
    "        \n",
    "    \n",
    "    \n",
    "def pred(X,tree,*,discrete,thresholds):\n",
    "    n,m=X.shape\n",
    "    # tree, plot2=train(X,y,verbose=False,discrete=True,maxbins=5,plotting=True,render_flag=False)\n",
    "\n",
    "    pred_=np.ones((n,1))\n",
    "    for i in range(n):\n",
    "        x=X[i,:]\n",
    "        pred_[i]=pred_node(tree,x,discrete=discrete,thresholds=thresholds)\n",
    "    return pred_\n",
    "    \n",
    "\n",
    "def test(X,y,tree):\n",
    "    pred_=pred(X,tree)\n",
    "    # return np.count_nonzero(pred_!=y)/y.shape[0]\n",
    "    n=pred_.shape[0]\n",
    "    # print\n",
    "    # a1=[0,0,0]\n",
    "    correct=0\n",
    "    for i in range(n):\n",
    "        # pass\n",
    "        if (y[i]==pred_[i]):\n",
    "            correct+=1\n",
    "    return correct/n\n",
    "    # for\n",
    "\n",
    "# pred1=(pred(X,tree,discrete=discrete_flag,thresholds=thresholds))\n",
    "# print(test(X,y,tree,discrete=discrete_flag,thresholds=threholds))"
   ]
  },
  {
   "cell_type": "code",
   "execution_count": null,
   "metadata": {},
   "outputs": [],
   "source": []
  },
  {
   "cell_type": "code",
   "execution_count": null,
   "metadata": {},
   "outputs": [],
   "source": []
  },
  {
   "cell_type": "code",
   "execution_count": 145,
   "metadata": {},
   "outputs": [],
   "source": [
    "\n",
    "# X=iris.data[:,:]\n",
    "# y=iris.target\n",
    "# X,y,X_test,y_test=load_data()\n",
    "# without discretizing\n",
    "discrete_flag=True\n",
    "tree , plot2=train(X,y)\n",
    "# print(\"training accuracy\",test(X,y,tree,discrete=discrete_flag,thresholds=thresholds))\n",
    "# plot2\n",
    "\n",
    "\n",
    "# print(\"testing accuracy\",test(X_test,y_test,tree,discrete=discrete_flag,thresholds=thresholds))\n",
    "# pred1=(pred(X_test,tree,discrete=discrete_flag,thresholds=thresholds))\n",
    "# plot2"
   ]
  },
  {
   "cell_type": "code",
   "execution_count": 22,
   "metadata": {},
   "outputs": [
    {
     "data": {
      "text/plain": [
       "array([[1., 1., 1., 1.],\n",
       "       [1., 1., 1., 1.],\n",
       "       [1., 1., 1., 1.],\n",
       "       [1., 1., 1., 1.],\n",
       "       [1., 1., 1., 1.],\n",
       "       [1., 1., 1., 1.],\n",
       "       [1., 1., 1., 1.],\n",
       "       [1., 1., 1., 1.],\n",
       "       [1., 1., 1., 1.],\n",
       "       [1., 1., 1., 1.],\n",
       "       [1., 1., 1., 1.],\n",
       "       [1., 1., 1., 1.],\n",
       "       [1., 1., 1., 1.],\n",
       "       [1., 1., 1., 1.],\n",
       "       [1., 1., 1., 1.],\n",
       "       [1., 1., 1., 1.],\n",
       "       [1., 1., 1., 1.],\n",
       "       [1., 1., 1., 1.],\n",
       "       [1., 1., 1., 1.],\n",
       "       [1., 1., 1., 1.],\n",
       "       [1., 1., 1., 1.],\n",
       "       [1., 1., 1., 1.],\n",
       "       [1., 1., 1., 1.],\n",
       "       [1., 1., 1., 1.],\n",
       "       [1., 1., 1., 1.],\n",
       "       [1., 1., 1., 1.],\n",
       "       [1., 1., 1., 1.],\n",
       "       [1., 1., 1., 1.],\n",
       "       [1., 1., 1., 1.],\n",
       "       [1., 1., 1., 1.],\n",
       "       [1., 1., 1., 1.],\n",
       "       [1., 1., 1., 1.],\n",
       "       [1., 1., 1., 1.],\n",
       "       [1., 1., 1., 1.],\n",
       "       [1., 1., 1., 1.],\n",
       "       [1., 1., 1., 1.],\n",
       "       [1., 1., 1., 1.],\n",
       "       [1., 1., 1., 1.],\n",
       "       [1., 1., 1., 1.],\n",
       "       [1., 1., 1., 1.],\n",
       "       [1., 1., 1., 1.],\n",
       "       [1., 1., 1., 1.],\n",
       "       [1., 1., 1., 1.],\n",
       "       [1., 1., 1., 1.],\n",
       "       [1., 1., 1., 1.],\n",
       "       [1., 1., 1., 1.],\n",
       "       [1., 1., 1., 1.],\n",
       "       [1., 1., 1., 1.],\n",
       "       [1., 1., 1., 1.],\n",
       "       [1., 1., 1., 1.],\n",
       "       [1., 1., 1., 1.],\n",
       "       [1., 1., 1., 1.],\n",
       "       [1., 1., 1., 1.],\n",
       "       [1., 1., 1., 1.],\n",
       "       [1., 1., 1., 1.],\n",
       "       [1., 1., 1., 1.],\n",
       "       [1., 1., 1., 1.],\n",
       "       [1., 1., 1., 1.],\n",
       "       [1., 1., 1., 1.],\n",
       "       [1., 1., 1., 1.],\n",
       "       [1., 1., 1., 1.],\n",
       "       [1., 1., 1., 1.],\n",
       "       [1., 1., 1., 1.],\n",
       "       [1., 1., 1., 1.],\n",
       "       [1., 1., 1., 1.],\n",
       "       [1., 1., 1., 1.],\n",
       "       [1., 1., 1., 1.],\n",
       "       [1., 1., 1., 1.],\n",
       "       [1., 1., 1., 1.],\n",
       "       [1., 1., 1., 1.],\n",
       "       [1., 1., 1., 1.],\n",
       "       [1., 1., 1., 1.],\n",
       "       [1., 1., 1., 1.],\n",
       "       [1., 1., 1., 1.],\n",
       "       [1., 1., 1., 1.],\n",
       "       [1., 1., 1., 1.],\n",
       "       [1., 1., 1., 1.],\n",
       "       [1., 1., 1., 1.],\n",
       "       [1., 1., 1., 1.],\n",
       "       [1., 1., 1., 1.],\n",
       "       [1., 1., 1., 1.],\n",
       "       [1., 1., 1., 1.],\n",
       "       [1., 1., 1., 1.],\n",
       "       [1., 1., 1., 1.],\n",
       "       [1., 1., 1., 1.],\n",
       "       [1., 1., 1., 1.],\n",
       "       [1., 1., 1., 1.],\n",
       "       [1., 1., 1., 1.],\n",
       "       [1., 1., 1., 1.],\n",
       "       [1., 1., 1., 1.],\n",
       "       [1., 1., 1., 1.],\n",
       "       [1., 1., 1., 1.],\n",
       "       [1., 1., 1., 1.],\n",
       "       [1., 1., 1., 1.],\n",
       "       [1., 1., 1., 1.],\n",
       "       [1., 1., 1., 1.],\n",
       "       [1., 1., 1., 1.],\n",
       "       [1., 1., 1., 1.],\n",
       "       [1., 1., 1., 1.],\n",
       "       [1., 1., 1., 1.],\n",
       "       [1., 1., 1., 1.],\n",
       "       [1., 1., 1., 1.],\n",
       "       [1., 1., 1., 1.],\n",
       "       [1., 1., 1., 1.],\n",
       "       [1., 1., 1., 1.],\n",
       "       [1., 1., 1., 1.],\n",
       "       [1., 1., 1., 1.],\n",
       "       [1., 1., 1., 1.],\n",
       "       [1., 1., 1., 1.],\n",
       "       [1., 1., 1., 1.],\n",
       "       [1., 1., 1., 1.],\n",
       "       [1., 1., 1., 1.],\n",
       "       [1., 1., 1., 1.],\n",
       "       [1., 1., 1., 1.],\n",
       "       [1., 1., 1., 1.],\n",
       "       [1., 1., 1., 1.],\n",
       "       [1., 1., 1., 1.],\n",
       "       [1., 1., 1., 1.],\n",
       "       [1., 1., 1., 1.],\n",
       "       [1., 1., 1., 1.]])"
      ]
     },
     "execution_count": 22,
     "metadata": {},
     "output_type": "execute_result"
    }
   ],
   "source": [
    "X"
   ]
  },
  {
   "cell_type": "code",
   "execution_count": 148,
   "metadata": {},
   "outputs": [
    {
     "name": "stdout",
     "output_type": "stream",
     "text": [
      " yo ind shape  (120,)\n",
      "(120,)\n",
      " yo ind shape  (120,)\n",
      "(120,)\n",
      " yo ind shape  (120,)\n",
      "(120,)\n",
      " yo ind shape  (120,)\n",
      "(120,)\n",
      "testing accuracy 0.26666666666666666\n"
     ]
    },
    {
     "data": {
      "image/svg+xml": [
       "<?xml version=\"1.0\" encoding=\"UTF-8\" standalone=\"no\"?>\n",
       "<!DOCTYPE svg PUBLIC \"-//W3C//DTD SVG 1.1//EN\"\n",
       " \"http://www.w3.org/Graphics/SVG/1.1/DTD/svg11.dtd\">\n",
       "<!-- Generated by graphviz version 9.0.0 (20230911.1827)\n",
       " -->\n",
       "<!-- Pages: 1 -->\n",
       "<svg width=\"64pt\" height=\"44pt\"\n",
       " viewBox=\"0.00 0.00 63.75 44.00\" xmlns=\"http://www.w3.org/2000/svg\" xmlns:xlink=\"http://www.w3.org/1999/xlink\">\n",
       "<g id=\"graph0\" class=\"graph\" transform=\"scale(1 1) rotate(0) translate(4 40)\">\n",
       "<polygon fill=\"white\" stroke=\"none\" points=\"-4,4 -4,-40 59.75,-40 59.75,4 -4,4\"/>\n",
       "<!-- 0 -->\n",
       "<g id=\"node1\" class=\"node\">\n",
       "<title>0</title>\n",
       "<polygon fill=\"none\" stroke=\"black\" points=\"55.75,-36 0,-36 0,0 55.75,0 55.75,-36\"/>\n",
       "<text text-anchor=\"middle\" x=\"27.88\" y=\"-12.57\" font-family=\"Times New Roman,serif\" font-size=\"14.00\">XNone</text>\n",
       "</g>\n",
       "</g>\n",
       "</svg>\n"
      ],
      "text/plain": [
       "<graphviz.graphs.Digraph at 0x2bfbfcd66d0>"
      ]
     },
     "execution_count": 148,
     "metadata": {},
     "output_type": "execute_result"
    }
   ],
   "source": [
    "# with discretizing\n",
    "# X=iris.data[:,:]\n",
    "# y=iris.target\n",
    "X,y,X_test,y_test=load_data()\n",
    "MAXBINS=3\n",
    "y=y.flatten()\n",
    "y_test=y_test.flatten()\n",
    "# y=y.reshape((n,0))\n",
    "X,y,threholds=discretize(X,y,MAXBINS)\n",
    "discrete_flag=False\n",
    "tree , plot1=train(X,y)\n",
    "print(\"testing accuracy\", test(X_test,y_test,tree,discrete=discrete_flag,thresholds=threholds))\n",
    "pred1=(pred(X_test,tree,discrete=discrete_flag,thresholds=thresholds))\n",
    "plot1\n"
   ]
  },
  {
   "cell_type": "code",
   "execution_count": null,
   "metadata": {},
   "outputs": [],
   "source": []
  },
  {
   "cell_type": "code",
   "execution_count": 25,
   "metadata": {},
   "outputs": [
    {
     "name": "stdout",
     "output_type": "stream",
     "text": [
      "30\n",
      "1.0 [0.]\n",
      "1.0 [0.]\n",
      "1.0 [0.]\n",
      "1.0 [0.]\n",
      "1.0 [0.]\n",
      "1.0 [0.]\n",
      "1.0 [0.]\n",
      "1.0 [0.]\n",
      "1.0 [0.]\n",
      "1.0 [0.]\n",
      "2.0 [0.]\n",
      "2.0 [0.]\n",
      "2.0 [0.]\n",
      "2.0 [0.]\n",
      "2.0 [0.]\n",
      "2.0 [0.]\n",
      "2.0 [0.]\n",
      "2.0 [0.]\n",
      "2.0 [0.]\n",
      "2.0 [0.]\n",
      "2.0 [0.]\n"
     ]
    }
   ],
   "source": [
    "\n",
    "n1=y_test.shape[0]\n",
    "print(n1)\n",
    "correct=0\n",
    "for i in range(n1):\n",
    "    \n",
    "    if (y_test[i]==pred1[i]):\n",
    "        correct+=1\n",
    "    else:\n",
    "        print(y_test[i],pred1[i])\n",
    "\n",
    "        \n",
    "    # return correct/n"
   ]
  },
  {
   "cell_type": "code",
   "execution_count": 26,
   "metadata": {},
   "outputs": [
    {
     "data": {
      "text/plain": [
       "array([[0.],\n",
       "       [0.],\n",
       "       [0.],\n",
       "       [0.],\n",
       "       [0.],\n",
       "       [0.],\n",
       "       [0.],\n",
       "       [0.],\n",
       "       [0.],\n",
       "       [0.],\n",
       "       [0.],\n",
       "       [0.],\n",
       "       [0.],\n",
       "       [0.],\n",
       "       [0.],\n",
       "       [0.],\n",
       "       [0.],\n",
       "       [0.],\n",
       "       [0.],\n",
       "       [0.],\n",
       "       [0.],\n",
       "       [0.],\n",
       "       [0.],\n",
       "       [0.],\n",
       "       [0.],\n",
       "       [0.],\n",
       "       [0.],\n",
       "       [0.],\n",
       "       [0.],\n",
       "       [0.]])"
      ]
     },
     "execution_count": 26,
     "metadata": {},
     "output_type": "execute_result"
    }
   ],
   "source": [
    "pred1"
   ]
  },
  {
   "cell_type": "code",
   "execution_count": 27,
   "metadata": {},
   "outputs": [
    {
     "data": {
      "text/plain": [
       "((30, 4), (30,))"
      ]
     },
     "execution_count": 27,
     "metadata": {},
     "output_type": "execute_result"
    }
   ],
   "source": [
    "X_test.shape,y_test.shape"
   ]
  },
  {
   "cell_type": "code",
   "execution_count": 28,
   "metadata": {},
   "outputs": [
    {
     "data": {
      "text/plain": [
       "(120,)"
      ]
     },
     "execution_count": 28,
     "metadata": {},
     "output_type": "execute_result"
    }
   ],
   "source": [
    "y.flatten().shape\n",
    "y.shape"
   ]
  },
  {
   "cell_type": "code",
   "execution_count": null,
   "metadata": {},
   "outputs": [],
   "source": []
  },
  {
   "cell_type": "code",
   "execution_count": 29,
   "metadata": {},
   "outputs": [
    {
     "data": {
      "text/plain": [
       "((120, 4), (120,))"
      ]
     },
     "execution_count": 29,
     "metadata": {},
     "output_type": "execute_result"
    }
   ],
   "source": [
    "X.shape,y.shape"
   ]
  },
  {
   "cell_type": "code",
   "execution_count": null,
   "metadata": {},
   "outputs": [],
   "source": []
  },
  {
   "cell_type": "code",
   "execution_count": 30,
   "metadata": {},
   "outputs": [
    {
     "data": {
      "text/plain": [
       "array([0., 1., 2.])"
      ]
     },
     "execution_count": 30,
     "metadata": {},
     "output_type": "execute_result"
    }
   ],
   "source": [
    "np.unique(y)"
   ]
  },
  {
   "cell_type": "code",
   "execution_count": null,
   "metadata": {},
   "outputs": [],
   "source": []
  },
  {
   "cell_type": "code",
   "execution_count": 31,
   "metadata": {},
   "outputs": [
    {
     "name": "stdout",
     "output_type": "stream",
     "text": [
      "81 / 120  correct\n",
      "accuracy =  67.5 %\n"
     ]
    }
   ],
   "source": [
    "correct=np.count_nonzero(X[:,3]==y)\n",
    "total=y.shape[0]\n",
    "# accuracy=np.count_nonzero(X[:,3]==y)/y.shape[0]\n",
    "accuracy=correct/total\n",
    "print(correct,\"/\",total, \" correct\")\n",
    "print( \"accuracy = \",round(accuracy*100,2), \"%\")"
   ]
  },
  {
   "cell_type": "code",
   "execution_count": null,
   "metadata": {},
   "outputs": [],
   "source": []
  },
  {
   "cell_type": "code",
   "execution_count": null,
   "metadata": {},
   "outputs": [],
   "source": []
  },
  {
   "cell_type": "code",
   "execution_count": null,
   "metadata": {},
   "outputs": [],
   "source": []
  },
  {
   "cell_type": "code",
   "execution_count": null,
   "metadata": {},
   "outputs": [],
   "source": []
  },
  {
   "cell_type": "code",
   "execution_count": null,
   "metadata": {},
   "outputs": [],
   "source": []
  },
  {
   "cell_type": "code",
   "execution_count": null,
   "metadata": {},
   "outputs": [],
   "source": []
  },
  {
   "cell_type": "code",
   "execution_count": null,
   "metadata": {},
   "outputs": [],
   "source": []
  },
  {
   "cell_type": "code",
   "execution_count": null,
   "metadata": {},
   "outputs": [],
   "source": []
  },
  {
   "cell_type": "code",
   "execution_count": null,
   "metadata": {},
   "outputs": [],
   "source": []
  },
  {
   "cell_type": "code",
   "execution_count": null,
   "metadata": {},
   "outputs": [],
   "source": []
  },
  {
   "cell_type": "code",
   "execution_count": 32,
   "metadata": {},
   "outputs": [],
   "source": [
    "S=np.array((9,5))\n",
    "# S=np.array((9,5))\n"
   ]
  },
  {
   "cell_type": "code",
   "execution_count": 33,
   "metadata": {},
   "outputs": [],
   "source": [
    "# example\n",
    "\n",
    "# Create a Digraph object\n",
    "dot = graphviz.Digraph()\n",
    "\n",
    "# # Add nodes\n",
    "dot.node('A', 'Feature 1 <= 5')\n",
    "dot.node('B', 'Class 0')\n",
    "dot.node('C', 'Feature 1 > 5')\n",
    "dot.node('D', 'Feature 2 <= 3')\n",
    "dot.node('E', 'Class 1')\n",
    "dot.node('F', 'Class 2')\n",
    "\n",
    "# # Add edges\n",
    "dot.edge('A', 'B', label='True')\n",
    "dot.edge('A', 'C', label='False')\n",
    "dot.edge('C', 'D', label='True')\n",
    "dot.edge('C', 'F', label='False')\n",
    "dot.edge('D', 'E', label='True')\n",
    "dot.edge('D', 'F', label='False')\n",
    "\n",
    "# Render the graph\n",
    "# dot.render('sample_tree', format='png', cleanup=True,view=True)\n",
    "# graph.render(directory='doctest-output', view=True) #for saving"
   ]
  },
  {
   "cell_type": "code",
   "execution_count": null,
   "metadata": {},
   "outputs": [],
   "source": []
  },
  {
   "cell_type": "code",
   "execution_count": null,
   "metadata": {},
   "outputs": [],
   "source": []
  },
  {
   "cell_type": "code",
   "execution_count": null,
   "metadata": {},
   "outputs": [],
   "source": []
  },
  {
   "cell_type": "code",
   "execution_count": null,
   "metadata": {},
   "outputs": [],
   "source": []
  }
 ],
 "metadata": {
  "kernelspec": {
   "display_name": "Python 3",
   "language": "python",
   "name": "python3"
  },
  "language_info": {
   "codemirror_mode": {
    "name": "ipython",
    "version": 3
   },
   "file_extension": ".py",
   "mimetype": "text/x-python",
   "name": "python",
   "nbconvert_exporter": "python",
   "pygments_lexer": "ipython3",
   "version": "3.11.2"
  }
 },
 "nbformat": 4,
 "nbformat_minor": 2
}
