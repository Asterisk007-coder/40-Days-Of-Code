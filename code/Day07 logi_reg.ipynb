{
 "cells": [
  {
   "cell_type": "code",
   "execution_count": 1,
   "metadata": {},
   "outputs": [],
   "source": [
    "import numpy as np\n",
    "import pandas as pd\n",
    "# im\n",
    "import matplotlib.pyplot as plt\n",
    "import seaborn as sns\n",
    "\n",
    "import matplotlib.patches as mpatch"
   ]
  },
  {
   "cell_type": "code",
   "execution_count": 2,
   "metadata": {},
   "outputs": [],
   "source": [
    "np.random.seed(0)\n",
    "n=100\n",
    "m=2\n",
    "\n",
    "\n",
    "def plot_data(X,y,colors,xlab,ylab,title='Closed form solution',pltobj=None):\n",
    "    colors_=['red' if val==1 else 'blue' for val in colors]\n",
    "    if pltobj is None:\n",
    "        pltobj=plt\n",
    "        # pltobj.scatter(X,y)\n",
    "        pltobj.scatter(X,y,c=colors_,s=20)\n",
    "        # print()\n",
    "        pltobj.xlabel(xlab)\n",
    "        pltobj.ylabel(ylab)\n",
    "        pltobj.title(title)\n",
    "        \n",
    "    else:\n",
    "        pltobj.scatter(X,y,colors=colors_)\n",
    "\n",
    "        pltobj.set_xlabel('X')\n",
    "        pltobj.set_ylabel('y')\n",
    "        pltobj.set_title(title)\n",
    "\n",
    "def random_data(n,m=2,a=3,b=4,plotting=False):\n",
    "    '''generate random linear data of given shape with some gaussian noise'''\n",
    "\n",
    "    X=np.random.rand(n,m) #returns random value in a given shape, in this case nx1 (uniform probability distribution)\n",
    "    h=b + a*X+ np.random.randn(n,1) #the randn function is similar. except it generates gaussian noise\n",
    "    if plotting==True:\n",
    "        # plot_data(X,h,title='Data')\n",
    "        plt.show()\n",
    "\n",
    "    a=-0.7\n",
    "    b=0.9\n",
    "    # b=4\n",
    "    X=np.random.rand(n,m) #returns random value in a given shape, in this case nx1 (uniform probability distribution)\n",
    "    h= a*X[:,0:1]+b*X[:,1:2] + np.random.randn(n,1)\n",
    "    ind=np.argsort(X[:,0],axis=0)\n",
    "    # X[:,0]=np.take_along_axis(X[:,0],ind,axis=0)\n",
    "    # h=np.take_along_axis(h,ind,axis=0)\n",
    "\n",
    "    prob=1/(1+np.exp(h))\n",
    "    y=np.random.binomial(1,prob)\n",
    "    return X,y\n",
    "    # np.sum(y) #sum is 43 so somewhat equally likely\n",
    "\n",
    "\n",
    "\n",
    "    # return X,y\n"
   ]
  },
  {
   "cell_type": "code",
   "execution_count": 3,
   "metadata": {},
   "outputs": [],
   "source": [
    "from sklearn import datasets\n",
    "iris=datasets.load_iris()\n"
   ]
  },
  {
   "cell_type": "code",
   "execution_count": 88,
   "metadata": {},
   "outputs": [
    {
     "name": "stdout",
     "output_type": "stream",
     "text": [
      "(150, 2) (150, 1)\n"
     ]
    }
   ],
   "source": [
    "# iris.keys()\n",
    "X=iris['data'][:,2:]\n",
    "n,m=X.shape\n",
    "y=(iris['target']==2).astype(int).reshape(n,1)\n",
    "print(X.shape, y.shape)"
   ]
  },
  {
   "cell_type": "code",
   "execution_count": null,
   "metadata": {},
   "outputs": [],
   "source": [
    "test_size=0.2*(X.shape[0])\n",
    "X_test"
   ]
  },
  {
   "cell_type": "code",
   "execution_count": 89,
   "metadata": {},
   "outputs": [],
   "source": [
    "X_comb=np.concatenate((X,y),axis=1)\n",
    "X_comb.sort(axis=0)\n",
    "X=X_comb[:,:2]\n",
    "y=X_comb[:,2:]"
   ]
  },
  {
   "cell_type": "code",
   "execution_count": 87,
   "metadata": {},
   "outputs": [
    {
     "data": {
      "text/plain": [
       "array([[0.1, 1. ],\n",
       "       [0.1, 1.1],\n",
       "       [0.1, 1.2],\n",
       "       [0.1, 1.2],\n",
       "       [0.1, 1.3],\n",
       "       [0.2, 1.3],\n",
       "       [0.2, 1.3],\n",
       "       [0.2, 1.3],\n",
       "       [0.2, 1.3],\n",
       "       [0.2, 1.3],\n",
       "       [0.2, 1.3],\n",
       "       [0.2, 1.4],\n",
       "       [0.2, 1.4],\n",
       "       [0.2, 1.4],\n",
       "       [0.2, 1.4],\n",
       "       [0.2, 1.4],\n",
       "       [0.2, 1.4],\n",
       "       [0.2, 1.4],\n",
       "       [0.2, 1.4],\n",
       "       [0.2, 1.4],\n",
       "       [0.2, 1.4],\n",
       "       [0.2, 1.4],\n",
       "       [0.2, 1.4],\n",
       "       [0.2, 1.4],\n",
       "       [0.2, 1.5],\n",
       "       [0.2, 1.5],\n",
       "       [0.2, 1.5],\n",
       "       [0.2, 1.5],\n",
       "       [0.2, 1.5],\n",
       "       [0.2, 1.5],\n",
       "       [0.2, 1.5],\n",
       "       [0.2, 1.5],\n",
       "       [0.2, 1.5],\n",
       "       [0.2, 1.5],\n",
       "       [0.3, 1.5],\n",
       "       [0.3, 1.5],\n",
       "       [0.3, 1.5],\n",
       "       [0.3, 1.6],\n",
       "       [0.3, 1.6],\n",
       "       [0.3, 1.6],\n",
       "       [0.3, 1.6],\n",
       "       [0.4, 1.6],\n",
       "       [0.4, 1.6],\n",
       "       [0.4, 1.6],\n",
       "       [0.4, 1.7],\n",
       "       [0.4, 1.7],\n",
       "       [0.4, 1.7],\n",
       "       [0.4, 1.7],\n",
       "       [0.5, 1.9],\n",
       "       [0.6, 1.9],\n",
       "       [1. , 3. ],\n",
       "       [1. , 3.3],\n",
       "       [1. , 3.3],\n",
       "       [1. , 3.5],\n",
       "       [1. , 3.5],\n",
       "       [1. , 3.6],\n",
       "       [1. , 3.7],\n",
       "       [1.1, 3.8],\n",
       "       [1.1, 3.9],\n",
       "       [1.1, 3.9],\n",
       "       [1.2, 3.9],\n",
       "       [1.2, 4. ],\n",
       "       [1.2, 4. ],\n",
       "       [1.2, 4. ],\n",
       "       [1.2, 4. ],\n",
       "       [1.3, 4. ],\n",
       "       [1.3, 4.1],\n",
       "       [1.3, 4.1],\n",
       "       [1.3, 4.1],\n",
       "       [1.3, 4.2],\n",
       "       [1.3, 4.2],\n",
       "       [1.3, 4.2],\n",
       "       [1.3, 4.2],\n",
       "       [1.3, 4.3],\n",
       "       [1.3, 4.3],\n",
       "       [1.3, 4.4],\n",
       "       [1.3, 4.4],\n",
       "       [1.3, 4.4],\n",
       "       [1.4, 4.4],\n",
       "       [1.4, 4.5],\n",
       "       [1.4, 4.5],\n",
       "       [1.4, 4.5],\n",
       "       [1.4, 4.5],\n",
       "       [1.4, 4.5],\n",
       "       [1.4, 4.5],\n",
       "       [1.4, 4.5],\n",
       "       [1.5, 4.5],\n",
       "       [1.5, 4.6],\n",
       "       [1.5, 4.6],\n",
       "       [1.5, 4.6],\n",
       "       [1.5, 4.7],\n",
       "       [1.5, 4.7],\n",
       "       [1.5, 4.7],\n",
       "       [1.5, 4.7],\n",
       "       [1.5, 4.7],\n",
       "       [1.5, 4.8],\n",
       "       [1.5, 4.8],\n",
       "       [1.5, 4.8],\n",
       "       [1.6, 4.8],\n",
       "       [1.6, 4.9],\n",
       "       [1.6, 4.9],\n",
       "       [1.6, 4.9],\n",
       "       [1.7, 4.9],\n",
       "       [1.7, 4.9],\n",
       "       [1.8, 5. ],\n",
       "       [1.8, 5. ],\n",
       "       [1.8, 5. ],\n",
       "       [1.8, 5. ],\n",
       "       [1.8, 5.1],\n",
       "       [1.8, 5.1],\n",
       "       [1.8, 5.1],\n",
       "       [1.8, 5.1],\n",
       "       [1.8, 5.1],\n",
       "       [1.8, 5.1],\n",
       "       [1.8, 5.1],\n",
       "       [1.8, 5.1],\n",
       "       [1.9, 5.2],\n",
       "       [1.9, 5.2],\n",
       "       [1.9, 5.3],\n",
       "       [1.9, 5.3],\n",
       "       [1.9, 5.4],\n",
       "       [2. , 5.4],\n",
       "       [2. , 5.5],\n",
       "       [2. , 5.5],\n",
       "       [2. , 5.5],\n",
       "       [2. , 5.6],\n",
       "       [2. , 5.6],\n",
       "       [2.1, 5.6],\n",
       "       [2.1, 5.6],\n",
       "       [2.1, 5.6],\n",
       "       [2.1, 5.6],\n",
       "       [2.1, 5.7],\n",
       "       [2.1, 5.7],\n",
       "       [2.2, 5.7],\n",
       "       [2.2, 5.8],\n",
       "       [2.2, 5.8],\n",
       "       [2.3, 5.8],\n",
       "       [2.3, 5.9],\n",
       "       [2.3, 5.9],\n",
       "       [2.3, 6. ],\n",
       "       [2.3, 6. ],\n",
       "       [2.3, 6.1],\n",
       "       [2.3, 6.1],\n",
       "       [2.3, 6.1],\n",
       "       [2.4, 6.3],\n",
       "       [2.4, 6.4],\n",
       "       [2.4, 6.6],\n",
       "       [2.5, 6.7],\n",
       "       [2.5, 6.7],\n",
       "       [2.5, 6.9]])"
      ]
     },
     "execution_count": 87,
     "metadata": {},
     "output_type": "execute_result"
    }
   ],
   "source": []
  },
  {
   "cell_type": "code",
   "execution_count": 198,
   "metadata": {},
   "outputs": [
    {
     "data": {
      "text/plain": [
       "array([6.05483556e-06, 8.62865599e-06, 1.22965557e-05, 1.75235919e-05,\n",
       "       2.49724882e-05, 3.55876349e-05, 5.07147718e-05, 7.22714941e-05,\n",
       "       1.02990131e-04, 1.46763655e-04, 2.09138190e-04, 2.98013993e-04,\n",
       "       4.24642602e-04, 6.05044189e-04, 8.62019974e-04, 1.22800501e-03,\n",
       "       1.74910310e-03, 2.49077525e-03, 3.54582153e-03, 5.04550544e-03,\n",
       "       7.17490453e-03, 1.01937852e-02, 1.44643709e-02, 2.04870451e-02,\n",
       "       2.89437920e-02, 4.07461456e-02, 5.70782381e-02, 7.94146926e-02,\n",
       "       1.09477223e-01, 1.49077081e-01, 1.99787352e-01, 2.62427443e-01,\n",
       "       3.36449764e-01, 4.19476785e-01, 5.07327601e-01, 5.94728218e-01,\n",
       "       6.76510372e-01, 7.48760939e-01, 8.09420472e-01, 8.58207728e-01,\n",
       "       8.96108757e-01, 9.24766961e-01, 9.45996264e-01, 9.61484567e-01,\n",
       "       9.72659199e-01, 9.80656916e-01, 9.86347982e-01, 9.90381062e-01,\n",
       "       9.93230867e-01, 9.95240417e-01, 9.96655401e-01, 9.97650715e-01,\n",
       "       9.98350326e-01, 9.98841836e-01, 9.99187023e-01, 9.99429387e-01,\n",
       "       9.99599527e-01, 9.99718950e-01, 9.99802768e-01, 9.99861592e-01,\n",
       "       9.99902874e-01, 9.99931843e-01, 9.99952173e-01, 9.99966439e-01,\n",
       "       9.99976449e-01, 9.99983474e-01, 9.99988404e-01, 9.99991863e-01,\n",
       "       9.99994290e-01, 9.99995993e-01, 9.99997188e-01, 9.99998027e-01,\n",
       "       9.99998616e-01, 9.99999029e-01, 9.99999318e-01, 9.99999522e-01,\n",
       "       9.99999664e-01, 9.99999764e-01, 9.99999835e-01, 9.99999884e-01,\n",
       "       9.99999919e-01, 9.99999943e-01, 9.99999960e-01, 9.99999972e-01,\n",
       "       9.99999980e-01, 9.99999986e-01, 9.99999990e-01, 9.99999993e-01,\n",
       "       9.99999995e-01, 9.99999997e-01, 9.99999998e-01, 9.99999998e-01,\n",
       "       9.99999999e-01, 9.99999999e-01, 9.99999999e-01, 1.00000000e+00,\n",
       "       1.00000000e+00, 1.00000000e+00, 1.00000000e+00, 1.00000000e+00])"
      ]
     },
     "execution_count": 198,
     "metadata": {},
     "output_type": "execute_result"
    }
   ],
   "source": []
  },
  {
   "cell_type": "code",
   "execution_count": null,
   "metadata": {},
   "outputs": [],
   "source": []
  },
  {
   "cell_type": "code",
   "execution_count": 93,
   "metadata": {},
   "outputs": [
    {
     "data": {
      "text/plain": [
       "100"
      ]
     },
     "execution_count": 93,
     "metadata": {},
     "output_type": "execute_result"
    },
    {
     "data": {
      "image/png": "[encoded data removed]",
      "text/plain": [
       "<Figure size 640x480 with 1 Axes>"
      ]
     },
     "metadata": {},
     "output_type": "display_data"
    }
   ],
   "source": [
    "# X,y=random_data(100)\n",
    "# sorted_indices = np.lexsort((X[:, 1], X[:, 0]))\n",
    "\n",
    "# X=np.take_along_axis(X,ind,axis=0)\n",
    "# y=np.take_along_axis(y,ind,axis=0)\n",
    "\n",
    "# Use sorted indices to rearrange the original array\n",
    "\n",
    "# these two below create red abd blue patches for showing in legend \n",
    "r1=mpatch.Patch(color='red',label='Class 1')\n",
    "r2=mpatch.Patch(color='blue',label='Class 0')\n",
    "\n",
    "plot_data(X[:,0],X[:,1],y,'X0','X1','Binary classed data (2 feature)')\n",
    "# plot_data(X,np.ones((n,1)),y,'X0','','Binary classed data')\n",
    "# plot_data(X[:,0:1],X[:,1:2],y,title='Binary classed data')\n",
    "plt.legend(handles = [r1,r2])\n",
    "np.count_nonzero(y==0)\n",
    "# X"
   ]
  },
  {
   "cell_type": "code",
   "execution_count": null,
   "metadata": {},
   "outputs": [],
   "source": []
  },
  {
   "cell_type": "code",
   "execution_count": null,
   "metadata": {},
   "outputs": [],
   "source": []
  },
  {
   "cell_type": "code",
   "execution_count": null,
   "metadata": {},
   "outputs": [],
   "source": []
  },
  {
   "cell_type": "code",
   "execution_count": 94,
   "metadata": {},
   "outputs": [
    {
     "data": {
      "text/plain": [
       "(150, 1)"
      ]
     },
     "execution_count": 94,
     "metadata": {},
     "output_type": "execute_result"
    }
   ],
   "source": [
    "\n",
    "y.shape"
   ]
  },
  {
   "cell_type": "code",
   "execution_count": null,
   "metadata": {},
   "outputs": [],
   "source": []
  },
  {
   "cell_type": "code",
   "execution_count": 96,
   "metadata": {},
   "outputs": [
    {
     "data": {
      "text/plain": [
       "array([[  0,   0],\n",
       "       [  1,   1],\n",
       "       [  2,   2],\n",
       "       [  3,   3],\n",
       "       [  4,  10],\n",
       "       [ 22,   9],\n",
       "       [ 23,   7],\n",
       "       [ 24,   8],\n",
       "       [ 25,   5],\n",
       "       [ 26,   4],\n",
       "       [ 27,   6],\n",
       "       [ 29,  19],\n",
       "       [ 21,  23],\n",
       "       [ 30,  22],\n",
       "       [ 31,  21],\n",
       "       [ 32,  20],\n",
       "       [ 33,  18],\n",
       "       [ 28,  14],\n",
       "       [ 20,  16],\n",
       "       [ 18,  15],\n",
       "       [ 10,  13],\n",
       "       [ 17,  12],\n",
       "       [ 16,  11],\n",
       "       [ 15,  17],\n",
       "       [ 14,  31],\n",
       "       [ 13,  35],\n",
       "       [ 12,  34],\n",
       "       [ 11,  33],\n",
       "       [ 19,  32],\n",
       "       [  9,  30],\n",
       "       [  8,  36],\n",
       "       [  7,  28],\n",
       "       [  6,  24],\n",
       "       [  5,  25],\n",
       "       [ 39,  29],\n",
       "       [ 40,  27],\n",
       "       [ 38,  26],\n",
       "       [ 35,  42],\n",
       "       [ 36,  40],\n",
       "       [ 34,  43],\n",
       "       [ 37,  38],\n",
       "       [ 41,  37],\n",
       "       [ 42,  39],\n",
       "       [ 43,  41],\n",
       "       [ 44,  44],\n",
       "       [ 45,  45],\n",
       "       [ 46,  46],\n",
       "       [ 47,  47],\n",
       "       [ 48,  48],\n",
       "       [ 49,  49],\n",
       "       [ 56,  50],\n",
       "       [ 55,  52],\n",
       "       [ 53,  51],\n",
       "       [ 54,  53],\n",
       "       [ 51,  54],\n",
       "       [ 50,  55],\n",
       "       [ 52,  56],\n",
       "       [ 57,  57],\n",
       "       [ 58,  58],\n",
       "       [ 59,  59],\n",
       "       [ 64,  60],\n",
       "       [ 63,  65],\n",
       "       [ 62,  64],\n",
       "       [ 60,  62],\n",
       "       [ 61,  61],\n",
       "       [ 72,  63],\n",
       "       [ 77,  66],\n",
       "       [ 76,  67],\n",
       "       [ 75,  68],\n",
       "       [ 73,  71],\n",
       "       [ 71,  69],\n",
       "       [ 74,  70],\n",
       "       [ 69,  72],\n",
       "       [ 65,  74],\n",
       "       [ 66,  73],\n",
       "       [ 70,  75],\n",
       "       [ 68,  76],\n",
       "       [ 67,  77],\n",
       "       [ 78,  78],\n",
       "       [ 79,  86],\n",
       "       [ 80,  85],\n",
       "       [ 81,  84],\n",
       "       [ 82,  83],\n",
       "       [ 83,  82],\n",
       "       [ 84,  81],\n",
       "       [ 85,  80],\n",
       "       [ 92,  79],\n",
       "       [ 97,  87],\n",
       "       [ 96,  88],\n",
       "       [ 95,  89],\n",
       "       [ 94,  94],\n",
       "       [ 93,  93],\n",
       "       [ 90,  92],\n",
       "       [ 89,  91],\n",
       "       [ 88,  90],\n",
       "       [ 87,  95],\n",
       "       [ 86,  96],\n",
       "       [ 91,  97],\n",
       "       [ 98,  98],\n",
       "       [ 99, 103],\n",
       "       [100, 101],\n",
       "       [101, 102],\n",
       "       [102,  99],\n",
       "       [103, 100],\n",
       "       [111, 104],\n",
       "       [114, 105],\n",
       "       [113, 106],\n",
       "       [112, 107],\n",
       "       [115, 113],\n",
       "       [110, 115],\n",
       "       [108, 114],\n",
       "       [104, 111],\n",
       "       [105, 110],\n",
       "       [109, 109],\n",
       "       [107, 108],\n",
       "       [106, 112],\n",
       "       [116, 116],\n",
       "       [117, 117],\n",
       "       [118, 118],\n",
       "       [120, 119],\n",
       "       [119, 120],\n",
       "       [121, 121],\n",
       "       [122, 122],\n",
       "       [123, 123],\n",
       "       [124, 124],\n",
       "       [125, 129],\n",
       "       [126, 130],\n",
       "       [132, 128],\n",
       "       [130, 126],\n",
       "       [131, 125],\n",
       "       [129, 127],\n",
       "       [127, 131],\n",
       "       [128, 132],\n",
       "       [133, 133],\n",
       "       [134, 136],\n",
       "       [135, 134],\n",
       "       [143, 135],\n",
       "       [142, 137],\n",
       "       [141, 138],\n",
       "       [140, 139],\n",
       "       [138, 140],\n",
       "       [137, 142],\n",
       "       [136, 143],\n",
       "       [139, 141],\n",
       "       [144, 144],\n",
       "       [145, 145],\n",
       "       [146, 146],\n",
       "       [148, 148],\n",
       "       [147, 147],\n",
       "       [149, 149]], dtype=int64)"
      ]
     },
     "execution_count": 96,
     "metadata": {},
     "output_type": "execute_result"
    }
   ],
   "source": [
    "x = np.array([3, 1, 2])\n",
    "\n",
    "np.argsort(X,axis=0)\n",
    "# X"
   ]
  },
  {
   "cell_type": "code",
   "execution_count": 97,
   "metadata": {},
   "outputs": [],
   "source": [
    "def mse(x1,x2):\n",
    "    n=x1.shape[0]\n",
    "    return (0.5/n)*np.sum(np.square((x1-x2)))\n",
    "\n",
    "def sigmoid(x):\n",
    "    return (1/(1+np.exp(-x)))\n",
    "\n",
    "def grad(X,y,w,regulariser=None,alpha=0):\n",
    "    '''1D batch gradient descent''' \n",
    "    n,m=X.shape\n",
    "    A=np.zeros((m,m))\n",
    "    if regulariser in ['l2','ridge']:\n",
    "        A=np.eye(m)\n",
    "        A[0][0]=0\n",
    "    elif regulariser in ['l1','lasso']:\n",
    "        pass\n",
    "    #note: @ means matrix mulitplication (np.matmul)\n",
    "    h=X@w\n",
    "    sig=sigmoid(h)-y\n",
    "    # sig=1/(1+np.exp(h))\n",
    "    # sig-=y\n",
    "    \n",
    "    return (0.5/n)*((X.T)@(sig)) #gradient vector    \n",
    "    #\n",
    "w=np.random.randn(m,1)\n",
    "\n",
    "a=np.ones((n,1))\n",
    "X_=np.concatenate((a,X),axis=1)\n",
    "\n",
    "\n"
   ]
  },
  {
   "cell_type": "code",
   "execution_count": 98,
   "metadata": {},
   "outputs": [
    {
     "data": {
      "text/plain": [
       "array([[1. , 0.1, 1. ],\n",
       "       [1. , 0.1, 1.1],\n",
       "       [1. , 0.1, 1.2],\n",
       "       [1. , 0.1, 1.2],\n",
       "       [1. , 0.1, 1.3],\n",
       "       [1. , 0.2, 1.3],\n",
       "       [1. , 0.2, 1.3],\n",
       "       [1. , 0.2, 1.3],\n",
       "       [1. , 0.2, 1.3],\n",
       "       [1. , 0.2, 1.3],\n",
       "       [1. , 0.2, 1.3],\n",
       "       [1. , 0.2, 1.4],\n",
       "       [1. , 0.2, 1.4],\n",
       "       [1. , 0.2, 1.4],\n",
       "       [1. , 0.2, 1.4],\n",
       "       [1. , 0.2, 1.4],\n",
       "       [1. , 0.2, 1.4],\n",
       "       [1. , 0.2, 1.4],\n",
       "       [1. , 0.2, 1.4],\n",
       "       [1. , 0.2, 1.4],\n",
       "       [1. , 0.2, 1.4],\n",
       "       [1. , 0.2, 1.4],\n",
       "       [1. , 0.2, 1.4],\n",
       "       [1. , 0.2, 1.4],\n",
       "       [1. , 0.2, 1.5],\n",
       "       [1. , 0.2, 1.5],\n",
       "       [1. , 0.2, 1.5],\n",
       "       [1. , 0.2, 1.5],\n",
       "       [1. , 0.2, 1.5],\n",
       "       [1. , 0.2, 1.5],\n",
       "       [1. , 0.2, 1.5],\n",
       "       [1. , 0.2, 1.5],\n",
       "       [1. , 0.2, 1.5],\n",
       "       [1. , 0.2, 1.5],\n",
       "       [1. , 0.3, 1.5],\n",
       "       [1. , 0.3, 1.5],\n",
       "       [1. , 0.3, 1.5],\n",
       "       [1. , 0.3, 1.6],\n",
       "       [1. , 0.3, 1.6],\n",
       "       [1. , 0.3, 1.6],\n",
       "       [1. , 0.3, 1.6],\n",
       "       [1. , 0.4, 1.6],\n",
       "       [1. , 0.4, 1.6],\n",
       "       [1. , 0.4, 1.6],\n",
       "       [1. , 0.4, 1.7],\n",
       "       [1. , 0.4, 1.7],\n",
       "       [1. , 0.4, 1.7],\n",
       "       [1. , 0.4, 1.7],\n",
       "       [1. , 0.5, 1.9],\n",
       "       [1. , 0.6, 1.9],\n",
       "       [1. , 1. , 3. ],\n",
       "       [1. , 1. , 3.3],\n",
       "       [1. , 1. , 3.3],\n",
       "       [1. , 1. , 3.5],\n",
       "       [1. , 1. , 3.5],\n",
       "       [1. , 1. , 3.6],\n",
       "       [1. , 1. , 3.7],\n",
       "       [1. , 1.1, 3.8],\n",
       "       [1. , 1.1, 3.9],\n",
       "       [1. , 1.1, 3.9],\n",
       "       [1. , 1.2, 3.9],\n",
       "       [1. , 1.2, 4. ],\n",
       "       [1. , 1.2, 4. ],\n",
       "       [1. , 1.2, 4. ],\n",
       "       [1. , 1.2, 4. ],\n",
       "       [1. , 1.3, 4. ],\n",
       "       [1. , 1.3, 4.1],\n",
       "       [1. , 1.3, 4.1],\n",
       "       [1. , 1.3, 4.1],\n",
       "       [1. , 1.3, 4.2],\n",
       "       [1. , 1.3, 4.2],\n",
       "       [1. , 1.3, 4.2],\n",
       "       [1. , 1.3, 4.2],\n",
       "       [1. , 1.3, 4.3],\n",
       "       [1. , 1.3, 4.3],\n",
       "       [1. , 1.3, 4.4],\n",
       "       [1. , 1.3, 4.4],\n",
       "       [1. , 1.3, 4.4],\n",
       "       [1. , 1.4, 4.4],\n",
       "       [1. , 1.4, 4.5],\n",
       "       [1. , 1.4, 4.5],\n",
       "       [1. , 1.4, 4.5],\n",
       "       [1. , 1.4, 4.5],\n",
       "       [1. , 1.4, 4.5],\n",
       "       [1. , 1.4, 4.5],\n",
       "       [1. , 1.4, 4.5],\n",
       "       [1. , 1.5, 4.5],\n",
       "       [1. , 1.5, 4.6],\n",
       "       [1. , 1.5, 4.6],\n",
       "       [1. , 1.5, 4.6],\n",
       "       [1. , 1.5, 4.7],\n",
       "       [1. , 1.5, 4.7],\n",
       "       [1. , 1.5, 4.7],\n",
       "       [1. , 1.5, 4.7],\n",
       "       [1. , 1.5, 4.7],\n",
       "       [1. , 1.5, 4.8],\n",
       "       [1. , 1.5, 4.8],\n",
       "       [1. , 1.5, 4.8],\n",
       "       [1. , 1.6, 4.8],\n",
       "       [1. , 1.6, 4.9],\n",
       "       [1. , 1.6, 4.9],\n",
       "       [1. , 1.6, 4.9],\n",
       "       [1. , 1.7, 4.9],\n",
       "       [1. , 1.7, 4.9],\n",
       "       [1. , 1.8, 5. ],\n",
       "       [1. , 1.8, 5. ],\n",
       "       [1. , 1.8, 5. ],\n",
       "       [1. , 1.8, 5. ],\n",
       "       [1. , 1.8, 5.1],\n",
       "       [1. , 1.8, 5.1],\n",
       "       [1. , 1.8, 5.1],\n",
       "       [1. , 1.8, 5.1],\n",
       "       [1. , 1.8, 5.1],\n",
       "       [1. , 1.8, 5.1],\n",
       "       [1. , 1.8, 5.1],\n",
       "       [1. , 1.8, 5.1],\n",
       "       [1. , 1.9, 5.2],\n",
       "       [1. , 1.9, 5.2],\n",
       "       [1. , 1.9, 5.3],\n",
       "       [1. , 1.9, 5.3],\n",
       "       [1. , 1.9, 5.4],\n",
       "       [1. , 2. , 5.4],\n",
       "       [1. , 2. , 5.5],\n",
       "       [1. , 2. , 5.5],\n",
       "       [1. , 2. , 5.5],\n",
       "       [1. , 2. , 5.6],\n",
       "       [1. , 2. , 5.6],\n",
       "       [1. , 2.1, 5.6],\n",
       "       [1. , 2.1, 5.6],\n",
       "       [1. , 2.1, 5.6],\n",
       "       [1. , 2.1, 5.6],\n",
       "       [1. , 2.1, 5.7],\n",
       "       [1. , 2.1, 5.7],\n",
       "       [1. , 2.2, 5.7],\n",
       "       [1. , 2.2, 5.8],\n",
       "       [1. , 2.2, 5.8],\n",
       "       [1. , 2.3, 5.8],\n",
       "       [1. , 2.3, 5.9],\n",
       "       [1. , 2.3, 5.9],\n",
       "       [1. , 2.3, 6. ],\n",
       "       [1. , 2.3, 6. ],\n",
       "       [1. , 2.3, 6.1],\n",
       "       [1. , 2.3, 6.1],\n",
       "       [1. , 2.3, 6.1],\n",
       "       [1. , 2.4, 6.3],\n",
       "       [1. , 2.4, 6.4],\n",
       "       [1. , 2.4, 6.6],\n",
       "       [1. , 2.5, 6.7],\n",
       "       [1. , 2.5, 6.7],\n",
       "       [1. , 2.5, 6.9]])"
      ]
     },
     "execution_count": 98,
     "metadata": {},
     "output_type": "execute_result"
    }
   ],
   "source": [
    "X_"
   ]
  },
  {
   "cell_type": "code",
   "execution_count": 99,
   "metadata": {},
   "outputs": [
    {
     "data": {
      "text/plain": [
       "array([[-1042.7845794],\n",
       "       [-3074.6158901]])"
      ]
     },
     "execution_count": 99,
     "metadata": {},
     "output_type": "execute_result"
    }
   ],
   "source": [
    "(X.T)@(X@w)\n",
    "# (X@w).shape"
   ]
  },
  {
   "cell_type": "code",
   "execution_count": 162,
   "metadata": {},
   "outputs": [
    {
     "data": {
      "text/plain": [
       "array([[-16.27120897],\n",
       "       [ 17.78082091],\n",
       "       [ -2.57045512]])"
      ]
     },
     "execution_count": 162,
     "metadata": {},
     "output_type": "execute_result"
    }
   ],
   "source": [
    "def get_eta_stochastic(t,t0=5,t1=500):\n",
    "    # t0=np.random.randn()\n",
    "    # t1=np.random.randn()\n",
    "    \n",
    "    return t0/(t+t1)\n",
    "\n",
    "np.random.seed(0)\n",
    "def get_weights_stochastic_grad_descent(X,y,*,epochs,t0=5,t1=50,wlist=None,regulariser=None,alpha=0,eta=0.01):\n",
    "    n,m=X.shape\n",
    "    w=np.random.randn(m,1)\n",
    "    # alpha=0.01\n",
    "    # eta=np.random.randint(100)\n",
    "    for epoch in range(epochs):\n",
    "        for i in range(n):\n",
    "\n",
    "            #  for i in range(iter):\n",
    "            # w = w - alpha * np.dot(X.T, sigmoid(np.dot(X,w)) - np.reshape(y,(len(y),1)))\n",
    "            # cost_list[i] = cost(params)\n",
    "\n",
    "            # eta=get_eta_stochastic(epoch)\n",
    "            # eta=np.random.uniform(0,eta)\n",
    "            r=np.random.randint(n)\n",
    "            eta=get_eta_stochastic(epoch,t0=10,t1=25)\n",
    "            # eta=0.1\n",
    "            \n",
    "            delta_w=grad(X[r:r+1],y[r:r+1],w,regulariser,alpha)\n",
    "            # print(delta_w.shape)\n",
    "            w-=eta*delta_w\n",
    "        if (wlist is not None):\n",
    "            wlist.append((w[0][0],w[1][0]))\n",
    "            pass\n",
    "    return w\n",
    "\n",
    "# wlist_stochastic=[]\n",
    "w=get_weights_stochastic_grad_descent(X_,y,epochs=1500)\n",
    "w"
   ]
  },
  {
   "cell_type": "code",
   "execution_count": null,
   "metadata": {},
   "outputs": [],
   "source": []
  },
  {
   "cell_type": "code",
   "execution_count": null,
   "metadata": {},
   "outputs": [],
   "source": []
  },
  {
   "cell_type": "code",
   "execution_count": 229,
   "metadata": {},
   "outputs": [
    {
     "name": "stdout",
     "output_type": "stream",
     "text": [
      "[[-16.18058208]\n",
      " [ 16.87200401]\n",
      " [ -2.27473003]]\n"
     ]
    },
    {
     "data": {
      "image/png": "[encoded data removed]",
      "text/plain": [
       "<Figure size 1300x487.5 with 2 Axes>"
      ]
     },
     "metadata": {},
     "output_type": "display_data"
    }
   ],
   "source": [
    "m=X.shape\n",
    "N=100\n",
    "X1=np.linspace(0,np.ceil(max(X[:,0])),N).reshape(-1,1)\n",
    "\n",
    "# X1=np.linspace(0,max(X[:,0]),100).reshape(-1,1)\n",
    "\n",
    "colors_=['red' if val==1 else 'blue' for val in y]\n",
    "# plt.scatter(X[:,0],X[:,1],c=colors_,s=20)\n",
    "\n",
    "# H=\n",
    "\n",
    "\n",
    "l=[1,2,3,4,5,6,7,8,9,10]\n",
    "# w=get_weights_stochastic_grad_descent(X_,y,epochs=100,t0=1, t1=20)\n",
    "# h=X1@w[1]+w[0]\n",
    "# sig=sigmoid(h)\n",
    "# pred=sig\n",
    "# plt.plot(X1,sig,c='yellow',label='t0=1')\n",
    "# # print(w)\n",
    "\n",
    "# w=get_weights_stochastic_grad_descent(X_,y,epochs=100,t0= 2, t1= 30)\n",
    "# h=X1@w[1]+w[0]\n",
    "# sig=sigmoid(h)\n",
    "# pred=sig\n",
    "# plt.plot(X1,sig,c='green',label='t0=5')\n",
    "# # print(w)\n",
    "\n",
    "# w=get_weights_stochastic_grad_descent(X_,y,epochs=100,t0=10, t1= 40)\n",
    "# h=X1@w[1]+w[0]\n",
    "# sig=sigmoid(h)\n",
    "# pred=sig\n",
    "# plt.plot(X1,sig,c='black',label='t0=10')\n",
    "\n",
    "\n",
    "# w=get_weights_stochastic_grad_descent(X_,y,epochs=100,eta=0.884737)\n",
    "# # w=get_weights_stochastic_grad_descent(X_,y,epochs=100,t0=71289.3299375976, t1=  10658.69961755792)\n",
    "# h=X1@w[1]+w[0]\n",
    "# sig=sigmoid(h)\n",
    "# pred=sig\n",
    "# plt.plot(X1,sig,c='black',label='t0=10')\n",
    "\n",
    "colors = ['blue', 'green', 'red', 'cyan', 'magenta', 'yellow', 'black']\n",
    "\n",
    "\n",
    "l=[]\n",
    "k=1\n",
    "cc=0\n",
    "aspect=16/6\n",
    "width = 13\n",
    "height=width/aspect\n",
    "fig, axs = plt.subplots(1, 2, figsize=(width, height))\n",
    "for i in range(k):\n",
    "    # a=np.random.uniform(0,100000)\n",
    "    # b=np.random.uniform(0,100000)\n",
    "    # a=np.random.uniform(0,2)\n",
    "    w=get_weights_stochastic_grad_descent(X_,y,epochs=1000,eta=0.1)\n",
    "    # w=get_weights_stochastic_grad_descent(X_,y,epochs=50,t0=a, t1= b,eta=0.2)\n",
    "    \n",
    "    X2=-(np.ones((N,1))*w[0]+X1*w[1])/w[2]\n",
    "    X2_sk=-(np.ones((N,1))*w_sk[0]+X1*w_sk[1])/w_sk[2]\n",
    "    # X2=-(np.ones((N,1))+X1*w_sk[1])/w[2]\n",
    "\n",
    "    \n",
    "\n",
    "\n",
    "    # if m>1:\n",
    "        # h+=X2@w[2]\n",
    "\n",
    "    \n",
    "\n",
    "    # sig=sigmoid(h)\n",
    "    # pred=sig\n",
    "    axs[0].plot(X1,X2,label='mine', color='black')\n",
    "    axs[0].plot(X1,X2_sk,label='sklearn', linestyle='--',color='green')\n",
    "    # plt.plot(X1,h,label=str(i), color=colors[i%7])\n",
    "    # plt.plot(X1,sig,label=str(i)+\" \"+str(a), color=colors[i%7])\n",
    "    # l.append((a,b))\n",
    "    # l.append()\n",
    "    \n",
    "    if (sigmoid(X1[0]@w[1]+w[0])>sigmoid(X1[99]@w[1]+w[0])):\n",
    "        cc+=1\n",
    "    # plt.plot(X1,sig,label=str(i)+\" \"+str(a)+ \" \"+str(b), color=np.random.rand(3,) )\n",
    "\n",
    "# print(round(100*cc/k),\"% chance of getting a good boundary\")\n",
    "\n",
    "axs[0].set_xlabel(\"X1\")\n",
    "axs[0].set_ylabel(\"X2\")\n",
    "\n",
    "r1=mpatch.Patch(color='red',label='Class 1')\n",
    "r2=mpatch.Patch(color='blue',label='Class 0')\n",
    "# plt.legend(handles = [r1,r2])\n",
    "axs[0].legend()\n",
    "axs[0].scatter(X[:,0],X[:,1],c=colors_,s=20)\n",
    "\n",
    "axs[0].set_title(\"Decision boundaries\")\n",
    "# plt.title(\"Decision boundaries\")\n",
    "# plt.show()\n",
    "\n",
    "# for i in range(7):\n",
    "#     print(i,l[i][0],l[i][1])\n",
    "\n",
    "print(w)\n",
    "\n",
    "\n",
    "pred=X_@w\n",
    "pred_sk=X_@w_sk\n",
    "X_plt=np.arange(0,150)\n",
    "X_plt\n",
    "plt.plot(X_plt,pred,label='my prediction', color='black')\n",
    "plt.plot(X_plt,pred_sk,label='sklearn prediction', linestyle='--',color='green')\n",
    "plt.scatter(X_plt,y,label='actual',color=colors_)\n",
    "\n",
    "plt.xlabel(\"X1\")\n",
    "plt.ylabel(\"X2\")\n",
    "\n",
    "r1=mpatch.Patch(color='red',label='Class 1')\n",
    "r2=mpatch.Patch(color='blue',label='Class 0')\n",
    "plt.legend(handles = [r1,r2])\n",
    "plt.legend()\n",
    "\n",
    "\n",
    "plt.title(\"Probabilities\")\n",
    "plt.show()"
   ]
  },
  {
   "cell_type": "code",
   "execution_count": 210,
   "metadata": {},
   "outputs": [
    {
     "data": {
      "text/plain": [
       "array([[-16.48822545],\n",
       "       [-16.75646565],\n",
       "       [-17.02470586],\n",
       "       [-17.02470586],\n",
       "       [-17.29294606],\n",
       "       [-15.54397553],\n",
       "       [-15.54397553],\n",
       "       [-15.54397553],\n",
       "       [-15.54397553],\n",
       "       [-15.54397553],\n",
       "       [-15.54397553],\n",
       "       [-15.81221573],\n",
       "       [-15.81221573],\n",
       "       [-15.81221573],\n",
       "       [-15.81221573],\n",
       "       [-15.81221573],\n",
       "       [-15.81221573],\n",
       "       [-15.81221573],\n",
       "       [-15.81221573],\n",
       "       [-15.81221573],\n",
       "       [-15.81221573],\n",
       "       [-15.81221573],\n",
       "       [-15.81221573],\n",
       "       [-15.81221573],\n",
       "       [-16.08045594],\n",
       "       [-16.08045594],\n",
       "       [-16.08045594],\n",
       "       [-16.08045594],\n",
       "       [-16.08045594],\n",
       "       [-16.08045594],\n",
       "       [-16.08045594],\n",
       "       [-16.08045594],\n",
       "       [-16.08045594],\n",
       "       [-16.08045594],\n",
       "       [-14.3314854 ],\n",
       "       [-14.3314854 ],\n",
       "       [-14.3314854 ],\n",
       "       [-14.59972561],\n",
       "       [-14.59972561],\n",
       "       [-14.59972561],\n",
       "       [-14.59972561],\n",
       "       [-12.85075507],\n",
       "       [-12.85075507],\n",
       "       [-12.85075507],\n",
       "       [-13.11899528],\n",
       "       [-13.11899528],\n",
       "       [-13.11899528],\n",
       "       [-13.11899528],\n",
       "       [-11.90650515],\n",
       "       [-10.15753462],\n",
       "       [ -6.11229473],\n",
       "       [ -6.91701535],\n",
       "       [ -6.91701535],\n",
       "       [ -7.45349576],\n",
       "       [ -7.45349576],\n",
       "       [ -7.72173596],\n",
       "       [ -7.98997617],\n",
       "       [ -6.50924584],\n",
       "       [ -6.77748604],\n",
       "       [ -6.77748604],\n",
       "       [ -5.02851551],\n",
       "       [ -5.29675571],\n",
       "       [ -5.29675571],\n",
       "       [ -5.29675571],\n",
       "       [ -5.29675571],\n",
       "       [ -3.54778518],\n",
       "       [ -3.81602538],\n",
       "       [ -3.81602538],\n",
       "       [ -3.81602538],\n",
       "       [ -4.08426559],\n",
       "       [ -4.08426559],\n",
       "       [ -4.08426559],\n",
       "       [ -4.08426559],\n",
       "       [ -4.35250579],\n",
       "       [ -4.35250579],\n",
       "       [ -4.620746  ],\n",
       "       [ -4.620746  ],\n",
       "       [ -4.620746  ],\n",
       "       [ -2.87177546],\n",
       "       [ -3.14001567],\n",
       "       [ -3.14001567],\n",
       "       [ -3.14001567],\n",
       "       [ -3.14001567],\n",
       "       [ -3.14001567],\n",
       "       [ -3.14001567],\n",
       "       [ -3.14001567],\n",
       "       [ -1.39104513],\n",
       "       [ -1.65928534],\n",
       "       [ -1.65928534],\n",
       "       [ -1.65928534],\n",
       "       [ -1.92752554],\n",
       "       [ -1.92752554],\n",
       "       [ -1.92752554],\n",
       "       [ -1.92752554],\n",
       "       [ -1.92752554],\n",
       "       [ -2.19576575],\n",
       "       [ -2.19576575],\n",
       "       [ -2.19576575],\n",
       "       [ -0.44679521],\n",
       "       [ -0.71503542],\n",
       "       [ -0.71503542],\n",
       "       [ -0.71503542],\n",
       "       [  1.03393511],\n",
       "       [  1.03393511],\n",
       "       [  2.51466544],\n",
       "       [  2.51466544],\n",
       "       [  2.51466544],\n",
       "       [  2.51466544],\n",
       "       [  2.24642524],\n",
       "       [  2.24642524],\n",
       "       [  2.24642524],\n",
       "       [  2.24642524],\n",
       "       [  2.24642524],\n",
       "       [  2.24642524],\n",
       "       [  2.24642524],\n",
       "       [  2.24642524],\n",
       "       [  3.72715557],\n",
       "       [  3.72715557],\n",
       "       [  3.45891536],\n",
       "       [  3.45891536],\n",
       "       [  3.19067516],\n",
       "       [  4.93964569],\n",
       "       [  4.67140549],\n",
       "       [  4.67140549],\n",
       "       [  4.67140549],\n",
       "       [  4.40316528],\n",
       "       [  4.40316528],\n",
       "       [  6.15213582],\n",
       "       [  6.15213582],\n",
       "       [  6.15213582],\n",
       "       [  6.15213582],\n",
       "       [  5.88389561],\n",
       "       [  5.88389561],\n",
       "       [  7.63286615],\n",
       "       [  7.36462594],\n",
       "       [  7.36462594],\n",
       "       [  9.11359648],\n",
       "       [  8.84535627],\n",
       "       [  8.84535627],\n",
       "       [  8.57711607],\n",
       "       [  8.57711607],\n",
       "       [  8.30887586],\n",
       "       [  8.30887586],\n",
       "       [  8.30887586],\n",
       "       [  9.52136599],\n",
       "       [  9.25312578],\n",
       "       [  8.71664537],\n",
       "       [ 10.1973757 ],\n",
       "       [ 10.1973757 ],\n",
       "       [  9.66089529]])"
      ]
     },
     "execution_count": 210,
     "metadata": {},
     "output_type": "execute_result"
    }
   ],
   "source": [
    "pred"
   ]
  },
  {
   "cell_type": "code",
   "execution_count": 209,
   "metadata": {},
   "outputs": [
    {
     "data": {
      "image/png": "[encoded data removed]",
      "text/plain": [
       "<Figure size 640x480 with 1 Axes>"
      ]
     },
     "metadata": {},
     "output_type": "display_data"
    }
   ],
   "source": []
  },
  {
   "cell_type": "code",
   "execution_count": 204,
   "metadata": {},
   "outputs": [
    {
     "data": {
      "text/plain": [
       "array([  0,   1,   2,   3,   4,   5,   6,   7,   8,   9,  10,  11,  12,\n",
       "        13,  14,  15,  16,  17,  18,  19,  20,  21,  22,  23,  24,  25,\n",
       "        26,  27,  28,  29,  30,  31,  32,  33,  34,  35,  36,  37,  38,\n",
       "        39,  40,  41,  42,  43,  44,  45,  46,  47,  48,  49,  50,  51,\n",
       "        52,  53,  54,  55,  56,  57,  58,  59,  60,  61,  62,  63,  64,\n",
       "        65,  66,  67,  68,  69,  70,  71,  72,  73,  74,  75,  76,  77,\n",
       "        78,  79,  80,  81,  82,  83,  84,  85,  86,  87,  88,  89,  90,\n",
       "        91,  92,  93,  94,  95,  96,  97,  98,  99, 100, 101, 102, 103,\n",
       "       104, 105, 106, 107, 108, 109, 110, 111, 112, 113, 114, 115, 116,\n",
       "       117, 118, 119, 120, 121, 122, 123, 124, 125, 126, 127, 128, 129,\n",
       "       130, 131, 132, 133, 134, 135, 136, 137, 138, 139, 140, 141, 142,\n",
       "       143, 144, 145, 146, 147, 148, 149])"
      ]
     },
     "execution_count": 204,
     "metadata": {},
     "output_type": "execute_result"
    }
   ],
   "source": []
  },
  {
   "cell_type": "code",
   "execution_count": 187,
   "metadata": {},
   "outputs": [
    {
     "name": "stdout",
     "output_type": "stream",
     "text": [
      "my weights\n",
      " [[-15.72416555]\n",
      " [ 17.36597042]\n",
      " [ -2.5835661 ]]\n",
      "\n",
      "sklearn weights\n",
      " [[-18.973052  ]\n",
      " [  2.1809402 ]\n",
      " [  3.15917718]]\n"
     ]
    }
   ],
   "source": [
    "print(\"my weights\\n\",w)\n",
    "print()\n",
    "print(\"sklearn weights\\n\",w_sk)"
   ]
  },
  {
   "cell_type": "code",
   "execution_count": 242,
   "metadata": {},
   "outputs": [
    {
     "name": "stdout",
     "output_type": "stream",
     "text": [
      "my training accuracy : \n",
      " 0.986666666666667\n",
      "sklearn training accuracy : \n",
      " 0.986666666666667\n"
     ]
    }
   ],
   "source": [
    "pred_class=np.where(pred>0,1,0)\n",
    "pred_class_sk=np.where(pred_sk>0,1,0)\n",
    "accuracy=np.sum(pred_class==y)/y.shape[0]\n",
    "accuracy_sk=np.sum(pred_class_sk==y)/y.shape[0]\n",
    "print(\"my training accuracy : \\n\", round(accuracy,15))\n",
    "print(\"sklearn training accuracy : \\n\", round(accuracy_sk,15))"
   ]
  },
  {
   "cell_type": "code",
   "execution_count": 238,
   "metadata": {},
   "outputs": [
    {
     "data": {
      "text/plain": [
       "(0.9866666666666667, 0.9866666666666667)"
      ]
     },
     "execution_count": 238,
     "metadata": {},
     "output_type": "execute_result"
    }
   ],
   "source": []
  },
  {
   "cell_type": "code",
   "execution_count": 179,
   "metadata": {},
   "outputs": [
    {
     "data": {
      "image/png": "[encoded data removed]",
      "text/plain": [
       "<Figure size 640x480 with 1 Axes>"
      ]
     },
     "metadata": {},
     "output_type": "display_data"
    }
   ],
   "source": [
    "sigx1=sigmoid(np.ones((N,1))*w[0]+w[1]*X1)\n",
    "sigx1_sk=sigmoid(np.ones((N,1))*w_sk[0]+w_sk[1]*X1)\n",
    "plt.plot(X1,sigx1,label='mine', color='black')\n",
    "plt.plot(X1,sigx1_sk,label='ideal', linestyle='--',color='green')\n",
    "\n",
    "\n",
    "plt.xlabel(\"X1\")\n",
    "plt.ylabel(\"X2\")\n",
    "plt.legend()\n",
    "plt.title(\"Decision boundaries\")\n",
    "\n",
    "plt.show()"
   ]
  },
  {
   "cell_type": "code",
   "execution_count": 181,
   "metadata": {},
   "outputs": [
    {
     "data": {
      "image/png": "[encoded data removed]",
      "text/plain": [
       "<Figure size 640x480 with 1 Axes>"
      ]
     },
     "metadata": {},
     "output_type": "display_data"
    }
   ],
   "source": [
    "sigx1=sigmoid(np.ones((N,1))*w[0]+w[2]*X1)\n",
    "sigx1_sk=sigmoid(np.ones((N,1))*w_sk[0]+w_sk[2]*X1)\n",
    "plt.plot(X1,sigx1,label='mine', color='black')\n",
    "plt.plot(X1,sigx1_sk,label='ideal', linestyle='--',color='green')\n",
    "\n",
    "\n",
    "plt.xlabel(\"X1\")\n",
    "plt.ylabel(\"X2\")\n",
    "plt.legend()\n",
    "plt.title(\"Decision boundaries\")\n",
    "\n",
    "plt.show()"
   ]
  },
  {
   "cell_type": "code",
   "execution_count": 114,
   "metadata": {},
   "outputs": [
    {
     "data": {
      "text/plain": [
       "array([[0.        ],\n",
       "       [0.03030303],\n",
       "       [0.06060606],\n",
       "       [0.09090909],\n",
       "       [0.12121212],\n",
       "       [0.15151515],\n",
       "       [0.18181818],\n",
       "       [0.21212121],\n",
       "       [0.24242424],\n",
       "       [0.27272727],\n",
       "       [0.3030303 ],\n",
       "       [0.33333333],\n",
       "       [0.36363636],\n",
       "       [0.39393939],\n",
       "       [0.42424242],\n",
       "       [0.45454545],\n",
       "       [0.48484848],\n",
       "       [0.51515152],\n",
       "       [0.54545455],\n",
       "       [0.57575758],\n",
       "       [0.60606061],\n",
       "       [0.63636364],\n",
       "       [0.66666667],\n",
       "       [0.6969697 ],\n",
       "       [0.72727273],\n",
       "       [0.75757576],\n",
       "       [0.78787879],\n",
       "       [0.81818182],\n",
       "       [0.84848485],\n",
       "       [0.87878788],\n",
       "       [0.90909091],\n",
       "       [0.93939394],\n",
       "       [0.96969697],\n",
       "       [1.        ],\n",
       "       [1.03030303],\n",
       "       [1.06060606],\n",
       "       [1.09090909],\n",
       "       [1.12121212],\n",
       "       [1.15151515],\n",
       "       [1.18181818],\n",
       "       [1.21212121],\n",
       "       [1.24242424],\n",
       "       [1.27272727],\n",
       "       [1.3030303 ],\n",
       "       [1.33333333],\n",
       "       [1.36363636],\n",
       "       [1.39393939],\n",
       "       [1.42424242],\n",
       "       [1.45454545],\n",
       "       [1.48484848],\n",
       "       [1.51515152],\n",
       "       [1.54545455],\n",
       "       [1.57575758],\n",
       "       [1.60606061],\n",
       "       [1.63636364],\n",
       "       [1.66666667],\n",
       "       [1.6969697 ],\n",
       "       [1.72727273],\n",
       "       [1.75757576],\n",
       "       [1.78787879],\n",
       "       [1.81818182],\n",
       "       [1.84848485],\n",
       "       [1.87878788],\n",
       "       [1.90909091],\n",
       "       [1.93939394],\n",
       "       [1.96969697],\n",
       "       [2.        ],\n",
       "       [2.03030303],\n",
       "       [2.06060606],\n",
       "       [2.09090909],\n",
       "       [2.12121212],\n",
       "       [2.15151515],\n",
       "       [2.18181818],\n",
       "       [2.21212121],\n",
       "       [2.24242424],\n",
       "       [2.27272727],\n",
       "       [2.3030303 ],\n",
       "       [2.33333333],\n",
       "       [2.36363636],\n",
       "       [2.39393939],\n",
       "       [2.42424242],\n",
       "       [2.45454545],\n",
       "       [2.48484848],\n",
       "       [2.51515152],\n",
       "       [2.54545455],\n",
       "       [2.57575758],\n",
       "       [2.60606061],\n",
       "       [2.63636364],\n",
       "       [2.66666667],\n",
       "       [2.6969697 ],\n",
       "       [2.72727273],\n",
       "       [2.75757576],\n",
       "       [2.78787879],\n",
       "       [2.81818182],\n",
       "       [2.84848485],\n",
       "       [2.87878788],\n",
       "       [2.90909091],\n",
       "       [2.93939394],\n",
       "       [2.96969697],\n",
       "       [3.        ]])"
      ]
     },
     "execution_count": 114,
     "metadata": {},
     "output_type": "execute_result"
    }
   ],
   "source": []
  },
  {
   "cell_type": "code",
   "execution_count": null,
   "metadata": {},
   "outputs": [
    {
     "data": {
      "text/plain": [
       "array([2.5])"
      ]
     },
     "execution_count": 18,
     "metadata": {},
     "output_type": "execute_result"
    }
   ],
   "source": [
    "X[149]"
   ]
  },
  {
   "cell_type": "code",
   "execution_count": 138,
   "metadata": {},
   "outputs": [
    {
     "name": "stderr",
     "output_type": "stream",
     "text": [
      "c:\\Users\\pande\\AppData\\Local\\Programs\\Python\\Python311\\Lib\\site-packages\\sklearn\\utils\\validation.py:1184: DataConversionWarning: A column-vector y was passed when a 1d array was expected. Please change the shape of y to (n_samples, ), for example using ravel().\n",
      "  y = column_or_1d(y, warn=True)\n"
     ]
    },
    {
     "data": {
      "text/html": [
       "<style>#sk-container-id-4 {color: black;}#sk-container-id-4 pre{padding: 0;}#sk-container-id-4 div.sk-toggleable {background-color: white;}#sk-container-id-4 label.sk-toggleable__label {cursor: pointer;display: block;width: 100%;margin-bottom: 0;padding: 0.3em;box-sizing: border-box;text-align: center;}#sk-container-id-4 label.sk-toggleable__label-arrow:before {content: \"▸\";float: left;margin-right: 0.25em;color: #696969;}#sk-container-id-4 label.sk-toggleable__label-arrow:hover:before {color: black;}#sk-container-id-4 div.sk-estimator:hover label.sk-toggleable__label-arrow:before {color: black;}#sk-container-id-4 div.sk-toggleable__content {max-height: 0;max-width: 0;overflow: hidden;text-align: left;background-color: #f0f8ff;}#sk-container-id-4 div.sk-toggleable__content pre {margin: 0.2em;color: black;border-radius: 0.25em;background-color: #f0f8ff;}#sk-container-id-4 input.sk-toggleable__control:checked~div.sk-toggleable__content {max-height: 200px;max-width: 100%;overflow: auto;}#sk-container-id-4 input.sk-toggleable__control:checked~label.sk-toggleable__label-arrow:before {content: \"▾\";}#sk-container-id-4 div.sk-estimator input.sk-toggleable__control:checked~label.sk-toggleable__label {background-color: #d4ebff;}#sk-container-id-4 div.sk-label input.sk-toggleable__control:checked~label.sk-toggleable__label {background-color: #d4ebff;}#sk-container-id-4 input.sk-hidden--visually {border: 0;clip: rect(1px 1px 1px 1px);clip: rect(1px, 1px, 1px, 1px);height: 1px;margin: -1px;overflow: hidden;padding: 0;position: absolute;width: 1px;}#sk-container-id-4 div.sk-estimator {font-family: monospace;background-color: #f0f8ff;border: 1px dotted black;border-radius: 0.25em;box-sizing: border-box;margin-bottom: 0.5em;}#sk-container-id-4 div.sk-estimator:hover {background-color: #d4ebff;}#sk-container-id-4 div.sk-parallel-item::after {content: \"\";width: 100%;border-bottom: 1px solid gray;flex-grow: 1;}#sk-container-id-4 div.sk-label:hover label.sk-toggleable__label {background-color: #d4ebff;}#sk-container-id-4 div.sk-serial::before {content: \"\";position: absolute;border-left: 1px solid gray;box-sizing: border-box;top: 0;bottom: 0;left: 50%;z-index: 0;}#sk-container-id-4 div.sk-serial {display: flex;flex-direction: column;align-items: center;background-color: white;padding-right: 0.2em;padding-left: 0.2em;position: relative;}#sk-container-id-4 div.sk-item {position: relative;z-index: 1;}#sk-container-id-4 div.sk-parallel {display: flex;align-items: stretch;justify-content: center;background-color: white;position: relative;}#sk-container-id-4 div.sk-item::before, #sk-container-id-4 div.sk-parallel-item::before {content: \"\";position: absolute;border-left: 1px solid gray;box-sizing: border-box;top: 0;bottom: 0;left: 50%;z-index: -1;}#sk-container-id-4 div.sk-parallel-item {display: flex;flex-direction: column;z-index: 1;position: relative;background-color: white;}#sk-container-id-4 div.sk-parallel-item:first-child::after {align-self: flex-end;width: 50%;}#sk-container-id-4 div.sk-parallel-item:last-child::after {align-self: flex-start;width: 50%;}#sk-container-id-4 div.sk-parallel-item:only-child::after {width: 0;}#sk-container-id-4 div.sk-dashed-wrapped {border: 1px dashed gray;margin: 0 0.4em 0.5em 0.4em;box-sizing: border-box;padding-bottom: 0.4em;background-color: white;}#sk-container-id-4 div.sk-label label {font-family: monospace;font-weight: bold;display: inline-block;line-height: 1.2em;}#sk-container-id-4 div.sk-label-container {text-align: center;}#sk-container-id-4 div.sk-container {/* jupyter's `normalize.less` sets `[hidden] { display: none; }` but bootstrap.min.css set `[hidden] { display: none !important; }` so we also need the `!important` here to be able to override the default hidden behavior on the sphinx rendered scikit-learn.org. See: https://github.com/scikit-learn/scikit-learn/issues/21755 */display: inline-block !important;position: relative;}#sk-container-id-4 div.sk-text-repr-fallback {display: none;}</style><div id=\"sk-container-id-4\" class=\"sk-top-container\"><div class=\"sk-text-repr-fallback\"><pre>LogisticRegression()</pre><b>In a Jupyter environment, please rerun this cell to show the HTML representation or trust the notebook. <br />On GitHub, the HTML representation is unable to render, please try loading this page with nbviewer.org.</b></div><div class=\"sk-container\" hidden><div class=\"sk-item\"><div class=\"sk-estimator sk-toggleable\"><input class=\"sk-toggleable__control sk-hidden--visually\" id=\"sk-estimator-id-4\" type=\"checkbox\" checked><label for=\"sk-estimator-id-4\" class=\"sk-toggleable__label sk-toggleable__label-arrow\">LogisticRegression</label><div class=\"sk-toggleable__content\"><pre>LogisticRegression()</pre></div></div></div></div></div>"
      ],
      "text/plain": [
       "LogisticRegression()"
      ]
     },
     "execution_count": 138,
     "metadata": {},
     "output_type": "execute_result"
    }
   ],
   "source": [
    "from sklearn.linear_model import LogisticRegression\n",
    "log_reg = LogisticRegression()\n",
    "log_reg.fit(X, y)\n"
   ]
  },
  {
   "cell_type": "code",
   "execution_count": 139,
   "metadata": {},
   "outputs": [
    {
     "data": {
      "text/plain": [
       "array([[-18.973052  ],\n",
       "       [  2.1809402 ],\n",
       "       [  3.15917718]])"
      ]
     },
     "execution_count": 139,
     "metadata": {},
     "output_type": "execute_result"
    }
   ],
   "source": [
    "w_sk=np.array(( log_reg.intercept_[0],log_reg.coef_[0][0],log_reg.coef_[0][1])).reshape(-1,1)\n",
    "w_sk"
   ]
  },
  {
   "cell_type": "code",
   "execution_count": 169,
   "metadata": {},
   "outputs": [
    {
     "data": {
      "text/plain": [
       "array([[ -0.57594769],\n",
       "       [ -0.85313722],\n",
       "       [ -1.13032674],\n",
       "       [ -1.40751627],\n",
       "       [ -1.6847058 ],\n",
       "       [ -1.96189532],\n",
       "       [ -2.23908485],\n",
       "       [ -2.51627437],\n",
       "       [ -2.7934639 ],\n",
       "       [ -3.07065342],\n",
       "       [ -3.34784295],\n",
       "       [ -3.62503247],\n",
       "       [ -3.902222  ],\n",
       "       [ -4.17941153],\n",
       "       [ -4.45660105],\n",
       "       [ -4.73379058],\n",
       "       [ -5.0109801 ],\n",
       "       [ -5.28816963],\n",
       "       [ -5.56535915],\n",
       "       [ -5.84254868],\n",
       "       [ -6.1197382 ],\n",
       "       [ -6.39692773],\n",
       "       [ -6.67411725],\n",
       "       [ -6.95130678],\n",
       "       [ -7.22849631],\n",
       "       [ -7.50568583],\n",
       "       [ -7.78287536],\n",
       "       [ -8.06006488],\n",
       "       [ -8.33725441],\n",
       "       [ -8.61444393],\n",
       "       [ -8.89163346],\n",
       "       [ -9.16882298],\n",
       "       [ -9.44601251],\n",
       "       [ -9.72320204],\n",
       "       [-10.00039156],\n",
       "       [-10.27758109],\n",
       "       [-10.55477061],\n",
       "       [-10.83196014],\n",
       "       [-11.10914966],\n",
       "       [-11.38633919],\n",
       "       [-11.66352871],\n",
       "       [-11.94071824],\n",
       "       [-12.21790777],\n",
       "       [-12.49509729],\n",
       "       [-12.77228682],\n",
       "       [-13.04947634],\n",
       "       [-13.32666587],\n",
       "       [-13.60385539],\n",
       "       [-13.88104492],\n",
       "       [-14.15823444],\n",
       "       [-14.43542397],\n",
       "       [-14.7126135 ],\n",
       "       [-14.98980302],\n",
       "       [-15.26699255],\n",
       "       [-15.54418207],\n",
       "       [-15.8213716 ],\n",
       "       [-16.09856112],\n",
       "       [-16.37575065],\n",
       "       [-16.65294017],\n",
       "       [-16.9301297 ],\n",
       "       [-17.20731923],\n",
       "       [-17.48450875],\n",
       "       [-17.76169828],\n",
       "       [-18.0388878 ],\n",
       "       [-18.31607733],\n",
       "       [-18.59326685],\n",
       "       [-18.87045638],\n",
       "       [-19.1476459 ],\n",
       "       [-19.42483543],\n",
       "       [-19.70202496],\n",
       "       [-19.97921448],\n",
       "       [-20.25640401],\n",
       "       [-20.53359353],\n",
       "       [-20.81078306],\n",
       "       [-21.08797258],\n",
       "       [-21.36516211],\n",
       "       [-21.64235163],\n",
       "       [-21.91954116],\n",
       "       [-22.19673069],\n",
       "       [-22.47392021],\n",
       "       [-22.75110974],\n",
       "       [-23.02829926],\n",
       "       [-23.30548879],\n",
       "       [-23.58267831],\n",
       "       [-23.85986784],\n",
       "       [-24.13705736],\n",
       "       [-24.41424689],\n",
       "       [-24.69143641],\n",
       "       [-24.96862594],\n",
       "       [-25.24581547],\n",
       "       [-25.52300499],\n",
       "       [-25.80019452],\n",
       "       [-26.07738404],\n",
       "       [-26.35457357],\n",
       "       [-26.63176309],\n",
       "       [-26.90895262],\n",
       "       [-27.18614214],\n",
       "       [-27.46333167],\n",
       "       [-27.7405212 ],\n",
       "       [-28.01771072]])"
      ]
     },
     "execution_count": 169,
     "metadata": {},
     "output_type": "execute_result"
    }
   ],
   "source": [
    "(np.ones((N,1))+X1*w[1])/w[2]\n"
   ]
  },
  {
   "cell_type": "code",
   "execution_count": 133,
   "metadata": {},
   "outputs": [
    {
     "ename": "ValueError",
     "evalue": "x and y must be the same size",
     "output_type": "error",
     "traceback": [
      "\u001b[1;31m---------------------------------------------------------------------------\u001b[0m",
      "\u001b[1;31mValueError\u001b[0m                                Traceback (most recent call last)",
      "Cell \u001b[1;32mIn[133], line 3\u001b[0m\n\u001b[0;32m      1\u001b[0m X1\u001b[38;5;241m=\u001b[39mnp\u001b[38;5;241m.\u001b[39mlinspace(\u001b[38;5;241m0\u001b[39m,\u001b[38;5;241m3\u001b[39m,\u001b[38;5;241m100\u001b[39m)\u001b[38;5;241m.\u001b[39mreshape(\u001b[38;5;241m-\u001b[39m\u001b[38;5;241m1\u001b[39m,\u001b[38;5;241m1\u001b[39m)\n\u001b[0;32m      2\u001b[0m colors_\u001b[38;5;241m=\u001b[39m[\u001b[38;5;124m'\u001b[39m\u001b[38;5;124mred\u001b[39m\u001b[38;5;124m'\u001b[39m \u001b[38;5;28;01mif\u001b[39;00m val\u001b[38;5;241m==\u001b[39m\u001b[38;5;241m1\u001b[39m \u001b[38;5;28;01melse\u001b[39;00m \u001b[38;5;124m'\u001b[39m\u001b[38;5;124mblue\u001b[39m\u001b[38;5;124m'\u001b[39m \u001b[38;5;28;01mfor\u001b[39;00m val \u001b[38;5;129;01min\u001b[39;00m y]\n\u001b[1;32m----> 3\u001b[0m \u001b[43mplt\u001b[49m\u001b[38;5;241;43m.\u001b[39;49m\u001b[43mscatter\u001b[49m\u001b[43m(\u001b[49m\u001b[43mX\u001b[49m\u001b[43m,\u001b[49m\u001b[43my\u001b[49m\u001b[43m,\u001b[49m\u001b[43mc\u001b[49m\u001b[38;5;241;43m=\u001b[39;49m\u001b[43mcolors_\u001b[49m\u001b[43m,\u001b[49m\u001b[43ms\u001b[49m\u001b[38;5;241;43m=\u001b[39;49m\u001b[38;5;241;43m20\u001b[39;49m\u001b[43m)\u001b[49m\n\u001b[0;32m      4\u001b[0m plt\u001b[38;5;241m.\u001b[39mplot(X1,sigmoid(X1\u001b[38;5;129m@w\u001b[39m[\u001b[38;5;241m1\u001b[39m]\u001b[38;5;241m+\u001b[39mw[\u001b[38;5;241m0\u001b[39m]),c\u001b[38;5;241m=\u001b[39m\u001b[38;5;124m'\u001b[39m\u001b[38;5;124mblack\u001b[39m\u001b[38;5;124m'\u001b[39m,label\u001b[38;5;241m=\u001b[39m\u001b[38;5;124m'\u001b[39m\u001b[38;5;124mt0=10\u001b[39m\u001b[38;5;124m'\u001b[39m)\n",
      "File \u001b[1;32mc:\\Users\\pande\\AppData\\Local\\Programs\\Python\\Python311\\Lib\\site-packages\\matplotlib\\pyplot.py:2862\u001b[0m, in \u001b[0;36mscatter\u001b[1;34m(x, y, s, c, marker, cmap, norm, vmin, vmax, alpha, linewidths, edgecolors, plotnonfinite, data, **kwargs)\u001b[0m\n\u001b[0;32m   2857\u001b[0m \u001b[38;5;129m@_copy_docstring_and_deprecators\u001b[39m(Axes\u001b[38;5;241m.\u001b[39mscatter)\n\u001b[0;32m   2858\u001b[0m \u001b[38;5;28;01mdef\u001b[39;00m \u001b[38;5;21mscatter\u001b[39m(\n\u001b[0;32m   2859\u001b[0m         x, y, s\u001b[38;5;241m=\u001b[39m\u001b[38;5;28;01mNone\u001b[39;00m, c\u001b[38;5;241m=\u001b[39m\u001b[38;5;28;01mNone\u001b[39;00m, marker\u001b[38;5;241m=\u001b[39m\u001b[38;5;28;01mNone\u001b[39;00m, cmap\u001b[38;5;241m=\u001b[39m\u001b[38;5;28;01mNone\u001b[39;00m, norm\u001b[38;5;241m=\u001b[39m\u001b[38;5;28;01mNone\u001b[39;00m,\n\u001b[0;32m   2860\u001b[0m         vmin\u001b[38;5;241m=\u001b[39m\u001b[38;5;28;01mNone\u001b[39;00m, vmax\u001b[38;5;241m=\u001b[39m\u001b[38;5;28;01mNone\u001b[39;00m, alpha\u001b[38;5;241m=\u001b[39m\u001b[38;5;28;01mNone\u001b[39;00m, linewidths\u001b[38;5;241m=\u001b[39m\u001b[38;5;28;01mNone\u001b[39;00m, \u001b[38;5;241m*\u001b[39m,\n\u001b[0;32m   2861\u001b[0m         edgecolors\u001b[38;5;241m=\u001b[39m\u001b[38;5;28;01mNone\u001b[39;00m, plotnonfinite\u001b[38;5;241m=\u001b[39m\u001b[38;5;28;01mFalse\u001b[39;00m, data\u001b[38;5;241m=\u001b[39m\u001b[38;5;28;01mNone\u001b[39;00m, \u001b[38;5;241m*\u001b[39m\u001b[38;5;241m*\u001b[39mkwargs):\n\u001b[1;32m-> 2862\u001b[0m     __ret \u001b[38;5;241m=\u001b[39m \u001b[43mgca\u001b[49m\u001b[43m(\u001b[49m\u001b[43m)\u001b[49m\u001b[38;5;241;43m.\u001b[39;49m\u001b[43mscatter\u001b[49m\u001b[43m(\u001b[49m\n\u001b[0;32m   2863\u001b[0m \u001b[43m        \u001b[49m\u001b[43mx\u001b[49m\u001b[43m,\u001b[49m\u001b[43m \u001b[49m\u001b[43my\u001b[49m\u001b[43m,\u001b[49m\u001b[43m \u001b[49m\u001b[43ms\u001b[49m\u001b[38;5;241;43m=\u001b[39;49m\u001b[43ms\u001b[49m\u001b[43m,\u001b[49m\u001b[43m \u001b[49m\u001b[43mc\u001b[49m\u001b[38;5;241;43m=\u001b[39;49m\u001b[43mc\u001b[49m\u001b[43m,\u001b[49m\u001b[43m \u001b[49m\u001b[43mmarker\u001b[49m\u001b[38;5;241;43m=\u001b[39;49m\u001b[43mmarker\u001b[49m\u001b[43m,\u001b[49m\u001b[43m \u001b[49m\u001b[43mcmap\u001b[49m\u001b[38;5;241;43m=\u001b[39;49m\u001b[43mcmap\u001b[49m\u001b[43m,\u001b[49m\u001b[43m \u001b[49m\u001b[43mnorm\u001b[49m\u001b[38;5;241;43m=\u001b[39;49m\u001b[43mnorm\u001b[49m\u001b[43m,\u001b[49m\n\u001b[0;32m   2864\u001b[0m \u001b[43m        \u001b[49m\u001b[43mvmin\u001b[49m\u001b[38;5;241;43m=\u001b[39;49m\u001b[43mvmin\u001b[49m\u001b[43m,\u001b[49m\u001b[43m \u001b[49m\u001b[43mvmax\u001b[49m\u001b[38;5;241;43m=\u001b[39;49m\u001b[43mvmax\u001b[49m\u001b[43m,\u001b[49m\u001b[43m \u001b[49m\u001b[43malpha\u001b[49m\u001b[38;5;241;43m=\u001b[39;49m\u001b[43malpha\u001b[49m\u001b[43m,\u001b[49m\u001b[43m \u001b[49m\u001b[43mlinewidths\u001b[49m\u001b[38;5;241;43m=\u001b[39;49m\u001b[43mlinewidths\u001b[49m\u001b[43m,\u001b[49m\n\u001b[0;32m   2865\u001b[0m \u001b[43m        \u001b[49m\u001b[43medgecolors\u001b[49m\u001b[38;5;241;43m=\u001b[39;49m\u001b[43medgecolors\u001b[49m\u001b[43m,\u001b[49m\u001b[43m \u001b[49m\u001b[43mplotnonfinite\u001b[49m\u001b[38;5;241;43m=\u001b[39;49m\u001b[43mplotnonfinite\u001b[49m\u001b[43m,\u001b[49m\n\u001b[0;32m   2866\u001b[0m \u001b[43m        \u001b[49m\u001b[38;5;241;43m*\u001b[39;49m\u001b[38;5;241;43m*\u001b[39;49m\u001b[43m(\u001b[49m\u001b[43m{\u001b[49m\u001b[38;5;124;43m\"\u001b[39;49m\u001b[38;5;124;43mdata\u001b[39;49m\u001b[38;5;124;43m\"\u001b[39;49m\u001b[43m:\u001b[49m\u001b[43m \u001b[49m\u001b[43mdata\u001b[49m\u001b[43m}\u001b[49m\u001b[43m \u001b[49m\u001b[38;5;28;43;01mif\u001b[39;49;00m\u001b[43m \u001b[49m\u001b[43mdata\u001b[49m\u001b[43m \u001b[49m\u001b[38;5;129;43;01mis\u001b[39;49;00m\u001b[43m \u001b[49m\u001b[38;5;129;43;01mnot\u001b[39;49;00m\u001b[43m \u001b[49m\u001b[38;5;28;43;01mNone\u001b[39;49;00m\u001b[43m \u001b[49m\u001b[38;5;28;43;01melse\u001b[39;49;00m\u001b[43m \u001b[49m\u001b[43m{\u001b[49m\u001b[43m}\u001b[49m\u001b[43m)\u001b[49m\u001b[43m,\u001b[49m\u001b[43m \u001b[49m\u001b[38;5;241;43m*\u001b[39;49m\u001b[38;5;241;43m*\u001b[39;49m\u001b[43mkwargs\u001b[49m\u001b[43m)\u001b[49m\n\u001b[0;32m   2867\u001b[0m     sci(__ret)\n\u001b[0;32m   2868\u001b[0m     \u001b[38;5;28;01mreturn\u001b[39;00m __ret\n",
      "File \u001b[1;32mc:\\Users\\pande\\AppData\\Local\\Programs\\Python\\Python311\\Lib\\site-packages\\matplotlib\\__init__.py:1459\u001b[0m, in \u001b[0;36m_preprocess_data.<locals>.inner\u001b[1;34m(ax, data, *args, **kwargs)\u001b[0m\n\u001b[0;32m   1456\u001b[0m \u001b[38;5;129m@functools\u001b[39m\u001b[38;5;241m.\u001b[39mwraps(func)\n\u001b[0;32m   1457\u001b[0m \u001b[38;5;28;01mdef\u001b[39;00m \u001b[38;5;21minner\u001b[39m(ax, \u001b[38;5;241m*\u001b[39margs, data\u001b[38;5;241m=\u001b[39m\u001b[38;5;28;01mNone\u001b[39;00m, \u001b[38;5;241m*\u001b[39m\u001b[38;5;241m*\u001b[39mkwargs):\n\u001b[0;32m   1458\u001b[0m     \u001b[38;5;28;01mif\u001b[39;00m data \u001b[38;5;129;01mis\u001b[39;00m \u001b[38;5;28;01mNone\u001b[39;00m:\n\u001b[1;32m-> 1459\u001b[0m         \u001b[38;5;28;01mreturn\u001b[39;00m \u001b[43mfunc\u001b[49m\u001b[43m(\u001b[49m\u001b[43max\u001b[49m\u001b[43m,\u001b[49m\u001b[43m \u001b[49m\u001b[38;5;241;43m*\u001b[39;49m\u001b[38;5;28;43mmap\u001b[39;49m\u001b[43m(\u001b[49m\u001b[43msanitize_sequence\u001b[49m\u001b[43m,\u001b[49m\u001b[43m \u001b[49m\u001b[43margs\u001b[49m\u001b[43m)\u001b[49m\u001b[43m,\u001b[49m\u001b[43m \u001b[49m\u001b[38;5;241;43m*\u001b[39;49m\u001b[38;5;241;43m*\u001b[39;49m\u001b[43mkwargs\u001b[49m\u001b[43m)\u001b[49m\n\u001b[0;32m   1461\u001b[0m     bound \u001b[38;5;241m=\u001b[39m new_sig\u001b[38;5;241m.\u001b[39mbind(ax, \u001b[38;5;241m*\u001b[39margs, \u001b[38;5;241m*\u001b[39m\u001b[38;5;241m*\u001b[39mkwargs)\n\u001b[0;32m   1462\u001b[0m     auto_label \u001b[38;5;241m=\u001b[39m (bound\u001b[38;5;241m.\u001b[39marguments\u001b[38;5;241m.\u001b[39mget(label_namer)\n\u001b[0;32m   1463\u001b[0m                   \u001b[38;5;129;01mor\u001b[39;00m bound\u001b[38;5;241m.\u001b[39mkwargs\u001b[38;5;241m.\u001b[39mget(label_namer))\n",
      "File \u001b[1;32mc:\\Users\\pande\\AppData\\Local\\Programs\\Python\\Python311\\Lib\\site-packages\\matplotlib\\axes\\_axes.py:4584\u001b[0m, in \u001b[0;36mAxes.scatter\u001b[1;34m(self, x, y, s, c, marker, cmap, norm, vmin, vmax, alpha, linewidths, edgecolors, plotnonfinite, **kwargs)\u001b[0m\n\u001b[0;32m   4582\u001b[0m y \u001b[38;5;241m=\u001b[39m np\u001b[38;5;241m.\u001b[39mma\u001b[38;5;241m.\u001b[39mravel(y)\n\u001b[0;32m   4583\u001b[0m \u001b[38;5;28;01mif\u001b[39;00m x\u001b[38;5;241m.\u001b[39msize \u001b[38;5;241m!=\u001b[39m y\u001b[38;5;241m.\u001b[39msize:\n\u001b[1;32m-> 4584\u001b[0m     \u001b[38;5;28;01mraise\u001b[39;00m \u001b[38;5;167;01mValueError\u001b[39;00m(\u001b[38;5;124m\"\u001b[39m\u001b[38;5;124mx and y must be the same size\u001b[39m\u001b[38;5;124m\"\u001b[39m)\n\u001b[0;32m   4586\u001b[0m \u001b[38;5;28;01mif\u001b[39;00m s \u001b[38;5;129;01mis\u001b[39;00m \u001b[38;5;28;01mNone\u001b[39;00m:\n\u001b[0;32m   4587\u001b[0m     s \u001b[38;5;241m=\u001b[39m (\u001b[38;5;241m20\u001b[39m \u001b[38;5;28;01mif\u001b[39;00m mpl\u001b[38;5;241m.\u001b[39mrcParams[\u001b[38;5;124m'\u001b[39m\u001b[38;5;124m_internal.classic_mode\u001b[39m\u001b[38;5;124m'\u001b[39m] \u001b[38;5;28;01melse\u001b[39;00m\n\u001b[0;32m   4588\u001b[0m          mpl\u001b[38;5;241m.\u001b[39mrcParams[\u001b[38;5;124m'\u001b[39m\u001b[38;5;124mlines.markersize\u001b[39m\u001b[38;5;124m'\u001b[39m] \u001b[38;5;241m*\u001b[39m\u001b[38;5;241m*\u001b[39m \u001b[38;5;241m2.0\u001b[39m)\n",
      "\u001b[1;31mValueError\u001b[0m: x and y must be the same size"
     ]
    },
    {
     "data": {
      "image/png": "[encoded data removed]",
      "text/plain": [
       "<Figure size 640x480 with 1 Axes>"
      ]
     },
     "metadata": {},
     "output_type": "display_data"
    }
   ],
   "source": [
    "X1=np.linspace(0,3,100).reshape(-1,1)\n",
    "colors_=['red' if val==1 else 'blue' for val in y]\n",
    "plt.scatter(X,y,c=colors_,s=20)\n",
    "plt.plot(X1,sigmoid(X1@w[1]+w[0]),c='black',label='t0=10')"
   ]
  },
  {
   "cell_type": "code",
   "execution_count": null,
   "metadata": {},
   "outputs": [
    {
     "data": {
      "text/plain": [
       "(150, 2)"
      ]
     },
     "execution_count": 22,
     "metadata": {},
     "output_type": "execute_result"
    }
   ],
   "source": [
    "X_.shape"
   ]
  },
  {
   "cell_type": "code",
   "execution_count": null,
   "metadata": {},
   "outputs": [
    {
     "data": {
      "text/plain": [
       "Text(0.5, 1.0, 'Effect of t1')"
      ]
     },
     "execution_count": 23,
     "metadata": {},
     "output_type": "execute_result"
    },
    {
     "data": {
      "image/png": "[encoded data removed]",
      "text/plain": [
       "<Figure size 640x480 with 1 Axes>"
      ]
     },
     "metadata": {},
     "output_type": "display_data"
    }
   ],
   "source": [
    "X1=np.linspace(0,3,100).reshape(-1,1)\n",
    "colors_=['red' if val==1 else 'blue' for val in y]\n",
    "plt.scatter(X,y,c=colors_,s=20)\n",
    "\n",
    "w=get_weights_stochastic_grad_descent(X_,y,epochs=100,t1=1)\n",
    "h=X1@w[1]+w[0]\n",
    "sig=sigmoid(h)\n",
    "pred=sig\n",
    "plt.plot(X1,sig,c='yellow',label='t1=1')\n",
    "# print(w)\n",
    "\n",
    "w=get_weights_stochastic_grad_descent(X_,y,epochs=100,t1=3)\n",
    "h=X1@w[1]+w[0]\n",
    "sig=sigmoid(h)\n",
    "pred=sig\n",
    "plt.plot(X1,sig,c='green',label='t1=3')\n",
    "# print(w)\n",
    "\n",
    "w=get_weights_stochastic_grad_descent(X_,y,epochs=100,t1=10)\n",
    "h=X1@w[1]+w[0]\n",
    "sig=sigmoid(h)\n",
    "pred=sig\n",
    "plt.plot(X1,sig,c='black',label='t1=10')\n",
    "# print(w)\n",
    "\n",
    "plt.legend()\n",
    "plt.title(\"Effect of t1\")\n",
    "\n",
    "\n"
   ]
  },
  {
   "cell_type": "code",
   "execution_count": null,
   "metadata": {},
   "outputs": [
    {
     "data": {
      "text/plain": [
       "array([[-12.14300843],\n",
       "       [  7.56973652]])"
      ]
     },
     "execution_count": 24,
     "metadata": {},
     "output_type": "execute_result"
    }
   ],
   "source": [
    "w"
   ]
  },
  {
   "cell_type": "code",
   "execution_count": null,
   "metadata": {},
   "outputs": [
    {
     "data": {
      "text/plain": [
       "(100,)"
      ]
     },
     "execution_count": 25,
     "metadata": {},
     "output_type": "execute_result"
    }
   ],
   "source": [
    "(X1@w[1]+w[0]).shape"
   ]
  },
  {
   "cell_type": "code",
   "execution_count": null,
   "metadata": {},
   "outputs": [
    {
     "data": {
      "text/plain": [
       "(100, 1)"
      ]
     },
     "execution_count": 26,
     "metadata": {},
     "output_type": "execute_result"
    }
   ],
   "source": [
    "X1.shape"
   ]
  },
  {
   "cell_type": "code",
   "execution_count": null,
   "metadata": {},
   "outputs": [
    {
     "ename": "TypeError",
     "evalue": "plot_data() missing 2 required positional arguments: 'xlab' and 'ylab'",
     "output_type": "error",
     "traceback": [
      "\u001b[1;31m---------------------------------------------------------------------------\u001b[0m",
      "\u001b[1;31mTypeError\u001b[0m                                 Traceback (most recent call last)",
      "Cell \u001b[1;32mIn[27], line 1\u001b[0m\n\u001b[1;32m----> 1\u001b[0m \u001b[43mplot_data\u001b[49m\u001b[43m(\u001b[49m\u001b[43mX\u001b[49m\u001b[43m[\u001b[49m\u001b[43m:\u001b[49m\u001b[43m,\u001b[49m\u001b[38;5;241;43m0\u001b[39;49m\u001b[43m:\u001b[49m\u001b[38;5;241;43m1\u001b[39;49m\u001b[43m]\u001b[49m\u001b[43m,\u001b[49m\u001b[43mX\u001b[49m\u001b[43m[\u001b[49m\u001b[43m:\u001b[49m\u001b[43m,\u001b[49m\u001b[38;5;241;43m1\u001b[39;49m\u001b[43m:\u001b[49m\u001b[38;5;241;43m2\u001b[39;49m\u001b[43m]\u001b[49m\u001b[43m,\u001b[49m\u001b[43my\u001b[49m\u001b[43m,\u001b[49m\u001b[43mtitle\u001b[49m\u001b[38;5;241;43m=\u001b[39;49m\u001b[38;5;124;43m'\u001b[39;49m\u001b[38;5;124;43mClassification by logistic regression\u001b[39;49m\u001b[38;5;124;43m'\u001b[39;49m\u001b[43m)\u001b[49m\n\u001b[0;32m      2\u001b[0m plt\u001b[38;5;241m.\u001b[39mplot(X[:,\u001b[38;5;241m0\u001b[39m:\u001b[38;5;241m1\u001b[39m],sig,c\u001b[38;5;241m=\u001b[39m\u001b[38;5;124m'\u001b[39m\u001b[38;5;124mblack\u001b[39m\u001b[38;5;124m'\u001b[39m)\n\u001b[0;32m      3\u001b[0m plt\u001b[38;5;241m.\u001b[39mtext(\u001b[38;5;241m0.2\u001b[39m,\u001b[38;5;241m0.002\u001b[39m,\u001b[38;5;124m\"\u001b[39m\u001b[38;5;124mAbove the boundary: red \u001b[39m\u001b[38;5;130;01m\\n\u001b[39;00m\u001b[38;5;124m,below the boundary : blue\u001b[39m\u001b[38;5;124m\"\u001b[39m)\n",
      "\u001b[1;31mTypeError\u001b[0m: plot_data() missing 2 required positional arguments: 'xlab' and 'ylab'"
     ]
    }
   ],
   "source": [
    "plot_data(X[:,0:1],X[:,1:2],y,title='Classification by logistic regression')\n",
    "plt.plot(X[:,0:1],sig,c='black')\n",
    "plt.text(0.2,0.002,\"Above the boundary: red \\n,below the boundary : blue\")"
   ]
  },
  {
   "cell_type": "code",
   "execution_count": null,
   "metadata": {},
   "outputs": [],
   "source": []
  },
  {
   "cell_type": "code",
   "execution_count": null,
   "metadata": {},
   "outputs": [],
   "source": []
  },
  {
   "cell_type": "code",
   "execution_count": null,
   "metadata": {},
   "outputs": [],
   "source": []
  },
  {
   "cell_type": "code",
   "execution_count": null,
   "metadata": {},
   "outputs": [
    {
     "data": {
      "text/plain": [
       "(100, 2)"
      ]
     },
     "execution_count": 23,
     "metadata": {},
     "output_type": "execute_result"
    }
   ],
   "source": [
    "prob.shape"
   ]
  },
  {
   "cell_type": "code",
   "execution_count": null,
   "metadata": {},
   "outputs": [],
   "source": []
  },
  {
   "cell_type": "code",
   "execution_count": null,
   "metadata": {},
   "outputs": [],
   "source": []
  }
 ],
 "metadata": {
  "kernelspec": {
   "display_name": "Python 3",
   "language": "python",
   "name": "python3"
  },
  "language_info": {
   "codemirror_mode": {
    "name": "ipython",
    "version": 3
   },
   "file_extension": ".py",
   "mimetype": "text/x-python",
   "name": "python",
   "nbconvert_exporter": "python",
   "pygments_lexer": "ipython3",
   "version": "3.11.2"
  }
 },
 "nbformat": 4,
 "nbformat_minor": 2
}
