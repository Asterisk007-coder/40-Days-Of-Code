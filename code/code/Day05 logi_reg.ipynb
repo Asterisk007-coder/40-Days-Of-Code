{
 "cells": [
  {
   "cell_type": "code",
   "execution_count": 87,
   "metadata": {},
   "outputs": [],
   "source": [
    "import numpy as np\n",
    "import pandas as pd\n",
    "# im\n",
    "import matplotlib.pyplot as plt\n",
    "import seaborn as sns\n",
    "\n",
    "import matplotlib.patches as mpatch"
   ]
  },
  {
   "cell_type": "code",
   "execution_count": 160,
   "metadata": {},
   "outputs": [],
   "source": [
    "np.random.seed(0)\n",
    "n=100\n",
    "m=2\n",
    "\n",
    "\n",
    "def plot_data(X,y,colors,xlab,ylab,title='Closed form solution',pltobj=None):\n",
    "    colors_=['red' if val==1 else 'blue' for val in colors]\n",
    "    # xlabel='X'\n",
    "    # ylabel='y'\n",
    "    if pltobj is None:\n",
    "        pltobj=plt\n",
    "        # pltobj.scatter(X,y)\n",
    "        pltobj.scatter(X,y,c=colors_,s=20)\n",
    "        # print()\n",
    "        pltobj.xlabel(xlab)\n",
    "        pltobj.ylabel(ylab)\n",
    "        pltobj.title(title)\n",
    "        \n",
    "    else:\n",
    "        pltobj.scatter(X,y,colors=colors_)\n",
    "\n",
    "        pltobj.set_xlabel('X')\n",
    "        pltobj.set_ylabel('y')\n",
    "        pltobj.set_title(title)\n",
    "\n",
    "def random_data(n,m=2,a=3,b=4,plotting=False):\n",
    "    '''generate random linear data of given shape with some gaussian noise'''\n",
    "\n",
    "    X=np.random.rand(n,m) #returns random value in a given shape, in this case nx1 (uniform probability distribution)\n",
    "    h=b + a*X+ np.random.randn(n,1) #the randn function is similar. except it generates gaussian noise\n",
    "    if plotting==True:\n",
    "        # plot_data(X,h,title='Data')\n",
    "        plt.show()\n",
    "\n",
    "    a=-0.7\n",
    "    b=0.9\n",
    "    # b=4\n",
    "    X=np.random.rand(n,m) #returns random value in a given shape, in this case nx1 (uniform probability distribution)\n",
    "    h= a*X[:,0:1]+b*X[:,1:2] + np.random.randn(n,1)\n",
    "    ind=np.argsort(X[:,0],axis=0)\n",
    "    # X[:,0]=np.take_along_axis(X[:,0],ind,axis=0)\n",
    "    # h=np.take_along_axis(h,ind,axis=0)\n",
    "\n",
    "    prob=1/(1+np.exp(h))\n",
    "    y=np.random.binomial(1,prob)\n",
    "    return X,y\n",
    "    # np.sum(y) #sum is 43 so somewhat equally likely\n",
    "\n",
    "\n",
    "\n",
    "    # return X,y\n"
   ]
  },
  {
   "cell_type": "code",
   "execution_count": 13,
   "metadata": {},
   "outputs": [],
   "source": [
    "from sklearn import datasets\n",
    "iris=datasets.load_iris()\n"
   ]
  },
  {
   "cell_type": "code",
   "execution_count": 109,
   "metadata": {},
   "outputs": [
    {
     "name": "stdout",
     "output_type": "stream",
     "text": [
      "(150, 1) (150, 1)\n"
     ]
    }
   ],
   "source": [
    "# iris.keys()\n",
    "X=iris['data'][:,3:]\n",
    "n,m=X.shape\n",
    "y=(iris['target']==2).astype(int).reshape(n,1)\n",
    "print(X.shape, y.shape)"
   ]
  },
  {
   "cell_type": "code",
   "execution_count": 110,
   "metadata": {},
   "outputs": [
    {
     "data": {
      "text/plain": [
       "150"
      ]
     },
     "execution_count": 110,
     "metadata": {},
     "output_type": "execute_result"
    }
   ],
   "source": [
    "n"
   ]
  },
  {
   "cell_type": "code",
   "execution_count": 111,
   "metadata": {},
   "outputs": [
    {
     "data": {
      "text/plain": [
       "100"
      ]
     },
     "execution_count": 111,
     "metadata": {},
     "output_type": "execute_result"
    },
    {
     "data": {
      "image/png": "[encoded data removed]",
      "text/plain": [
       "<Figure size 640x480 with 1 Axes>"
      ]
     },
     "metadata": {},
     "output_type": "display_data"
    }
   ],
   "source": [
    "# X,y=random_data(100)\n",
    "# sorted_indices = np.lexsort((X[:, 1], X[:, 0]))\n",
    "ind= np.argsort(X,axis=0)\n",
    "X=np.take_along_axis(X,ind,axis=0)\n",
    "y=np.take_along_axis(y,ind,axis=0)\n",
    "\n",
    "# Use sorted indices to rearrange the original array\n",
    "# X = X[sorted_indices]\n",
    "# np.sort(X,axis=0)\n",
    "# np.sort(X,axis=1).\n",
    "\n",
    "\n",
    "r1=mpatch.Patch(color='red',label='Class 1')\n",
    "r2=mpatch.Patch(color='blue',label='Class 0')\n",
    "\n",
    "plot_data(X,np.ones((n,1)),y,'Binary classed data')\n",
    "# plot_data(X[:,0:1],X[:,1:2],y,title='Binary classed data')\n",
    "plt.legend(handles = [r1,r2])\n",
    "np.count_nonzero(y==0)"
   ]
  },
  {
   "cell_type": "code",
   "execution_count": 108,
   "metadata": {},
   "outputs": [
    {
     "data": {
      "text/plain": [
       "(100, 1)"
      ]
     },
     "execution_count": 108,
     "metadata": {},
     "output_type": "execute_result"
    }
   ],
   "source": []
  },
  {
   "cell_type": "code",
   "execution_count": 103,
   "metadata": {},
   "outputs": [
    {
     "data": {
      "text/plain": [
       "(150, 1)"
      ]
     },
     "execution_count": 103,
     "metadata": {},
     "output_type": "execute_result"
    }
   ],
   "source": [
    "\n",
    "y.shape"
   ]
  },
  {
   "cell_type": "code",
   "execution_count": 78,
   "metadata": {},
   "outputs": [
    {
     "data": {
      "text/plain": [
       "array([0, 0, 0, 0, 0, 0, 0, 0, 0, 0, 0, 0, 0, 0, 0, 0, 0, 0, 0, 0, 0, 0,\n",
       "       0, 0, 0, 0, 0, 0, 0, 0, 0, 0, 0, 0, 0, 0, 0, 0, 0, 0, 0, 0, 0, 0,\n",
       "       0, 0, 0, 0, 0, 0, 0, 0, 0, 0, 0, 0, 0, 0, 0, 0, 0, 0, 0, 0, 0, 0,\n",
       "       0, 0, 0, 0, 0, 0, 0, 0, 0, 0, 0, 0, 0, 0, 0, 0, 0, 0, 0, 0, 0, 0,\n",
       "       0, 0, 0, 0, 0, 0, 0, 0, 0, 0, 0, 0, 0, 0, 0, 0, 0, 0, 0, 0, 0, 0,\n",
       "       0, 0, 0, 0, 0, 0, 0, 0, 0, 0, 0, 0, 0, 0, 0, 0, 0, 0, 0, 0, 0, 0,\n",
       "       0, 0, 0, 0, 0, 0, 0, 0, 0, 0, 0, 0, 0, 0, 0, 0, 0, 0], dtype=int64)"
      ]
     },
     "execution_count": 78,
     "metadata": {},
     "output_type": "execute_result"
    }
   ],
   "source": [
    "ind= np.argsort(X)\n",
    "ind.reshape(n,)"
   ]
  },
  {
   "cell_type": "code",
   "execution_count": 85,
   "metadata": {},
   "outputs": [
    {
     "data": {
      "text/plain": [
       "array([[ 32],\n",
       "       [ 13],\n",
       "       [ 37],\n",
       "       [  9],\n",
       "       [ 12],\n",
       "       [  0],\n",
       "       [ 27],\n",
       "       [ 28],\n",
       "       [ 29],\n",
       "       [ 30],\n",
       "       [ 33],\n",
       "       [ 36],\n",
       "       [ 25],\n",
       "       [ 38],\n",
       "       [ 39],\n",
       "       [ 42],\n",
       "       [ 46],\n",
       "       [ 47],\n",
       "       [ 48],\n",
       "       [ 49],\n",
       "       [ 34],\n",
       "       [ 24],\n",
       "       [ 35],\n",
       "       [  3],\n",
       "       [  2],\n",
       "       [  7],\n",
       "       [  8],\n",
       "       [ 10],\n",
       "       [  4],\n",
       "       [ 11],\n",
       "       [ 14],\n",
       "       [  1],\n",
       "       [ 20],\n",
       "       [ 22],\n",
       "       [ 17],\n",
       "       [ 18],\n",
       "       [ 19],\n",
       "       [  6],\n",
       "       [ 40],\n",
       "       [ 41],\n",
       "       [ 45],\n",
       "       [ 15],\n",
       "       [ 16],\n",
       "       [ 26],\n",
       "       [  5],\n",
       "       [ 21],\n",
       "       [ 44],\n",
       "       [ 31],\n",
       "       [ 23],\n",
       "       [ 43],\n",
       "       [ 79],\n",
       "       [ 67],\n",
       "       [ 81],\n",
       "       [ 62],\n",
       "       [ 57],\n",
       "       [ 93],\n",
       "       [ 60],\n",
       "       [ 98],\n",
       "       [ 80],\n",
       "       [ 69],\n",
       "       [ 95],\n",
       "       [ 92],\n",
       "       [ 90],\n",
       "       [ 82],\n",
       "       [ 73],\n",
       "       [ 96],\n",
       "       [ 89],\n",
       "       [ 97],\n",
       "       [ 88],\n",
       "       [ 87],\n",
       "       [ 99],\n",
       "       [ 94],\n",
       "       [ 74],\n",
       "       [ 71],\n",
       "       [ 53],\n",
       "       [ 55],\n",
       "       [ 58],\n",
       "       [ 64],\n",
       "       [134],\n",
       "       [ 50],\n",
       "       [ 59],\n",
       "       [ 63],\n",
       "       [ 91],\n",
       "       [ 76],\n",
       "       [ 75],\n",
       "       [ 65],\n",
       "       [119],\n",
       "       [133],\n",
       "       [ 51],\n",
       "       [ 52],\n",
       "       [ 54],\n",
       "       [ 78],\n",
       "       [ 72],\n",
       "       [ 84],\n",
       "       [ 61],\n",
       "       [ 68],\n",
       "       [ 66],\n",
       "       [ 86],\n",
       "       [ 56],\n",
       "       [129],\n",
       "       [ 85],\n",
       "       [ 83],\n",
       "       [106],\n",
       "       [ 77],\n",
       "       [116],\n",
       "       [137],\n",
       "       [127],\n",
       "       [126],\n",
       "       [125],\n",
       "       [123],\n",
       "       [138],\n",
       "       [149],\n",
       "       [ 70],\n",
       "       [103],\n",
       "       [107],\n",
       "       [108],\n",
       "       [130],\n",
       "       [146],\n",
       "       [142],\n",
       "       [101],\n",
       "       [111],\n",
       "       [121],\n",
       "       [122],\n",
       "       [147],\n",
       "       [113],\n",
       "       [131],\n",
       "       [110],\n",
       "       [139],\n",
       "       [102],\n",
       "       [112],\n",
       "       [105],\n",
       "       [124],\n",
       "       [128],\n",
       "       [117],\n",
       "       [132],\n",
       "       [104],\n",
       "       [120],\n",
       "       [115],\n",
       "       [148],\n",
       "       [141],\n",
       "       [143],\n",
       "       [145],\n",
       "       [118],\n",
       "       [135],\n",
       "       [136],\n",
       "       [140],\n",
       "       [114],\n",
       "       [100],\n",
       "       [144],\n",
       "       [109]], dtype=int64)"
      ]
     },
     "execution_count": 85,
     "metadata": {},
     "output_type": "execute_result"
    }
   ],
   "source": [
    "x = np.array([3, 1, 2])\n",
    "\n",
    "np.argsort(X,axis=0)\n",
    "# X"
   ]
  },
  {
   "cell_type": "code",
   "execution_count": 136,
   "metadata": {},
   "outputs": [],
   "source": [
    "def mse(x1,x2):\n",
    "    n=x1.shape[0]\n",
    "    return (0.5/n)*np.sum(np.square((x1-x2)))\n",
    "\n",
    "def sigmoid(x):\n",
    "    return (1/(1+np.exp(x)))\n",
    "\n",
    "def grad(X,y,w,regulariser=None,alpha=0):\n",
    "    '''1D batch gradient descent''' \n",
    "    n,m=X.shape\n",
    "    A=np.zeros((m,m))\n",
    "    if regulariser in ['l2','ridge']:\n",
    "        A=np.eye(m)\n",
    "        A[0][0]=0\n",
    "    elif regulariser in ['l1','lasso']:\n",
    "        pass\n",
    "    #note: @ means matrix mulitplication (np.matmul)\n",
    "    h=X@w\n",
    "    sig=sigmoid(h)-y\n",
    "    sig=1/(1+np.exp(h))\n",
    "    sig-=y\n",
    "    # print(h.shape)\n",
    "    # print(h.shape)\n",
    "    \n",
    "    # print(\"multing \" )\n",
    "    # # print((X.T).shape)\n",
    "    # print(h.shape)\n",
    "\n",
    "    # print(sigmoid(h).shape)\n",
    "    # print(sig.shape)\n",
    "    return (2/n)*((X.T)@(sig)) #gradient vector   \n",
    "    # return (2/n)*(X.T)@(sigmoid(X@w)-y) + alpha*A@w#gradient vector   \n",
    "    #\n",
    "w=np.random.randn(m,1)\n",
    "\n",
    "# X[:2].shape\n",
    "# y[:2].shape\n",
    "# # w.shape\n",
    "# grad(X[:2],y[:2],w)\n",
    "# X.shape\n",
    "\n",
    "a=np.ones((n,1))\n",
    "X_=np.concatenate((a,X),axis=1)\n",
    "\n",
    "\n"
   ]
  },
  {
   "cell_type": "code",
   "execution_count": null,
   "metadata": {},
   "outputs": [],
   "source": []
  },
  {
   "cell_type": "code",
   "execution_count": 5,
   "metadata": {},
   "outputs": [
    {
     "data": {
      "text/plain": [
       "array([[-29.29773162],\n",
       "       [-28.84868756]])"
      ]
     },
     "execution_count": 5,
     "metadata": {},
     "output_type": "execute_result"
    }
   ],
   "source": [
    "(X.T)@(X@w)\n",
    "# (X@w).shape"
   ]
  },
  {
   "cell_type": "code",
   "execution_count": 303,
   "metadata": {},
   "outputs": [
    {
     "data": {
      "text/plain": [
       "array([[-56.0016708 ],\n",
       "       [-42.35037982]])"
      ]
     },
     "execution_count": 303,
     "metadata": {},
     "output_type": "execute_result"
    }
   ],
   "source": [
    "def get_eta_stochastic(t,t0=5,t1=50):\n",
    "    # t0=np.random.randn()\n",
    "    # t1=np.random.randn()\n",
    "    \n",
    "    return t0/(t+t1)\n",
    "\n",
    "def get_weights_stochastic_grad_descent(X,y,*,epochs,t0=5,t1=50,wlist=None,regulariser=None,alpha=0):\n",
    "    n,m=X.shape\n",
    "    w=np.random.randn(m,1)\n",
    "    for epoch in range(epochs):\n",
    "        for i in range(n):\n",
    "            eta=get_eta_stochastic(n*epoch+i)\n",
    "            r=np.random.randint(n)\n",
    "            learning_rate=get_eta_stochastic(n*epoch+i,t0,t1)\n",
    "            \n",
    "            delta_w=grad(X[r:r+1],y[r:r+1],w,regulariser,alpha)\n",
    "            # print(delta_w.shape)\n",
    "            w-=eta*delta_w\n",
    "        if (wlist is not None):\n",
    "            wlist.append((w[0][0],w[1][0]))\n",
    "            pass\n",
    "    return w\n",
    "\n",
    "# wlist_stochastic=[]\n",
    "w=get_weights_stochastic_grad_descent(X_,y,epochs=1500)\n",
    "w"
   ]
  },
  {
   "cell_type": "code",
   "execution_count": 254,
   "metadata": {},
   "outputs": [
    {
     "data": {
      "text/plain": [
       "Text(0.5, 1.0, 'Effect of t0')"
      ]
     },
     "execution_count": 254,
     "metadata": {},
     "output_type": "execute_result"
    },
    {
     "data": {
      "image/png": "[encoded data removed]",
      "text/plain": [
       "<Figure size 640x480 with 1 Axes>"
      ]
     },
     "metadata": {},
     "output_type": "display_data"
    }
   ],
   "source": [
    "X1=np.linspace(0,3,100).reshape(-1,1)\n",
    "colors_=['red' if val==1 else 'blue' for val in y]\n",
    "plt.scatter(X,y,c=colors_,s=20)\n",
    "\n",
    "w=get_weights_stochastic_grad_descent(X_,y,epochs=100,t0=1)\n",
    "h=X1@w[1]+w[0]\n",
    "sig=sigmoid(h)\n",
    "pred=sig\n",
    "plt.plot(X1,sig,c='yellow',label='t0=1')\n",
    "# print(w)\n",
    "\n",
    "w=get_weights_stochastic_grad_descent(X_,y,epochs=100,t0=5)\n",
    "h=X1@w[1]+w[0]\n",
    "sig=sigmoid(h)\n",
    "pred=sig\n",
    "plt.plot(X1,sig,c='green',label='t0=5')\n",
    "# print(w)\n",
    "\n",
    "w=get_weights_stochastic_grad_descent(X_,y,epochs=100,t0=10)\n",
    "h=X1@w[1]+w[0]\n",
    "sig=sigmoid(h)\n",
    "pred=sig\n",
    "plt.plot(X1,sig,c='black',label='t0=10')\n",
    "plt.legend()\n",
    "plt.title(\"Effect of t0\")\n",
    "# print(w)\n",
    "\n"
   ]
  },
  {
   "cell_type": "code",
   "execution_count": 259,
   "metadata": {},
   "outputs": [
    {
     "name": "stderr",
     "output_type": "stream",
     "text": [
      "c:\\Users\\pande\\AppData\\Local\\Programs\\Python\\Python311\\Lib\\site-packages\\sklearn\\utils\\validation.py:1184: DataConversionWarning: A column-vector y was passed when a 1d array was expected. Please change the shape of y to (n_samples, ), for example using ravel().\n",
      "  y = column_or_1d(y, warn=True)\n"
     ]
    },
    {
     "data": {
      "text/html": [
       "<style>#sk-container-id-1 {color: black;}#sk-container-id-1 pre{padding: 0;}#sk-container-id-1 div.sk-toggleable {background-color: white;}#sk-container-id-1 label.sk-toggleable__label {cursor: pointer;display: block;width: 100%;margin-bottom: 0;padding: 0.3em;box-sizing: border-box;text-align: center;}#sk-container-id-1 label.sk-toggleable__label-arrow:before {content: \"▸\";float: left;margin-right: 0.25em;color: #696969;}#sk-container-id-1 label.sk-toggleable__label-arrow:hover:before {color: black;}#sk-container-id-1 div.sk-estimator:hover label.sk-toggleable__label-arrow:before {color: black;}#sk-container-id-1 div.sk-toggleable__content {max-height: 0;max-width: 0;overflow: hidden;text-align: left;background-color: #f0f8ff;}#sk-container-id-1 div.sk-toggleable__content pre {margin: 0.2em;color: black;border-radius: 0.25em;background-color: #f0f8ff;}#sk-container-id-1 input.sk-toggleable__control:checked~div.sk-toggleable__content {max-height: 200px;max-width: 100%;overflow: auto;}#sk-container-id-1 input.sk-toggleable__control:checked~label.sk-toggleable__label-arrow:before {content: \"▾\";}#sk-container-id-1 div.sk-estimator input.sk-toggleable__control:checked~label.sk-toggleable__label {background-color: #d4ebff;}#sk-container-id-1 div.sk-label input.sk-toggleable__control:checked~label.sk-toggleable__label {background-color: #d4ebff;}#sk-container-id-1 input.sk-hidden--visually {border: 0;clip: rect(1px 1px 1px 1px);clip: rect(1px, 1px, 1px, 1px);height: 1px;margin: -1px;overflow: hidden;padding: 0;position: absolute;width: 1px;}#sk-container-id-1 div.sk-estimator {font-family: monospace;background-color: #f0f8ff;border: 1px dotted black;border-radius: 0.25em;box-sizing: border-box;margin-bottom: 0.5em;}#sk-container-id-1 div.sk-estimator:hover {background-color: #d4ebff;}#sk-container-id-1 div.sk-parallel-item::after {content: \"\";width: 100%;border-bottom: 1px solid gray;flex-grow: 1;}#sk-container-id-1 div.sk-label:hover label.sk-toggleable__label {background-color: #d4ebff;}#sk-container-id-1 div.sk-serial::before {content: \"\";position: absolute;border-left: 1px solid gray;box-sizing: border-box;top: 0;bottom: 0;left: 50%;z-index: 0;}#sk-container-id-1 div.sk-serial {display: flex;flex-direction: column;align-items: center;background-color: white;padding-right: 0.2em;padding-left: 0.2em;position: relative;}#sk-container-id-1 div.sk-item {position: relative;z-index: 1;}#sk-container-id-1 div.sk-parallel {display: flex;align-items: stretch;justify-content: center;background-color: white;position: relative;}#sk-container-id-1 div.sk-item::before, #sk-container-id-1 div.sk-parallel-item::before {content: \"\";position: absolute;border-left: 1px solid gray;box-sizing: border-box;top: 0;bottom: 0;left: 50%;z-index: -1;}#sk-container-id-1 div.sk-parallel-item {display: flex;flex-direction: column;z-index: 1;position: relative;background-color: white;}#sk-container-id-1 div.sk-parallel-item:first-child::after {align-self: flex-end;width: 50%;}#sk-container-id-1 div.sk-parallel-item:last-child::after {align-self: flex-start;width: 50%;}#sk-container-id-1 div.sk-parallel-item:only-child::after {width: 0;}#sk-container-id-1 div.sk-dashed-wrapped {border: 1px dashed gray;margin: 0 0.4em 0.5em 0.4em;box-sizing: border-box;padding-bottom: 0.4em;background-color: white;}#sk-container-id-1 div.sk-label label {font-family: monospace;font-weight: bold;display: inline-block;line-height: 1.2em;}#sk-container-id-1 div.sk-label-container {text-align: center;}#sk-container-id-1 div.sk-container {/* jupyter's `normalize.less` sets `[hidden] { display: none; }` but bootstrap.min.css set `[hidden] { display: none !important; }` so we also need the `!important` here to be able to override the default hidden behavior on the sphinx rendered scikit-learn.org. See: https://github.com/scikit-learn/scikit-learn/issues/21755 */display: inline-block !important;position: relative;}#sk-container-id-1 div.sk-text-repr-fallback {display: none;}</style><div id=\"sk-container-id-1\" class=\"sk-top-container\"><div class=\"sk-text-repr-fallback\"><pre>LogisticRegression()</pre><b>In a Jupyter environment, please rerun this cell to show the HTML representation or trust the notebook. <br />On GitHub, the HTML representation is unable to render, please try loading this page with nbviewer.org.</b></div><div class=\"sk-container\" hidden><div class=\"sk-item\"><div class=\"sk-estimator sk-toggleable\"><input class=\"sk-toggleable__control sk-hidden--visually\" id=\"sk-estimator-id-1\" type=\"checkbox\" checked><label for=\"sk-estimator-id-1\" class=\"sk-toggleable__label sk-toggleable__label-arrow\">LogisticRegression</label><div class=\"sk-toggleable__content\"><pre>LogisticRegression()</pre></div></div></div></div></div>"
      ],
      "text/plain": [
       "LogisticRegression()"
      ]
     },
     "execution_count": 259,
     "metadata": {},
     "output_type": "execute_result"
    }
   ],
   "source": [
    "from sklearn.linear_model import LogisticRegression\n",
    "log_reg = LogisticRegression()\n",
    "log_reg.fit(X, y)\n"
   ]
  },
  {
   "cell_type": "code",
   "execution_count": 304,
   "metadata": {},
   "outputs": [
    {
     "data": {
      "text/plain": [
       "array([[-7.1947083],\n",
       "       [ 4.3330846]])"
      ]
     },
     "execution_count": 304,
     "metadata": {},
     "output_type": "execute_result"
    }
   ],
   "source": [
    "w=np.array(( log_reg.intercept_[0],log_reg.coef_[0][0])).reshape(-1,1)\n",
    "w"
   ]
  },
  {
   "cell_type": "code",
   "execution_count": 305,
   "metadata": {},
   "outputs": [
    {
     "data": {
      "text/plain": [
       "[<matplotlib.lines.Line2D at 0x2418a5c5e10>]"
      ]
     },
     "execution_count": 305,
     "metadata": {},
     "output_type": "execute_result"
    },
    {
     "data": {
      "image/png": "[encoded data removed]",
      "text/plain": [
       "<Figure size 640x480 with 1 Axes>"
      ]
     },
     "metadata": {},
     "output_type": "display_data"
    }
   ],
   "source": [
    "X1=np.linspace(0,3,100).reshape(-1,1)\n",
    "colors_=['red' if val==1 else 'blue' for val in y]\n",
    "plt.scatter(X,y,c=colors_,s=20)\n",
    "plt.plot(X1,sigmoid(X1@w[1]+w[0]),c='black',label='t0=10')"
   ]
  },
  {
   "cell_type": "code",
   "execution_count": 289,
   "metadata": {},
   "outputs": [
    {
     "data": {
      "text/plain": [
       "(150, 2)"
      ]
     },
     "execution_count": 289,
     "metadata": {},
     "output_type": "execute_result"
    }
   ],
   "source": [
    "X_.shape"
   ]
  },
  {
   "cell_type": "code",
   "execution_count": 250,
   "metadata": {},
   "outputs": [
    {
     "name": "stdout",
     "output_type": "stream",
     "text": [
      "[[-39.57734195]\n",
      " [-32.61241105]]\n",
      "[[-38.56021515]\n",
      " [-29.99679219]]\n",
      "[[15.88818561]\n",
      " [34.85505636]]\n"
     ]
    },
    {
     "data": {
      "text/plain": [
       "<matplotlib.legend.Legend at 0x2418a360990>"
      ]
     },
     "execution_count": 250,
     "metadata": {},
     "output_type": "execute_result"
    },
    {
     "data": {
      "image/png": "[encoded data removed]",
      "text/plain": [
       "<Figure size 640x480 with 1 Axes>"
      ]
     },
     "metadata": {},
     "output_type": "display_data"
    }
   ],
   "source": [
    "X1=np.linspace(0,3,100).reshape(-1,1)\n",
    "colors_=['red' if val==1 else 'blue' for val in y]\n",
    "plt.scatter(X,y,c=colors_,s=20)\n",
    "\n",
    "w=get_weights_stochastic_grad_descent(X_,y,epochs=100,t1=1)\n",
    "h=X1@w[1]+w[0]\n",
    "sig=sigmoid(h)\n",
    "pred=sig\n",
    "plt.plot(X1,sig,c='yellow',label='t1=1')\n",
    "# print(w)\n",
    "\n",
    "w=get_weights_stochastic_grad_descent(X_,y,epochs=100,t1=3)\n",
    "h=X1@w[1]+w[0]\n",
    "sig=sigmoid(h)\n",
    "pred=sig\n",
    "plt.plot(X1,sig,c='green',label='t1=3')\n",
    "# print(w)\n",
    "\n",
    "w=get_weights_stochastic_grad_descent(X_,y,epochs=100,t1=10)\n",
    "h=X1@w[1]+w[0]\n",
    "sig=sigmoid(h)\n",
    "pred=sig\n",
    "plt.plot(X1,sig,c='black',label='t1=10')\n",
    "# print(w)\n",
    "\n",
    "plt.legend()\n",
    "plt.title(\"Effect of t1\")\n",
    "\n",
    "\n"
   ]
  },
  {
   "cell_type": "code",
   "execution_count": 248,
   "metadata": {},
   "outputs": [
    {
     "data": {
      "text/plain": [
       "array([[17.21502123],\n",
       "       [36.78406485]])"
      ]
     },
     "execution_count": 248,
     "metadata": {},
     "output_type": "execute_result"
    }
   ],
   "source": [
    "w"
   ]
  },
  {
   "cell_type": "code",
   "execution_count": 230,
   "metadata": {},
   "outputs": [
    {
     "data": {
      "text/plain": [
       "(100,)"
      ]
     },
     "execution_count": 230,
     "metadata": {},
     "output_type": "execute_result"
    }
   ],
   "source": [
    "(X1@w[1]+w[0]).shape"
   ]
  },
  {
   "cell_type": "code",
   "execution_count": 231,
   "metadata": {},
   "outputs": [
    {
     "data": {
      "text/plain": [
       "(100, 1)"
      ]
     },
     "execution_count": 231,
     "metadata": {},
     "output_type": "execute_result"
    }
   ],
   "source": [
    "X1.shape"
   ]
  },
  {
   "cell_type": "code",
   "execution_count": null,
   "metadata": {},
   "outputs": [
    {
     "data": {
      "text/plain": [
       "Text(0.2, 0.002, 'Above the boundary: red \\n,below the boundary : blue')"
      ]
     },
     "execution_count": 392,
     "metadata": {},
     "output_type": "execute_result"
    },
    {
     "data": {
      "image/png": "[encoded data removed]",
      "text/plain": [
       "<Figure size 640x480 with 1 Axes>"
      ]
     },
     "metadata": {},
     "output_type": "display_data"
    }
   ],
   "source": [
    "plot_data(X[:,0:1],X[:,1:2],y,title='Classification by logistic regression')\n",
    "plt.plot(X[:,0:1],sig,c='black')\n",
    "plt.text(0.2,0.002,\"Above the boundary: red \\n,below the boundary : blue\")"
   ]
  },
  {
   "cell_type": "code",
   "execution_count": null,
   "metadata": {},
   "outputs": [],
   "source": []
  },
  {
   "cell_type": "code",
   "execution_count": null,
   "metadata": {},
   "outputs": [],
   "source": []
  },
  {
   "cell_type": "code",
   "execution_count": null,
   "metadata": {},
   "outputs": [],
   "source": []
  },
  {
   "cell_type": "code",
   "execution_count": null,
   "metadata": {},
   "outputs": [
    {
     "data": {
      "text/plain": [
       "(100, 2)"
      ]
     },
     "execution_count": 23,
     "metadata": {},
     "output_type": "execute_result"
    }
   ],
   "source": [
    "prob.shape"
   ]
  },
  {
   "cell_type": "code",
   "execution_count": null,
   "metadata": {},
   "outputs": [],
   "source": []
  },
  {
   "cell_type": "code",
   "execution_count": null,
   "metadata": {},
   "outputs": [],
   "source": []
  }
 ],
 "metadata": {
  "kernelspec": {
   "display_name": "Python 3",
   "language": "python",
   "name": "python3"
  },
  "language_info": {
   "codemirror_mode": {
    "name": "ipython",
    "version": 3
   },
   "file_extension": ".py",
   "mimetype": "text/x-python",
   "name": "python",
   "nbconvert_exporter": "python",
   "pygments_lexer": "ipython3",
   "version": "3.11.2"
  }
 },
 "nbformat": 4,
 "nbformat_minor": 2
}
