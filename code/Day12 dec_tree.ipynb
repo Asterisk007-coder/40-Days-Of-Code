{
 "cells": [
  {
   "cell_type": "code",
   "execution_count": 1,
   "metadata": {},
   "outputs": [],
   "source": [
    "import numpy as np\n",
    "import pandas as pd\n",
    "# im\n",
    "import matplotlib.pyplot as plt\n",
    "import graphviz\n",
    "import seaborn as sns"
   ]
  },
  {
   "cell_type": "code",
   "execution_count": 4,
   "metadata": {},
   "outputs": [],
   "source": [
    "class Node:\n",
    "    def __init__(self):\n",
    "        self.feature_index=None\n",
    "        self.threshold=None\n",
    "        self.value=None\n",
    "        self.children=[]\n",
    "        self.isroot=False\n",
    "        self.isleaf=False\n",
    "        self.samples=None\n",
    "        self.discrete=True\n",
    "        # self.cond=None\n",
    "        '''basically if self.discrete is true then match conditions by equality, else by high/low'''\n",
    "\n",
    "def plot_node(root,dot,k,parent,thresholds=None):\n",
    "    root_id=str(k)\n",
    "    root_text='X'+str(root.feature_index)\n",
    "    if thresholds is not None:\n",
    "        thres=thresholds[root.feature_index][0]\n",
    "        if thres-int(thres)==0:\n",
    "            thres=int(thres)\n",
    "        root_text+=' < '+str(thres)\n",
    "    dot.node(root_id,root_text,shape='box')  \n",
    "    k+=1\n",
    "\n",
    "    # if (k!=0)\n",
    "\n",
    "    l=len(root.children)\n",
    "    for i in range(l):\n",
    "        # dot.node(str(i),'feature')\n",
    "        child=root.children[i]\n",
    "        \n",
    "        \n",
    "        if child.isleaf:\n",
    "            text='Class '+str(child.value).strip('[]')\n",
    "            dot.node(str(k),text,shape='oval')\n",
    "            node_label=child.threshold\n",
    "            if thresholds is not None:\n",
    "                node_label = bool(node_label)\n",
    "                # print(node_label)\n",
    "            dot.edge(root_id,str(k),str(node_label))\n",
    "            k+=1\n",
    "        else:\n",
    "            dot,k=plot_node(child,dot,k,root_id)\n",
    "    if parent is not None:\n",
    "        node_label=root.threshold\n",
    "        if thresholds is not None:\n",
    "            node_label = bool(node_label)\n",
    "            # print(node_label)\n",
    "        \n",
    "        dot.edge(parent,root_id,str(node_label))\n",
    "\n",
    "    return dot,k\n",
    "\n",
    "\n",
    "def plot_tree(root,k=0,*,render_flag=False,thresholds=None):\n",
    "    dot=graphviz.Digraph()\n",
    "    dot,k=plot_node(root,dot,k,None,thresholds)\n",
    "    if render_flag==True:\n",
    "        dot.render('Tree',format='png',cleanup=True,view=True)\n",
    "    return dot\n",
    "\n",
    "# dot=plot_tree(head)\n",
    "# dot"
   ]
  },
  {
   "cell_type": "code",
   "execution_count": 5,
   "metadata": {},
   "outputs": [],
   "source": [
    "n=20\n",
    "X=np.random.randint(0,3,size=(n,3))\n",
    "y=np.random.randint(0,2,size=(n,1))\n",
    "# tree=ID3(X,y,verbose=False)\n",
    "# plot_tree(tree)"
   ]
  },
  {
   "cell_type": "code",
   "execution_count": null,
   "metadata": {},
   "outputs": [],
   "source": []
  },
  {
   "cell_type": "code",
   "execution_count": 6,
   "metadata": {},
   "outputs": [
    {
     "data": {
      "text/plain": [
       "1.584962500721156"
      ]
     },
     "execution_count": 6,
     "metadata": {},
     "output_type": "execute_result"
    }
   ],
   "source": [
    "def entropy_binary(p,n):\n",
    "    '''higher entropy means more equal dataset, is from 0 to 1'''\n",
    "    N=p+n\n",
    "    p/=N\n",
    "    n/=N\n",
    "\n",
    "    return -(p*np.log2(p)+n*np.log2(n))\n",
    "\n",
    "def entropy_prob(p_array):\n",
    "    '''higher entropy means more equal dataset, is from 0 to 1'''\n",
    "\n",
    "    p_=p_array.astype('float64')\n",
    "\n",
    "    N=np.sum(p_)\n",
    "    p_/=N\n",
    "    \n",
    "    return -np.sum(p_*np.log2(p_))\n",
    "\n",
    "def entropy(a):\n",
    "    x,probs=np.unique(a,return_counts=True)\n",
    "    return entropy_prob(probs)\n",
    "\n",
    "k=np.array((9,5,2))\n",
    "entropy(k)\n"
   ]
  },
  {
   "cell_type": "code",
   "execution_count": 7,
   "metadata": {},
   "outputs": [],
   "source": [
    "x=np.arange(3)"
   ]
  },
  {
   "cell_type": "code",
   "execution_count": 8,
   "metadata": {},
   "outputs": [],
   "source": [
    "a = np.random.randint(0,5,size=(4,3))\n",
    "a[:,0:1].shape\n",
    "\n",
    "def mode(x):\n",
    "    val,counts=np.unique(x,return_counts=True)\n",
    "    return val[np.argmax(counts)]\n"
   ]
  },
  {
   "cell_type": "code",
   "execution_count": null,
   "metadata": {},
   "outputs": [],
   "source": []
  },
  {
   "cell_type": "code",
   "execution_count": null,
   "metadata": {},
   "outputs": [],
   "source": []
  },
  {
   "cell_type": "code",
   "execution_count": 9,
   "metadata": {},
   "outputs": [],
   "source": [
    "def gain(S,y,*,feature_index):\n",
    "    '''calculates information gain'''\n",
    "    A=feature_index\n",
    "    old_entropy=entropy(y)\n",
    "    n,m=S.shape\n",
    "    S_A=S[:,A]\n",
    "    vals=np.unique(S_A)\n",
    "    new_entropy=0\n",
    "    for v in vals:\n",
    "        yv=y[S_A==v]\n",
    "        new_entropy+=yv.shape[0]/n*entropy(yv)\n",
    "    \n",
    "    return old_entropy-new_entropy\n",
    "\n",
    "def optimum_feature(X,y,*,features = None, ):\n",
    "    n,m=X.shape\n",
    "    \n",
    "    if features is None:\n",
    "        features=np.ones(m)\n",
    "    \n",
    "    # m=features.shape[0]\n",
    "    max_feature=None\n",
    "    max_gain=-1\n",
    "    # print(\"Gains follow : \")\n",
    "    for i in range(m):\n",
    "        if features[i]==0:\n",
    "            continue\n",
    "        gain1=gain(X,y,feature_index=i)\n",
    "        # print(i, gain1.item())\n",
    "        if i==0 or max_gain<gain1:\n",
    "            max_feature=i\n",
    "\n",
    "    return max_feature"
   ]
  },
  {
   "cell_type": "code",
   "execution_count": 10,
   "metadata": {},
   "outputs": [
    {
     "data": {
      "text/plain": [
       "2"
      ]
     },
     "execution_count": 10,
     "metadata": {},
     "output_type": "execute_result"
    }
   ],
   "source": [
    "optimum_feature(X,y,features=None)"
   ]
  },
  {
   "cell_type": "code",
   "execution_count": 11,
   "metadata": {},
   "outputs": [
    {
     "data": {
      "text/plain": [
       "(array([[44,  1,  1,  2,  0]]), array([[1, 1, 2, 0]]))"
      ]
     },
     "execution_count": 11,
     "metadata": {},
     "output_type": "execute_result"
    }
   ],
   "source": [
    "# vals,counts=np.unique(y,return_counts=1)\n",
    "# if counts.shape[0]==1:\n",
    "# #     print(counts[0])\n",
    "# print(counts.shape[0])\n",
    "\n",
    "y=np.random.randint(0,3,size=(4,1))\n",
    "# np.concatenate((y,(np.array((44,))[:,np.newaxis])),axis=0)\n",
    "# np.array((2,))[:,np.newaxis].shape\n",
    "\n",
    "def get_2d_vector(x):\n",
    "    return np.array((44,))[:,np.newaxis]\n",
    "\n",
    "def push_back(x,v):\n",
    "    return np.concatenate((v,get_2d_vector(x)),axis=0)\n",
    "    # return v\n",
    "\n",
    "def push_front(x,v):\n",
    "    \n",
    "    if len(v.shape)==1:\n",
    "        x=np.array((x,))\n",
    "    elif len(v.shape)==2:\n",
    "        x=get_2d_vector(x)\n",
    "    return np.concatenate((x,v),axis=0)\n",
    "    # return v\n",
    "\n",
    "k=push_front(y[0],y)\n",
    "k.T, y.T\n"
   ]
  },
  {
   "cell_type": "code",
   "execution_count": 12,
   "metadata": {},
   "outputs": [
    {
     "data": {
      "text/plain": [
       "2"
      ]
     },
     "execution_count": 12,
     "metadata": {},
     "output_type": "execute_result"
    }
   ],
   "source": [
    "len(np.array((32,)).shape)\n",
    "len(get_2d_vector(3).shape)"
   ]
  },
  {
   "cell_type": "code",
   "execution_count": 13,
   "metadata": {},
   "outputs": [
    {
     "data": {
      "text/plain": [
       "array([[1.],\n",
       "       [1.],\n",
       "       [1.]])"
      ]
     },
     "execution_count": 13,
     "metadata": {},
     "output_type": "execute_result"
    }
   ],
   "source": [
    "\n",
    "# def f(x,r):\n",
    "#     # return x*x+r\n",
    "#     return x[0]\n",
    "# f(y,3)\n",
    "\n",
    "# gain(y,y,feature_index=0)\n",
    "# np.where(y<2,)\n",
    "\n",
    "np.ones((3,1))"
   ]
  },
  {
   "cell_type": "code",
   "execution_count": 204,
   "metadata": {},
   "outputs": [],
   "source": [
    "np.random.seed=0\n",
    "def load_data(test_ratio=0.2,features=4):\n",
    "    \n",
    "    from sklearn.datasets import load_iris\n",
    "    iris=load_iris()\n",
    "    X=iris.data[:,:]\n",
    "    n=X.shape[0]\n",
    "    y=iris.target.reshape(n,1)\n",
    "    test_size=int(test_ratio*(X.shape[0]))\n",
    "    X_comb=np.concatenate((X,y),axis=1)\n",
    "    n=X_comb.shape[0]\n",
    "    # X_comb.sort(axis=0)\n",
    "    np.random.shuffle(X_comb)\n",
    "    cutset=np.random.choice(n,test_size,replace=False)\n",
    "    mask=np.ones(n,dtype=bool)\n",
    "    mask[cutset]=False\n",
    "    X_test_comb=X_comb[~mask]\n",
    "    X_new_comb=X_comb[mask]\n",
    "    X_new_comb.sort(axis=0)\n",
    "    X_test_comb.sort(axis=0)\n",
    "    X=X_new_comb[:,:features]\n",
    "    y=X_new_comb[:,-1:]\n",
    "\n",
    "    X_test=X_test_comb[:,:features]\n",
    "    y_test=X_test_comb[:,-1:]\n",
    "    return X,y,X_test,y_test\n"
   ]
  },
  {
   "cell_type": "code",
   "execution_count": 115,
   "metadata": {},
   "outputs": [],
   "source": [
    "X,y,X_test,y_test=load_data()"
   ]
  },
  {
   "cell_type": "code",
   "execution_count": 113,
   "metadata": {},
   "outputs": [
    {
     "data": {
      "text/plain": [
       "(120, 1)"
      ]
     },
     "execution_count": 113,
     "metadata": {},
     "output_type": "execute_result"
    }
   ],
   "source": [
    "y.shape"
   ]
  },
  {
   "cell_type": "code",
   "execution_count": 139,
   "metadata": {},
   "outputs": [
    {
     "ename": "ValueError",
     "evalue": "`indices` and `arr` must have the same number of dimensions",
     "output_type": "error",
     "traceback": [
      "\u001b[1;31m---------------------------------------------------------------------------\u001b[0m",
      "\u001b[1;31mValueError\u001b[0m                                Traceback (most recent call last)",
      "Cell \u001b[1;32mIn[139], line 52\u001b[0m\n\u001b[0;32m     49\u001b[0m \u001b[38;5;66;03m# X=iris.data[:,:]\u001b[39;00m\n\u001b[0;32m     50\u001b[0m \u001b[38;5;66;03m# y=iris.target\u001b[39;00m\n\u001b[0;32m     51\u001b[0m X,y,X_test,y_test\u001b[38;5;241m=\u001b[39mload_data()\n\u001b[1;32m---> 52\u001b[0m X,y,thresholds\u001b[38;5;241m=\u001b[39m\u001b[43mdiscretize\u001b[49m\u001b[43m(\u001b[49m\u001b[43mX\u001b[49m\u001b[43m,\u001b[49m\u001b[43my\u001b[49m\u001b[43m,\u001b[49m\u001b[38;5;241;43m5\u001b[39;49m\u001b[43m)\u001b[49m\n",
      "Cell \u001b[1;32mIn[139], line 12\u001b[0m, in \u001b[0;36mdiscretize\u001b[1;34m(X, y, max_bins, inplace, verbose)\u001b[0m\n\u001b[0;32m     10\u001b[0m ind\u001b[38;5;241m=\u001b[39mnp\u001b[38;5;241m.\u001b[39margsort(X_[:,i])\n\u001b[0;32m     11\u001b[0m \u001b[38;5;66;03m# print(\" yo ind shape \",ind.shape)  \u001b[39;00m\n\u001b[1;32m---> 12\u001b[0m y_\u001b[38;5;241m=\u001b[39m\u001b[43mnp\u001b[49m\u001b[38;5;241;43m.\u001b[39;49m\u001b[43mtake_along_axis\u001b[49m\u001b[43m(\u001b[49m\u001b[43my_\u001b[49m\u001b[43m,\u001b[49m\u001b[43mind\u001b[49m\u001b[43m,\u001b[49m\u001b[43maxis\u001b[49m\u001b[38;5;241;43m=\u001b[39;49m\u001b[38;5;241;43m0\u001b[39;49m\u001b[43m)\u001b[49m        \n\u001b[0;32m     13\u001b[0m X_ \u001b[38;5;241m=\u001b[39m np\u001b[38;5;241m.\u001b[39mtake_along_axis(X_, ind[:, np\u001b[38;5;241m.\u001b[39mnewaxis], axis\u001b[38;5;241m=\u001b[39m\u001b[38;5;241m0\u001b[39m)        \n\u001b[0;32m     14\u001b[0m y2\u001b[38;5;241m=\u001b[39mpush_front(y_[\u001b[38;5;241m0\u001b[39m],y_)\n",
      "File \u001b[1;32m<__array_function__ internals>:200\u001b[0m, in \u001b[0;36mtake_along_axis\u001b[1;34m(*args, **kwargs)\u001b[0m\n",
      "File \u001b[1;32mc:\\Users\\pande\\AppData\\Local\\Programs\\Python\\Python311\\Lib\\site-packages\\numpy\\lib\\shape_base.py:170\u001b[0m, in \u001b[0;36mtake_along_axis\u001b[1;34m(arr, indices, axis)\u001b[0m\n\u001b[0;32m    167\u001b[0m     arr_shape \u001b[38;5;241m=\u001b[39m arr\u001b[38;5;241m.\u001b[39mshape\n\u001b[0;32m    169\u001b[0m \u001b[38;5;66;03m# use the fancy index\u001b[39;00m\n\u001b[1;32m--> 170\u001b[0m \u001b[38;5;28;01mreturn\u001b[39;00m arr[\u001b[43m_make_along_axis_idx\u001b[49m\u001b[43m(\u001b[49m\u001b[43marr_shape\u001b[49m\u001b[43m,\u001b[49m\u001b[43m \u001b[49m\u001b[43mindices\u001b[49m\u001b[43m,\u001b[49m\u001b[43m \u001b[49m\u001b[43maxis\u001b[49m\u001b[43m)\u001b[49m]\n",
      "File \u001b[1;32mc:\\Users\\pande\\AppData\\Local\\Programs\\Python\\Python311\\Lib\\site-packages\\numpy\\lib\\shape_base.py:34\u001b[0m, in \u001b[0;36m_make_along_axis_idx\u001b[1;34m(arr_shape, indices, axis)\u001b[0m\n\u001b[0;32m     32\u001b[0m     \u001b[38;5;28;01mraise\u001b[39;00m \u001b[38;5;167;01mIndexError\u001b[39;00m(\u001b[38;5;124m'\u001b[39m\u001b[38;5;124m`indices` must be an integer array\u001b[39m\u001b[38;5;124m'\u001b[39m)\n\u001b[0;32m     33\u001b[0m \u001b[38;5;28;01mif\u001b[39;00m \u001b[38;5;28mlen\u001b[39m(arr_shape) \u001b[38;5;241m!=\u001b[39m indices\u001b[38;5;241m.\u001b[39mndim:\n\u001b[1;32m---> 34\u001b[0m     \u001b[38;5;28;01mraise\u001b[39;00m \u001b[38;5;167;01mValueError\u001b[39;00m(\n\u001b[0;32m     35\u001b[0m         \u001b[38;5;124m\"\u001b[39m\u001b[38;5;124m`indices` and `arr` must have the same number of dimensions\u001b[39m\u001b[38;5;124m\"\u001b[39m)\n\u001b[0;32m     36\u001b[0m shape_ones \u001b[38;5;241m=\u001b[39m (\u001b[38;5;241m1\u001b[39m,) \u001b[38;5;241m*\u001b[39m indices\u001b[38;5;241m.\u001b[39mndim\n\u001b[0;32m     37\u001b[0m dest_dims \u001b[38;5;241m=\u001b[39m \u001b[38;5;28mlist\u001b[39m(\u001b[38;5;28mrange\u001b[39m(axis)) \u001b[38;5;241m+\u001b[39m [\u001b[38;5;28;01mNone\u001b[39;00m] \u001b[38;5;241m+\u001b[39m \u001b[38;5;28mlist\u001b[39m(\u001b[38;5;28mrange\u001b[39m(axis\u001b[38;5;241m+\u001b[39m\u001b[38;5;241m1\u001b[39m, indices\u001b[38;5;241m.\u001b[39mndim))\n",
      "\u001b[1;31mValueError\u001b[0m: `indices` and `arr` must have the same number of dimensions"
     ]
    }
   ],
   "source": [
    "def discretize(X,y,max_bins,*,inplace=False,verbose=False):\n",
    "    n,m=X.shape\n",
    "    X_=X.copy()\n",
    "    y_=y.copy()\n",
    "    best_thresholds=np.ones((m,1))\n",
    "    for i in range(m):\n",
    "        vals,counts=np.unique(X_[:,i],return_counts=True)\n",
    "        if counts.shape[0]<=max_bins:\n",
    "            continue\n",
    "        ind=np.argsort(X_[:,i])\n",
    "        # print(\" yo ind shape \",ind.shape)  \n",
    "        y_=np.take_along_axis(y_,ind,axis=0)        \n",
    "        X_ = np.take_along_axis(X_, ind[:, np.newaxis], axis=0)        \n",
    "        y2=push_front(y_[0],y_)\n",
    "        y3=y_.copy()\n",
    "        y3-=y2[:-1]\n",
    "        mask=np.where(y3!=0,True,False)        \n",
    "        r=X_[:,i:i+1]\n",
    "        r1=push_front(r[0],r)\n",
    "        r2=np.where(mask,(r+r1[:-1])/2,-1)\n",
    "        if verbose:\n",
    "            print(\"r2 : \",r2.shape)\n",
    "        thresholds=np.where(r2!=-1)[0]\n",
    "        # print(\"thredhls shape \",thresholds.shape)\n",
    "        r3=[(gain(np.where(r<c,0,1),y_,feature_index=0)) for c in thresholds]\n",
    "        best_gain=max(r3)\n",
    "        if verbose:\n",
    "            print(thresholds.shape)\n",
    "            print(len(thresholds))\n",
    "            print((thresholds))\n",
    "            best_index=thresholds.index(best_gain)\n",
    "\n",
    "        best_index=np.argmax(r3)\n",
    "        best_threshold=thresholds[best_index]\n",
    "        # print(\"thredhls shape \",thresholds.shape)\n",
    "        if verbose:\n",
    "            print(\"gain and threshold is \", best_gain, best_threshold)\n",
    "            print(\" min  y  \",min(y_),np.unique(y_))\n",
    "        r=np.where(r<best_threshold,0,1)\n",
    "        X_[:,i:i+1]=r        \n",
    "        best_thresholds[i]=best_threshold\n",
    "\n",
    "    if inplace:\n",
    "        X=X_\n",
    "        y=y_\n",
    "    \n",
    "    return X_,y_,best_thresholds\n",
    "\n",
    "# X=iris.data[:,:]\n",
    "# y=iris.target\n",
    "X,y,X_test,y_test=load_data()\n",
    "X,y,thresholds=discretize(X,y,5)\n",
    "    "
   ]
  },
  {
   "cell_type": "code",
   "execution_count": null,
   "metadata": {},
   "outputs": [],
   "source": []
  },
  {
   "cell_type": "code",
   "execution_count": null,
   "metadata": {},
   "outputs": [],
   "source": []
  },
  {
   "cell_type": "markdown",
   "metadata": {},
   "source": [
    "X"
   ]
  },
  {
   "cell_type": "code",
   "execution_count": 21,
   "metadata": {},
   "outputs": [],
   "source": [
    "\n",
    "k=1\n",
    "X1=[]\n",
    "y1=[]\n",
    "f1=[]\n",
    "f0=2\n",
    "\n",
    "def ID3(X,y,*,features=None,verbose=False,k=0):\n",
    "    '''features = -1 to include all features, else pass features array'''\n",
    "    # global k\n",
    "    global X1\n",
    "    global y1\n",
    "\n",
    "    global f0\n",
    "    \n",
    "    \n",
    "\n",
    "\n",
    "    if verbose:\n",
    "        pass\n",
    "        print(\"\\ncalled with step\",k)\n",
    "        \n",
    "    n,m=X.shape\n",
    "    if features is None:\n",
    "        features=np.ones((m,1))\n",
    "    \n",
    "    # print(\"yo me step 2 and \",features.shape)\n",
    "    if (k==2):\n",
    "        X1=X\n",
    "        y1=y\n",
    "        \n",
    "        f1=features\n",
    "        # print(f1)\n",
    "    else:\n",
    "        f0=features\n",
    "    k+=1\n",
    "    root=Node()\n",
    "    root.samples=n\n",
    "    root.isroot=True\n",
    "    root.isleaf=True\n",
    "\n",
    "    vals,counts=np.unique(y,return_counts=1)\n",
    "    if counts.shape[0]==1:\n",
    "        root.value=y[0]\n",
    "        if verbose:\n",
    "            print(\"single target class left\",root.value)\n",
    "        \n",
    "        return root\n",
    "    \n",
    "    elif np.sum(features)==0:\n",
    "        root.value=mode(y)\n",
    "        \n",
    "        if verbose:\n",
    "            \n",
    "            print(\"Out of features\")\n",
    "        return root\n",
    "\n",
    "    root.isleaf=False\n",
    "    feature_index=optimum_feature(X,y,features=features)\n",
    "    root.feature_index=feature_index\n",
    "    \n",
    "\n",
    "    S_A=X[:,feature_index]\n",
    "    if verbose:\n",
    "        print(\"optimum feature is \",feature_index)\n",
    "    \n",
    "        print(features.T)\n",
    "    vals,counts=np.unique(S_A,return_counts=True)\n",
    "    if counts.shape[0]==1:\n",
    "        # root.value=y[0]\n",
    "        if verbose:\n",
    "            print(\"single attribute class left\",y.T)\n",
    "            print(\"classes are : \",np.unique(y,return_counts=True))\n",
    "            print()\n",
    "\n",
    "        # child = Node()\n",
    "        root.isleaf=True\n",
    "        # root.samples=\n",
    "        root.value=mode(y)\n",
    "\n",
    "        return root\n",
    "    for v in vals:\n",
    "\n",
    "        mask=(S_A==v)\n",
    "        yv=y[mask]\n",
    "        Xv=X[mask]\n",
    "\n",
    "        if Xv.shape[0]==0:\n",
    "            # print(v, \" : returned early \")\n",
    "            child = Node()\n",
    "            child.isleaf=True\n",
    "            child.samples=0\n",
    "            child.value=mode(y)\n",
    "        else:\n",
    "            features[feature_index]=0\n",
    "            # print(\"calling \",features.T)\n",
    "            # child=ID3(Xv,yv,features=features,k=k)\n",
    "            # print(v, \" : calling featrues \" , features.T)\n",
    "            lis=ID3(Xv,yv,features=features,k=k,verbose=verbose)\n",
    "            # print(\"Called\")\n",
    "            if (type(lis)==type((1,))):\n",
    "                child=lis[0]\n",
    "            else:\n",
    "                child=lis\n",
    "        child.threshold=v\n",
    "        root.children.append(child)\n",
    "        \n",
    "    features[feature_index]=1\n",
    "\n",
    "    if verbose:\n",
    "        print('finished iteratiing feature',feature_index)\n",
    "    return (root,k)\n",
    "        \n",
    "        # new_entropy+=yv.shape[0]/n*entropy(yv)\n",
    "    \n",
    "\n",
    "head,k=ID3(X,y,features=None,k=0)\n",
    "        \n",
    "        \n",
    "    "
   ]
  },
  {
   "cell_type": "code",
   "execution_count": 22,
   "metadata": {},
   "outputs": [],
   "source": [
    "def train(X,y,model='ID3',verbose=False,discrete=True,maxbins=None,plotting=False,thresholds=None,render_flag=True):\n",
    "    if discrete==False:\n",
    "        if maxbins is None:\n",
    "            maxbins=5\n",
    "        X,y,thresholds=discretize(X,y,5,verbose=False)\n",
    "    if model=='ID3':\n",
    "\n",
    "        tree= ID3(X,y,k=0,verbose=verbose)[0]\n",
    "        if plotting:\n",
    "            if discrete : \n",
    "                return tree , plot_tree(tree,render_flag=render_flag)\n",
    "            else:\n",
    "                return tree , plot_tree(tree,thresholds=thresholds,render_flag=render_flag)\n",
    "        return tree"
   ]
  },
  {
   "cell_type": "code",
   "execution_count": 36,
   "metadata": {},
   "outputs": [
    {
     "data": {
      "text/plain": [
       "array([0., 1., 0., 0.])"
      ]
     },
     "execution_count": 36,
     "metadata": {},
     "output_type": "execute_result"
    }
   ],
   "source": [
    "X[2,:]"
   ]
  },
  {
   "cell_type": "code",
   "execution_count": 147,
   "metadata": {},
   "outputs": [],
   "source": [
    "def pred_node(root,x,*,discrete,thresholds):\n",
    "    if root.isleaf:\n",
    "        # print(\"yo im at \",root.value)\n",
    "        return root.value\n",
    "    \n",
    "    val=x[root.feature_index]\n",
    "    k=-12\n",
    "    for child in root.children:\n",
    "        if discrete and child.threshold==val:\n",
    "            return pred_node(child,x,discrete=discrete,thresholds=threholds)\n",
    "        elif not(discrete) and bool(child.threshold)==(val<thresholds[root.feature_index]):\n",
    "            return pred_node(child,x,discrete=discrete,thresholds=threholds)\n",
    "        else:\n",
    "            k+=100\n",
    "    return k\n",
    "        \n",
    "    \n",
    "    \n",
    "def pred(X,tree,*,discrete,thresholds):\n",
    "    n,m=X.shape\n",
    "    # tree, plot2=train(X,y,verbose=False,discrete=True,maxbins=5,plotting=True,render_flag=False)\n",
    "\n",
    "    pred_=np.ones((n,1))\n",
    "    for i in range(n):\n",
    "        x=X[i,:]\n",
    "        pred_[i]=pred_node(tree,x,discrete=discrete,thresholds=threholds)\n",
    "    return pred_\n",
    "    \n",
    "\n",
    "def test(X,y,tree,*,discrete,thresholds=None):\n",
    "    pred_=pred(X,tree,discrete=discrete,thresholds=thresholds)\n",
    "    # return np.count_nonzero(pred_!=y)/y.shape[0]\n",
    "    n=pred_.shape[0]\n",
    "    # print\n",
    "    # a1=[0,0,0]\n",
    "    correct=0\n",
    "    for i in range(n):\n",
    "        # pass\n",
    "        if (y[i]==pred_[i]):\n",
    "            correct+=1\n",
    "    return correct/n\n",
    "    # for\n",
    "\n",
    "pred1=(pred(X,tree,discrete=discrete_flag,thresholds=thresholds))\n",
    "# print(test(X,y,tree,discrete=discrete_flag,thresholds=threholds))"
   ]
  },
  {
   "cell_type": "code",
   "execution_count": null,
   "metadata": {},
   "outputs": [],
   "source": []
  },
  {
   "cell_type": "code",
   "execution_count": 98,
   "metadata": {},
   "outputs": [
    {
     "data": {
      "text/plain": [
       "(150, 150)"
      ]
     },
     "execution_count": 98,
     "metadata": {},
     "output_type": "execute_result"
    }
   ],
   "source": [
    "(pred1!=y).shape"
   ]
  },
  {
   "cell_type": "code",
   "execution_count": 210,
   "metadata": {},
   "outputs": [
    {
     "name": "stdout",
     "output_type": "stream",
     "text": [
      "training accuracy 1.0\n",
      "testing accuracy 1.0\n"
     ]
    },
    {
     "data": {
      "image/svg+xml": [
       "<?xml version=\"1.0\" encoding=\"UTF-8\" standalone=\"no\"?>\n",
       "<!DOCTYPE svg PUBLIC \"-//W3C//DTD SVG 1.1//EN\"\n",
       " \"http://www.w3.org/Graphics/SVG/1.1/DTD/svg11.dtd\">\n",
       "<!-- Generated by graphviz version 9.0.0 (20230911.1827)\n",
       " -->\n",
       "<!-- Pages: 1 -->\n",
       "<svg width=\"2142pt\" height=\"220pt\"\n",
       " viewBox=\"0.00 0.00 2142.17 219.50\" xmlns=\"http://www.w3.org/2000/svg\" xmlns:xlink=\"http://www.w3.org/1999/xlink\">\n",
       "<g id=\"graph0\" class=\"graph\" transform=\"scale(1 1) rotate(0) translate(4 215.5)\">\n",
       "<polygon fill=\"white\" stroke=\"none\" points=\"-4,4 -4,-215.5 2138.17,-215.5 2138.17,4 -4,4\"/>\n",
       "<!-- 0 -->\n",
       "<g id=\"node1\" class=\"node\">\n",
       "<title>0</title>\n",
       "<polygon fill=\"none\" stroke=\"black\" points=\"1106.58,-211.5 1052.58,-211.5 1052.58,-175.5 1106.58,-175.5 1106.58,-211.5\"/>\n",
       "<text text-anchor=\"middle\" x=\"1079.58\" y=\"-188.07\" font-family=\"Times New Roman,serif\" font-size=\"14.00\">X3</text>\n",
       "</g>\n",
       "<!-- 1 -->\n",
       "<g id=\"node2\" class=\"node\">\n",
       "<title>1</title>\n",
       "<ellipse fill=\"none\" stroke=\"black\" cx=\"40.58\" cy=\"-105.75\" rx=\"40.58\" ry=\"18\"/>\n",
       "<text text-anchor=\"middle\" x=\"40.58\" y=\"-100.33\" font-family=\"Times New Roman,serif\" font-size=\"14.00\">Class 0.</text>\n",
       "</g>\n",
       "<!-- 0&#45;&gt;1 -->\n",
       "<g id=\"edge1\" class=\"edge\">\n",
       "<title>0&#45;&gt;1</title>\n",
       "<path fill=\"none\" stroke=\"black\" d=\"M1052.09,-192.08C925.19,-190.02 395.4,-180.2 231.33,-157.5 167.19,-148.62 151.75,-141.89 89.58,-123.75 87.16,-123.04 84.68,-122.29 82.19,-121.5\"/>\n",
       "<polygon fill=\"black\" stroke=\"black\" points=\"83.31,-118.19 72.72,-118.4 81.13,-124.84 83.31,-118.19\"/>\n",
       "<text text-anchor=\"middle\" x=\"240.21\" y=\"-144.2\" font-family=\"Times New Roman,serif\" font-size=\"14.00\">0.1</text>\n",
       "</g>\n",
       "<!-- 2 -->\n",
       "<g id=\"node3\" class=\"node\">\n",
       "<title>2</title>\n",
       "<ellipse fill=\"none\" stroke=\"black\" cx=\"139.58\" cy=\"-105.75\" rx=\"40.58\" ry=\"18\"/>\n",
       "<text text-anchor=\"middle\" x=\"139.58\" y=\"-100.33\" font-family=\"Times New Roman,serif\" font-size=\"14.00\">Class 0.</text>\n",
       "</g>\n",
       "<!-- 0&#45;&gt;2 -->\n",
       "<g id=\"edge2\" class=\"edge\">\n",
       "<title>0&#45;&gt;2</title>\n",
       "<path fill=\"none\" stroke=\"black\" d=\"M1052.22,-191.91C934.9,-189.26 473.94,-177.77 330.33,-157.5 266.21,-148.45 250.75,-141.89 188.58,-123.75 186.16,-123.04 183.68,-122.29 181.19,-121.5\"/>\n",
       "<polygon fill=\"black\" stroke=\"black\" points=\"182.31,-118.19 171.72,-118.4 180.13,-124.84 182.31,-118.19\"/>\n",
       "<text text-anchor=\"middle\" x=\"339.21\" y=\"-144.2\" font-family=\"Times New Roman,serif\" font-size=\"14.00\">0.2</text>\n",
       "</g>\n",
       "<!-- 3 -->\n",
       "<g id=\"node4\" class=\"node\">\n",
       "<title>3</title>\n",
       "<ellipse fill=\"none\" stroke=\"black\" cx=\"238.58\" cy=\"-105.75\" rx=\"40.58\" ry=\"18\"/>\n",
       "<text text-anchor=\"middle\" x=\"238.58\" y=\"-100.33\" font-family=\"Times New Roman,serif\" font-size=\"14.00\">Class 0.</text>\n",
       "</g>\n",
       "<!-- 0&#45;&gt;3 -->\n",
       "<g id=\"edge3\" class=\"edge\">\n",
       "<title>0&#45;&gt;3</title>\n",
       "<path fill=\"none\" stroke=\"black\" d=\"M1052.16,-192.78C962.29,-193.33 668.77,-192.16 429.33,-157.5 365.24,-148.22 349.75,-141.89 287.58,-123.75 285.16,-123.04 282.68,-122.29 280.19,-121.5\"/>\n",
       "<polygon fill=\"black\" stroke=\"black\" points=\"281.31,-118.19 270.72,-118.4 279.13,-124.84 281.31,-118.19\"/>\n",
       "<text text-anchor=\"middle\" x=\"438.21\" y=\"-144.2\" font-family=\"Times New Roman,serif\" font-size=\"14.00\">0.3</text>\n",
       "</g>\n",
       "<!-- 4 -->\n",
       "<g id=\"node5\" class=\"node\">\n",
       "<title>4</title>\n",
       "<ellipse fill=\"none\" stroke=\"black\" cx=\"337.58\" cy=\"-105.75\" rx=\"40.58\" ry=\"18\"/>\n",
       "<text text-anchor=\"middle\" x=\"337.58\" y=\"-100.33\" font-family=\"Times New Roman,serif\" font-size=\"14.00\">Class 0.</text>\n",
       "</g>\n",
       "<!-- 0&#45;&gt;4 -->\n",
       "<g id=\"edge4\" class=\"edge\">\n",
       "<title>0&#45;&gt;4</title>\n",
       "<path fill=\"none\" stroke=\"black\" d=\"M1052.22,-192.39C971.64,-191.7 728.4,-187.15 529.33,-157.5 464.85,-147.9 449.18,-141.96 386.58,-123.75 384.16,-123.05 381.68,-122.29 379.19,-121.51\"/>\n",
       "<polygon fill=\"black\" stroke=\"black\" points=\"380.31,-118.19 369.71,-118.4 378.13,-124.84 380.31,-118.19\"/>\n",
       "<text text-anchor=\"middle\" x=\"538.21\" y=\"-144.2\" font-family=\"Times New Roman,serif\" font-size=\"14.00\">0.4</text>\n",
       "</g>\n",
       "<!-- 5 -->\n",
       "<g id=\"node6\" class=\"node\">\n",
       "<title>5</title>\n",
       "<ellipse fill=\"none\" stroke=\"black\" cx=\"436.58\" cy=\"-105.75\" rx=\"40.58\" ry=\"18\"/>\n",
       "<text text-anchor=\"middle\" x=\"436.58\" y=\"-100.33\" font-family=\"Times New Roman,serif\" font-size=\"14.00\">Class 0.</text>\n",
       "</g>\n",
       "<!-- 0&#45;&gt;5 -->\n",
       "<g id=\"edge5\" class=\"edge\">\n",
       "<title>0&#45;&gt;5</title>\n",
       "<path fill=\"none\" stroke=\"black\" d=\"M1052.33,-191.81C982.04,-189.73 789.02,-182.04 630.33,-157.5 565.05,-147.41 549.04,-142.1 485.58,-123.75 483.16,-123.05 480.68,-122.3 478.18,-121.52\"/>\n",
       "<polygon fill=\"black\" stroke=\"black\" points=\"479.3,-118.2 468.71,-118.42 477.13,-124.85 479.3,-118.2\"/>\n",
       "<text text-anchor=\"middle\" x=\"639.21\" y=\"-144.2\" font-family=\"Times New Roman,serif\" font-size=\"14.00\">0.5</text>\n",
       "</g>\n",
       "<!-- 6 -->\n",
       "<g id=\"node7\" class=\"node\">\n",
       "<title>6</title>\n",
       "<ellipse fill=\"none\" stroke=\"black\" cx=\"535.58\" cy=\"-105.75\" rx=\"40.58\" ry=\"18\"/>\n",
       "<text text-anchor=\"middle\" x=\"535.58\" y=\"-100.33\" font-family=\"Times New Roman,serif\" font-size=\"14.00\">Class 0.</text>\n",
       "</g>\n",
       "<!-- 0&#45;&gt;6 -->\n",
       "<g id=\"edge6\" class=\"edge\">\n",
       "<title>0&#45;&gt;6</title>\n",
       "<path fill=\"none\" stroke=\"black\" d=\"M1052.1,-190.99C992.69,-187.47 848.03,-177.43 728.33,-157.5 663.6,-146.72 647.61,-142.03 584.58,-123.75 582.16,-123.05 579.68,-122.29 577.18,-121.51\"/>\n",
       "<polygon fill=\"black\" stroke=\"black\" points=\"578.3,-118.19 567.71,-118.41 576.13,-124.85 578.3,-118.19\"/>\n",
       "<text text-anchor=\"middle\" x=\"737.21\" y=\"-144.2\" font-family=\"Times New Roman,serif\" font-size=\"14.00\">0.6</text>\n",
       "</g>\n",
       "<!-- 7 -->\n",
       "<g id=\"node8\" class=\"node\">\n",
       "<title>7</title>\n",
       "<ellipse fill=\"none\" stroke=\"black\" cx=\"634.58\" cy=\"-105.75\" rx=\"40.58\" ry=\"18\"/>\n",
       "<text text-anchor=\"middle\" x=\"634.58\" y=\"-100.33\" font-family=\"Times New Roman,serif\" font-size=\"14.00\">Class 1.</text>\n",
       "</g>\n",
       "<!-- 0&#45;&gt;7 -->\n",
       "<g id=\"edge7\" class=\"edge\">\n",
       "<title>0&#45;&gt;7</title>\n",
       "<path fill=\"none\" stroke=\"black\" d=\"M1052.24,-189.65C1005.37,-184.57 906.76,-172.99 824.33,-157.5 761.11,-145.62 745.33,-141.81 683.58,-123.75 681.16,-123.04 678.68,-122.28 676.19,-121.5\"/>\n",
       "<polygon fill=\"black\" stroke=\"black\" points=\"677.31,-118.18 666.72,-118.39 675.13,-124.83 677.31,-118.18\"/>\n",
       "<text text-anchor=\"middle\" x=\"833.21\" y=\"-144.2\" font-family=\"Times New Roman,serif\" font-size=\"14.00\">1.0</text>\n",
       "</g>\n",
       "<!-- 8 -->\n",
       "<g id=\"node9\" class=\"node\">\n",
       "<title>8</title>\n",
       "<ellipse fill=\"none\" stroke=\"black\" cx=\"733.58\" cy=\"-105.75\" rx=\"40.58\" ry=\"18\"/>\n",
       "<text text-anchor=\"middle\" x=\"733.58\" y=\"-100.33\" font-family=\"Times New Roman,serif\" font-size=\"14.00\">Class 1.</text>\n",
       "</g>\n",
       "<!-- 0&#45;&gt;8 -->\n",
       "<g id=\"edge8\" class=\"edge\">\n",
       "<title>0&#45;&gt;8</title>\n",
       "<path fill=\"none\" stroke=\"black\" d=\"M1052.19,-187.43C1018.28,-181.04 958.84,-169.43 908.33,-157.5 852.02,-144.2 837.9,-140.74 782.58,-123.75 780.21,-123.02 777.77,-122.25 775.32,-121.45\"/>\n",
       "<polygon fill=\"black\" stroke=\"black\" points=\"776.61,-118.2 766.02,-118.36 774.4,-124.84 776.61,-118.2\"/>\n",
       "<text text-anchor=\"middle\" x=\"917.21\" y=\"-144.2\" font-family=\"Times New Roman,serif\" font-size=\"14.00\">1.1</text>\n",
       "</g>\n",
       "<!-- 9 -->\n",
       "<g id=\"node10\" class=\"node\">\n",
       "<title>9</title>\n",
       "<ellipse fill=\"none\" stroke=\"black\" cx=\"832.58\" cy=\"-105.75\" rx=\"40.58\" ry=\"18\"/>\n",
       "<text text-anchor=\"middle\" x=\"832.58\" y=\"-100.33\" font-family=\"Times New Roman,serif\" font-size=\"14.00\">Class 1.</text>\n",
       "</g>\n",
       "<!-- 0&#45;&gt;9 -->\n",
       "<g id=\"edge9\" class=\"edge\">\n",
       "<title>0&#45;&gt;9</title>\n",
       "<path fill=\"none\" stroke=\"black\" d=\"M1052.35,-184.01C1030.4,-177.09 998.79,-166.95 971.33,-157.5 938.15,-146.07 900.8,-132.36 873.22,-122.07\"/>\n",
       "<polygon fill=\"black\" stroke=\"black\" points=\"874.79,-118.92 864.2,-118.7 872.34,-125.48 874.79,-118.92\"/>\n",
       "<text text-anchor=\"middle\" x=\"980.21\" y=\"-144.2\" font-family=\"Times New Roman,serif\" font-size=\"14.00\">1.2</text>\n",
       "</g>\n",
       "<!-- 10 -->\n",
       "<g id=\"node11\" class=\"node\">\n",
       "<title>10</title>\n",
       "<ellipse fill=\"none\" stroke=\"black\" cx=\"931.58\" cy=\"-105.75\" rx=\"40.58\" ry=\"18\"/>\n",
       "<text text-anchor=\"middle\" x=\"931.58\" y=\"-100.33\" font-family=\"Times New Roman,serif\" font-size=\"14.00\">Class 1.</text>\n",
       "</g>\n",
       "<!-- 0&#45;&gt;10 -->\n",
       "<g id=\"edge10\" class=\"edge\">\n",
       "<title>0&#45;&gt;10</title>\n",
       "<path fill=\"none\" stroke=\"black\" d=\"M1052.09,-176.57C1027.59,-162.38 991.65,-141.55 965.4,-126.34\"/>\n",
       "<polygon fill=\"black\" stroke=\"black\" points=\"967.22,-123.35 956.81,-121.37 963.71,-129.41 967.22,-123.35\"/>\n",
       "<text text-anchor=\"middle\" x=\"1028.21\" y=\"-144.2\" font-family=\"Times New Roman,serif\" font-size=\"14.00\">1.3</text>\n",
       "</g>\n",
       "<!-- 11 -->\n",
       "<g id=\"node12\" class=\"node\">\n",
       "<title>11</title>\n",
       "<ellipse fill=\"none\" stroke=\"black\" cx=\"1030.58\" cy=\"-105.75\" rx=\"40.58\" ry=\"18\"/>\n",
       "<text text-anchor=\"middle\" x=\"1030.58\" y=\"-100.33\" font-family=\"Times New Roman,serif\" font-size=\"14.00\">Class 1.</text>\n",
       "</g>\n",
       "<!-- 0&#45;&gt;11 -->\n",
       "<g id=\"edge11\" class=\"edge\">\n",
       "<title>0&#45;&gt;11</title>\n",
       "<path fill=\"none\" stroke=\"black\" d=\"M1069.67,-175.15C1062.81,-163.14 1053.54,-146.92 1045.75,-133.3\"/>\n",
       "<polygon fill=\"black\" stroke=\"black\" points=\"1048.9,-131.75 1040.9,-124.81 1042.83,-135.23 1048.9,-131.75\"/>\n",
       "<text text-anchor=\"middle\" x=\"1068.21\" y=\"-144.2\" font-family=\"Times New Roman,serif\" font-size=\"14.00\">1.4</text>\n",
       "</g>\n",
       "<!-- 12 -->\n",
       "<g id=\"node13\" class=\"node\">\n",
       "<title>12</title>\n",
       "<ellipse fill=\"none\" stroke=\"black\" cx=\"1129.58\" cy=\"-105.75\" rx=\"40.58\" ry=\"18\"/>\n",
       "<text text-anchor=\"middle\" x=\"1129.58\" y=\"-100.33\" font-family=\"Times New Roman,serif\" font-size=\"14.00\">Class 1.</text>\n",
       "</g>\n",
       "<!-- 0&#45;&gt;12 -->\n",
       "<g id=\"edge12\" class=\"edge\">\n",
       "<title>0&#45;&gt;12</title>\n",
       "<path fill=\"none\" stroke=\"black\" d=\"M1089.7,-175.15C1096.71,-163.14 1106.16,-146.92 1114.11,-133.3\"/>\n",
       "<polygon fill=\"black\" stroke=\"black\" points=\"1117.05,-135.2 1119.06,-124.8 1111,-131.68 1117.05,-135.2\"/>\n",
       "<text text-anchor=\"middle\" x=\"1118.21\" y=\"-144.2\" font-family=\"Times New Roman,serif\" font-size=\"14.00\">1.5</text>\n",
       "</g>\n",
       "<!-- 13 -->\n",
       "<g id=\"node14\" class=\"node\">\n",
       "<title>13</title>\n",
       "<polygon fill=\"none\" stroke=\"black\" points=\"1242.58,-123.75 1188.58,-123.75 1188.58,-87.75 1242.58,-87.75 1242.58,-123.75\"/>\n",
       "<text text-anchor=\"middle\" x=\"1215.58\" y=\"-100.33\" font-family=\"Times New Roman,serif\" font-size=\"14.00\">X2</text>\n",
       "</g>\n",
       "<!-- 0&#45;&gt;13 -->\n",
       "<g id=\"edge15\" class=\"edge\">\n",
       "<title>0&#45;&gt;13</title>\n",
       "<path fill=\"none\" stroke=\"black\" d=\"M1106.78,-175.35C1127.44,-162.33 1156.08,-144.27 1178.79,-129.95\"/>\n",
       "<polygon fill=\"black\" stroke=\"black\" points=\"1180.56,-132.97 1187.16,-124.67 1176.83,-127.05 1180.56,-132.97\"/>\n",
       "<text text-anchor=\"middle\" x=\"1169.21\" y=\"-144.2\" font-family=\"Times New Roman,serif\" font-size=\"14.00\">1.6</text>\n",
       "</g>\n",
       "<!-- 16 -->\n",
       "<g id=\"node17\" class=\"node\">\n",
       "<title>16</title>\n",
       "<ellipse fill=\"none\" stroke=\"black\" cx=\"1301.58\" cy=\"-105.75\" rx=\"40.58\" ry=\"18\"/>\n",
       "<text text-anchor=\"middle\" x=\"1301.58\" y=\"-100.33\" font-family=\"Times New Roman,serif\" font-size=\"14.00\">Class 2.</text>\n",
       "</g>\n",
       "<!-- 0&#45;&gt;16 -->\n",
       "<g id=\"edge16\" class=\"edge\">\n",
       "<title>0&#45;&gt;16</title>\n",
       "<path fill=\"none\" stroke=\"black\" d=\"M1107.05,-183.65C1127.68,-176.86 1156.58,-167.06 1181.58,-157.5 1209.13,-146.97 1239.73,-134 1263.14,-123.81\"/>\n",
       "<polygon fill=\"black\" stroke=\"black\" points=\"1264.54,-127.02 1272.3,-119.81 1261.73,-120.61 1264.54,-127.02\"/>\n",
       "<text text-anchor=\"middle\" x=\"1227.21\" y=\"-144.2\" font-family=\"Times New Roman,serif\" font-size=\"14.00\">1.7</text>\n",
       "</g>\n",
       "<!-- 17 -->\n",
       "<g id=\"node18\" class=\"node\">\n",
       "<title>17</title>\n",
       "<ellipse fill=\"none\" stroke=\"black\" cx=\"1400.58\" cy=\"-105.75\" rx=\"40.58\" ry=\"18\"/>\n",
       "<text text-anchor=\"middle\" x=\"1400.58\" y=\"-100.33\" font-family=\"Times New Roman,serif\" font-size=\"14.00\">Class 2.</text>\n",
       "</g>\n",
       "<!-- 0&#45;&gt;17 -->\n",
       "<g id=\"edge17\" class=\"edge\">\n",
       "<title>0&#45;&gt;17</title>\n",
       "<path fill=\"none\" stroke=\"black\" d=\"M1106.91,-187.19C1138.89,-180.83 1193.35,-169.5 1239.58,-157.5 1289.91,-144.44 1302.13,-139.77 1351.58,-123.75 1353.95,-122.98 1356.38,-122.18 1358.82,-121.37\"/>\n",
       "<polygon fill=\"black\" stroke=\"black\" points=\"1359.76,-124.75 1368.11,-118.22 1357.52,-118.12 1359.76,-124.75\"/>\n",
       "<text text-anchor=\"middle\" x=\"1303.21\" y=\"-144.2\" font-family=\"Times New Roman,serif\" font-size=\"14.00\">1.8</text>\n",
       "</g>\n",
       "<!-- 18 -->\n",
       "<g id=\"node19\" class=\"node\">\n",
       "<title>18</title>\n",
       "<ellipse fill=\"none\" stroke=\"black\" cx=\"1499.58\" cy=\"-105.75\" rx=\"40.58\" ry=\"18\"/>\n",
       "<text text-anchor=\"middle\" x=\"1499.58\" y=\"-100.33\" font-family=\"Times New Roman,serif\" font-size=\"14.00\">Class 2.</text>\n",
       "</g>\n",
       "<!-- 0&#45;&gt;18 -->\n",
       "<g id=\"edge18\" class=\"edge\">\n",
       "<title>0&#45;&gt;18</title>\n",
       "<path fill=\"none\" stroke=\"black\" d=\"M1106.99,-189.32C1151.13,-184 1240.63,-172.39 1315.58,-157.5 1376.25,-145.45 1391.31,-141.4 1450.58,-123.75 1453,-123.03 1455.48,-122.26 1457.97,-121.47\"/>\n",
       "<polygon fill=\"black\" stroke=\"black\" points=\"1459.04,-124.8 1467.44,-118.35 1456.85,-118.16 1459.04,-124.8\"/>\n",
       "<text text-anchor=\"middle\" x=\"1395.21\" y=\"-144.2\" font-family=\"Times New Roman,serif\" font-size=\"14.00\">1.9</text>\n",
       "</g>\n",
       "<!-- 19 -->\n",
       "<g id=\"node20\" class=\"node\">\n",
       "<title>19</title>\n",
       "<ellipse fill=\"none\" stroke=\"black\" cx=\"1598.58\" cy=\"-105.75\" rx=\"40.58\" ry=\"18\"/>\n",
       "<text text-anchor=\"middle\" x=\"1598.58\" y=\"-100.33\" font-family=\"Times New Roman,serif\" font-size=\"14.00\">Class 2.</text>\n",
       "</g>\n",
       "<!-- 0&#45;&gt;19 -->\n",
       "<g id=\"edge19\" class=\"edge\">\n",
       "<title>0&#45;&gt;19</title>\n",
       "<path fill=\"none\" stroke=\"black\" d=\"M1106.96,-190.76C1163.46,-186.91 1296.95,-176.47 1407.58,-157.5 1471.52,-146.54 1487.31,-141.9 1549.58,-123.75 1552.01,-123.04 1554.49,-122.29 1556.98,-121.5\"/>\n",
       "<polygon fill=\"black\" stroke=\"black\" points=\"1558.04,-124.84 1566.46,-118.4 1555.86,-118.19 1558.04,-124.84\"/>\n",
       "<text text-anchor=\"middle\" x=\"1493.21\" y=\"-144.2\" font-family=\"Times New Roman,serif\" font-size=\"14.00\">2.0</text>\n",
       "</g>\n",
       "<!-- 20 -->\n",
       "<g id=\"node21\" class=\"node\">\n",
       "<title>20</title>\n",
       "<ellipse fill=\"none\" stroke=\"black\" cx=\"1697.58\" cy=\"-105.75\" rx=\"40.58\" ry=\"18\"/>\n",
       "<text text-anchor=\"middle\" x=\"1697.58\" y=\"-100.33\" font-family=\"Times New Roman,serif\" font-size=\"14.00\">Class 2.</text>\n",
       "</g>\n",
       "<!-- 0&#45;&gt;20 -->\n",
       "<g id=\"edge20\" class=\"edge\">\n",
       "<title>0&#45;&gt;20</title>\n",
       "<path fill=\"none\" stroke=\"black\" d=\"M1106.92,-191.67C1174.77,-189.31 1356.24,-181.12 1505.58,-157.5 1570.08,-147.3 1585.88,-141.98 1648.58,-123.75 1651.01,-123.05 1653.49,-122.29 1655.98,-121.51\"/>\n",
       "<polygon fill=\"black\" stroke=\"black\" points=\"1657.04,-124.84 1665.46,-118.41 1654.86,-118.19 1657.04,-124.84\"/>\n",
       "<text text-anchor=\"middle\" x=\"1594.21\" y=\"-144.2\" font-family=\"Times New Roman,serif\" font-size=\"14.00\">2.1</text>\n",
       "</g>\n",
       "<!-- 21 -->\n",
       "<g id=\"node22\" class=\"node\">\n",
       "<title>21</title>\n",
       "<ellipse fill=\"none\" stroke=\"black\" cx=\"1796.58\" cy=\"-105.75\" rx=\"40.58\" ry=\"18\"/>\n",
       "<text text-anchor=\"middle\" x=\"1796.58\" y=\"-100.33\" font-family=\"Times New Roman,serif\" font-size=\"14.00\">Class 2.</text>\n",
       "</g>\n",
       "<!-- 0&#45;&gt;21 -->\n",
       "<g id=\"edge21\" class=\"edge\">\n",
       "<title>0&#45;&gt;21</title>\n",
       "<path fill=\"none\" stroke=\"black\" d=\"M1106.91,-192.31C1185.2,-191.4 1416.89,-186.29 1606.58,-157.5 1670.29,-147.83 1685.74,-141.83 1747.58,-123.75 1750.01,-123.04 1752.49,-122.28 1754.98,-121.5\"/>\n",
       "<polygon fill=\"black\" stroke=\"black\" points=\"1756.04,-124.83 1764.45,-118.39 1753.86,-118.18 1756.04,-124.83\"/>\n",
       "<text text-anchor=\"middle\" x=\"1694.21\" y=\"-144.2\" font-family=\"Times New Roman,serif\" font-size=\"14.00\">2.2</text>\n",
       "</g>\n",
       "<!-- 22 -->\n",
       "<g id=\"node23\" class=\"node\">\n",
       "<title>22</title>\n",
       "<ellipse fill=\"none\" stroke=\"black\" cx=\"1895.58\" cy=\"-105.75\" rx=\"40.58\" ry=\"18\"/>\n",
       "<text text-anchor=\"middle\" x=\"1895.58\" y=\"-100.33\" font-family=\"Times New Roman,serif\" font-size=\"14.00\">Class 2.</text>\n",
       "</g>\n",
       "<!-- 0&#45;&gt;22 -->\n",
       "<g id=\"edge22\" class=\"edge\">\n",
       "<title>0&#45;&gt;22</title>\n",
       "<path fill=\"none\" stroke=\"black\" d=\"M1106.96,-192.73C1194.69,-193.1 1476.57,-191.36 1706.58,-157.5 1769.91,-148.18 1785.17,-141.76 1846.58,-123.75 1849.01,-123.04 1851.49,-122.28 1853.98,-121.49\"/>\n",
       "<polygon fill=\"black\" stroke=\"black\" points=\"1855.04,-124.83 1863.45,-118.38 1852.86,-118.18 1855.04,-124.83\"/>\n",
       "<text text-anchor=\"middle\" x=\"1793.21\" y=\"-144.2\" font-family=\"Times New Roman,serif\" font-size=\"14.00\">2.3</text>\n",
       "</g>\n",
       "<!-- 23 -->\n",
       "<g id=\"node24\" class=\"node\">\n",
       "<title>23</title>\n",
       "<ellipse fill=\"none\" stroke=\"black\" cx=\"1994.58\" cy=\"-105.75\" rx=\"40.58\" ry=\"18\"/>\n",
       "<text text-anchor=\"middle\" x=\"1994.58\" y=\"-100.33\" font-family=\"Times New Roman,serif\" font-size=\"14.00\">Class 2.</text>\n",
       "</g>\n",
       "<!-- 0&#45;&gt;23 -->\n",
       "<g id=\"edge23\" class=\"edge\">\n",
       "<title>0&#45;&gt;23</title>\n",
       "<path fill=\"none\" stroke=\"black\" d=\"M1106.88,-191.87C1221.79,-189.13 1666.78,-177.4 1805.58,-157.5 1868.94,-148.42 1884.17,-141.76 1945.58,-123.75 1948.01,-123.04 1950.49,-122.28 1952.98,-121.49\"/>\n",
       "<polygon fill=\"black\" stroke=\"black\" points=\"1954.04,-124.83 1962.45,-118.38 1951.86,-118.18 1954.04,-124.83\"/>\n",
       "<text text-anchor=\"middle\" x=\"1892.21\" y=\"-144.2\" font-family=\"Times New Roman,serif\" font-size=\"14.00\">2.4</text>\n",
       "</g>\n",
       "<!-- 24 -->\n",
       "<g id=\"node25\" class=\"node\">\n",
       "<title>24</title>\n",
       "<ellipse fill=\"none\" stroke=\"black\" cx=\"2093.58\" cy=\"-105.75\" rx=\"40.58\" ry=\"18\"/>\n",
       "<text text-anchor=\"middle\" x=\"2093.58\" y=\"-100.33\" font-family=\"Times New Roman,serif\" font-size=\"14.00\">Class 2.</text>\n",
       "</g>\n",
       "<!-- 0&#45;&gt;24 -->\n",
       "<g id=\"edge24\" class=\"edge\">\n",
       "<title>0&#45;&gt;24</title>\n",
       "<path fill=\"none\" stroke=\"black\" d=\"M1106.75,-192.06C1230.9,-189.92 1745.23,-179.87 1904.58,-157.5 1967.97,-148.6 1983.17,-141.76 2044.58,-123.75 2047.01,-123.04 2049.49,-122.28 2051.98,-121.49\"/>\n",
       "<polygon fill=\"black\" stroke=\"black\" points=\"2053.04,-124.83 2061.45,-118.38 2050.86,-118.18 2053.04,-124.83\"/>\n",
       "<text text-anchor=\"middle\" x=\"1991.21\" y=\"-144.2\" font-family=\"Times New Roman,serif\" font-size=\"14.00\">2.5</text>\n",
       "</g>\n",
       "<!-- 14 -->\n",
       "<g id=\"node15\" class=\"node\">\n",
       "<title>14</title>\n",
       "<ellipse fill=\"none\" stroke=\"black\" cx=\"1165.58\" cy=\"-18\" rx=\"40.58\" ry=\"18\"/>\n",
       "<text text-anchor=\"middle\" x=\"1165.58\" y=\"-12.57\" font-family=\"Times New Roman,serif\" font-size=\"14.00\">Class 1.</text>\n",
       "</g>\n",
       "<!-- 13&#45;&gt;14 -->\n",
       "<g id=\"edge13\" class=\"edge\">\n",
       "<title>13&#45;&gt;14</title>\n",
       "<path fill=\"none\" stroke=\"black\" d=\"M1205.47,-87.4C1198.46,-75.39 1189.01,-59.17 1181.06,-45.55\"/>\n",
       "<polygon fill=\"black\" stroke=\"black\" points=\"1184.17,-43.93 1176.11,-37.05 1178.12,-47.45 1184.17,-43.93\"/>\n",
       "<text text-anchor=\"middle\" x=\"1204.21\" y=\"-56.45\" font-family=\"Times New Roman,serif\" font-size=\"14.00\">4.8</text>\n",
       "</g>\n",
       "<!-- 15 -->\n",
       "<g id=\"node16\" class=\"node\">\n",
       "<title>15</title>\n",
       "<ellipse fill=\"none\" stroke=\"black\" cx=\"1264.58\" cy=\"-18\" rx=\"40.58\" ry=\"18\"/>\n",
       "<text text-anchor=\"middle\" x=\"1264.58\" y=\"-12.57\" font-family=\"Times New Roman,serif\" font-size=\"14.00\">Class 2.</text>\n",
       "</g>\n",
       "<!-- 13&#45;&gt;15 -->\n",
       "<g id=\"edge14\" class=\"edge\">\n",
       "<title>13&#45;&gt;15</title>\n",
       "<path fill=\"none\" stroke=\"black\" d=\"M1225.5,-87.4C1232.36,-75.39 1241.63,-59.17 1249.42,-45.55\"/>\n",
       "<polygon fill=\"black\" stroke=\"black\" points=\"1252.34,-47.48 1254.27,-37.06 1246.27,-44 1252.34,-47.48\"/>\n",
       "<text text-anchor=\"middle\" x=\"1253.21\" y=\"-56.45\" font-family=\"Times New Roman,serif\" font-size=\"14.00\">4.9</text>\n",
       "</g>\n",
       "</g>\n",
       "</svg>\n"
      ],
      "text/plain": [
       "<graphviz.graphs.Digraph at 0x2332a7e2410>"
      ]
     },
     "execution_count": 210,
     "metadata": {},
     "output_type": "execute_result"
    }
   ],
   "source": [
    "\n",
    "# X=iris.data[:,:]\n",
    "# y=iris.target\n",
    "# X,y,X_test,y_test=load_data()\n",
    "# without discretizing\n",
    "discrete_flag=True\n",
    "tree , plot2=train(X,y,verbose=False,discrete=True,maxbins=5,plotting=True)\n",
    "print(\"training accuracy\",test(X,y,tree,discrete=discrete_flag,thresholds=threholds))\n",
    "plot2\n",
    "\n",
    "print(\"testing accuracy\",test(X_test,y_test,tree,discrete=discrete_flag,thresholds=threholds))\n",
    "pred1=(pred(X_test,tree,discrete=discrete_flag,thresholds=thresholds))\n",
    "plot2"
   ]
  },
  {
   "cell_type": "code",
   "execution_count": 198,
   "metadata": {},
   "outputs": [
    {
     "name": "stdout",
     "output_type": "stream",
     "text": [
      "testing accuracy 0.0\n"
     ]
    },
    {
     "data": {
      "image/svg+xml": [
       "<?xml version=\"1.0\" encoding=\"UTF-8\" standalone=\"no\"?>\n",
       "<!DOCTYPE svg PUBLIC \"-//W3C//DTD SVG 1.1//EN\"\n",
       " \"http://www.w3.org/Graphics/SVG/1.1/DTD/svg11.dtd\">\n",
       "<!-- Generated by graphviz version 9.0.0 (20230911.1827)\n",
       " -->\n",
       "<!-- Pages: 1 -->\n",
       "<svg width=\"206pt\" height=\"132pt\"\n",
       " viewBox=\"0.00 0.00 206.15 131.75\" xmlns=\"http://www.w3.org/2000/svg\" xmlns:xlink=\"http://www.w3.org/1999/xlink\">\n",
       "<g id=\"graph0\" class=\"graph\" transform=\"scale(1 1) rotate(0) translate(4 127.75)\">\n",
       "<polygon fill=\"white\" stroke=\"none\" points=\"-4,4 -4,-127.75 202.15,-127.75 202.15,4 -4,4\"/>\n",
       "<!-- 0 -->\n",
       "<g id=\"node1\" class=\"node\">\n",
       "<title>0</title>\n",
       "<polygon fill=\"none\" stroke=\"black\" points=\"126.58,-123.75 71.58,-123.75 71.58,-87.75 126.58,-87.75 126.58,-123.75\"/>\n",
       "<text text-anchor=\"middle\" x=\"99.08\" y=\"-100.33\" font-family=\"Times New Roman,serif\" font-size=\"14.00\">X3 &lt; 1</text>\n",
       "</g>\n",
       "<!-- 1 -->\n",
       "<g id=\"node2\" class=\"node\">\n",
       "<title>1</title>\n",
       "<ellipse fill=\"none\" stroke=\"black\" cx=\"45.08\" cy=\"-18\" rx=\"45.08\" ry=\"18\"/>\n",
       "<text text-anchor=\"middle\" x=\"45.08\" y=\"-12.57\" font-family=\"Times New Roman,serif\" font-size=\"14.00\">Class 0.0</text>\n",
       "</g>\n",
       "<!-- 0&#45;&gt;1 -->\n",
       "<g id=\"edge1\" class=\"edge\">\n",
       "<title>0&#45;&gt;1</title>\n",
       "<path fill=\"none\" stroke=\"black\" d=\"M88.15,-87.4C80.51,-75.27 70.17,-58.85 61.54,-45.15\"/>\n",
       "<polygon fill=\"black\" stroke=\"black\" points=\"64.72,-43.62 56.43,-37.02 58.79,-47.35 64.72,-43.62\"/>\n",
       "<text text-anchor=\"middle\" x=\"91.7\" y=\"-56.45\" font-family=\"Times New Roman,serif\" font-size=\"14.00\">False</text>\n",
       "</g>\n",
       "<!-- 2 -->\n",
       "<g id=\"node3\" class=\"node\">\n",
       "<title>2</title>\n",
       "<ellipse fill=\"none\" stroke=\"black\" cx=\"153.08\" cy=\"-18\" rx=\"45.08\" ry=\"18\"/>\n",
       "<text text-anchor=\"middle\" x=\"153.08\" y=\"-12.57\" font-family=\"Times New Roman,serif\" font-size=\"14.00\">Class 2.0</text>\n",
       "</g>\n",
       "<!-- 0&#45;&gt;2 -->\n",
       "<g id=\"edge2\" class=\"edge\">\n",
       "<title>0&#45;&gt;2</title>\n",
       "<path fill=\"none\" stroke=\"black\" d=\"M110,-87.4C117.64,-75.27 127.98,-58.85 136.61,-45.15\"/>\n",
       "<polygon fill=\"black\" stroke=\"black\" points=\"139.36,-47.35 141.73,-37.02 133.43,-43.62 139.36,-47.35\"/>\n",
       "<text text-anchor=\"middle\" x=\"143.2\" y=\"-56.45\" font-family=\"Times New Roman,serif\" font-size=\"14.00\">True</text>\n",
       "</g>\n",
       "</g>\n",
       "</svg>\n"
      ],
      "text/plain": [
       "<graphviz.graphs.Digraph at 0x2332a818410>"
      ]
     },
     "execution_count": 198,
     "metadata": {},
     "output_type": "execute_result"
    }
   ],
   "source": [
    "# with discretizing\n",
    "# X=iris.data[:,:]\n",
    "# y=iris.target\n",
    "X,y,X_test,y_test=load_data()\n",
    "MAXBINS=3\n",
    "y=y.flatten()\n",
    "y_test=y_test.flatten()\n",
    "# y=y.reshape((n,0))\n",
    "X,y,threholds=discretize(X,y,MAXBINS)\n",
    "discrete_flag=False\n",
    "tree , plot1=train(X,y,verbose=False,discrete=discrete_flag,maxbins=MAXBINS\n",
    ",plotting=True)\n",
    "print(\"testing accuracy\", test(X_test,y_test,tree,discrete=discrete_flag,thresholds=threholds))\n",
    "pred1=(pred(X_test,tree,discrete=discrete_flag,thresholds=thresholds))\n",
    "plot1\n"
   ]
  },
  {
   "cell_type": "code",
   "execution_count": 165,
   "metadata": {},
   "outputs": [
    {
     "name": "stdout",
     "output_type": "stream",
     "text": [
      "30\n",
      "0.0 [1.]\n",
      "0.0 [1.]\n",
      "0.0 [1.]\n",
      "0.0 [1.]\n",
      "0.0 [1.]\n",
      "0.0 [1.]\n",
      "0.0 [1.]\n",
      "0.0 [1.]\n",
      "1.0 [0.]\n",
      "1.0 [0.]\n",
      "1.0 [0.]\n",
      "1.0 [0.]\n",
      "1.0 [0.]\n",
      "1.0 [0.]\n",
      "1.0 [0.]\n",
      "1.0 [0.]\n",
      "1.0 [0.]\n",
      "2.0 [0.]\n",
      "2.0 [0.]\n",
      "2.0 [0.]\n",
      "2.0 [0.]\n",
      "2.0 [0.]\n",
      "2.0 [0.]\n",
      "2.0 [0.]\n",
      "2.0 [0.]\n",
      "2.0 [0.]\n",
      "2.0 [0.]\n",
      "2.0 [0.]\n",
      "2.0 [0.]\n",
      "2.0 [0.]\n"
     ]
    }
   ],
   "source": [
    "\n",
    "n1=y_test.shape[0]\n",
    "print(n1)\n",
    "for i in range(n1):\n",
    "    \n",
    "    if (y_test[i]==pred1[i]):\n",
    "        correct+=1\n",
    "    else:\n",
    "        print(y_test[i],pred1[i])\n",
    "\n",
    "        \n",
    "    # return correct/n"
   ]
  },
  {
   "cell_type": "code",
   "execution_count": 152,
   "metadata": {},
   "outputs": [
    {
     "data": {
      "text/plain": [
       "array([[188.],\n",
       "       [188.],\n",
       "       [188.],\n",
       "       [188.],\n",
       "       [188.],\n",
       "       [188.],\n",
       "       [188.],\n",
       "       [188.],\n",
       "       [188.],\n",
       "       [188.],\n",
       "       [188.],\n",
       "       [188.],\n",
       "       [  1.],\n",
       "       [188.],\n",
       "       [188.],\n",
       "       [188.],\n",
       "       [188.],\n",
       "       [188.],\n",
       "       [188.],\n",
       "       [188.],\n",
       "       [188.],\n",
       "       [188.],\n",
       "       [188.],\n",
       "       [188.],\n",
       "       [188.],\n",
       "       [188.],\n",
       "       [188.],\n",
       "       [188.],\n",
       "       [188.],\n",
       "       [188.]])"
      ]
     },
     "execution_count": 152,
     "metadata": {},
     "output_type": "execute_result"
    }
   ],
   "source": [
    "pred1"
   ]
  },
  {
   "cell_type": "code",
   "execution_count": 144,
   "metadata": {},
   "outputs": [
    {
     "data": {
      "text/plain": [
       "((30, 4), (30,))"
      ]
     },
     "execution_count": 144,
     "metadata": {},
     "output_type": "execute_result"
    }
   ],
   "source": [
    "X_test.shape,y_test.shape"
   ]
  },
  {
   "cell_type": "code",
   "execution_count": 137,
   "metadata": {},
   "outputs": [
    {
     "data": {
      "text/plain": [
       "(120, 1)"
      ]
     },
     "execution_count": 137,
     "metadata": {},
     "output_type": "execute_result"
    }
   ],
   "source": [
    "y.flatten().shape\n",
    "y.shape"
   ]
  },
  {
   "cell_type": "code",
   "execution_count": null,
   "metadata": {},
   "outputs": [],
   "source": []
  },
  {
   "cell_type": "code",
   "execution_count": 126,
   "metadata": {},
   "outputs": [
    {
     "data": {
      "text/plain": [
       "((150, 4), (150,))"
      ]
     },
     "execution_count": 126,
     "metadata": {},
     "output_type": "execute_result"
    }
   ],
   "source": [
    "X.shape,y.shape"
   ]
  },
  {
   "cell_type": "code",
   "execution_count": 57,
   "metadata": {},
   "outputs": [
    {
     "ename": "TypeError",
     "evalue": "pred_node() got an unexpected keyword argument 'thresholds'",
     "output_type": "error",
     "traceback": [
      "\u001b[1;31m---------------------------------------------------------------------------\u001b[0m",
      "\u001b[1;31mTypeError\u001b[0m                                 Traceback (most recent call last)",
      "Cell \u001b[1;32mIn[57], line 1\u001b[0m\n\u001b[1;32m----> 1\u001b[0m \u001b[43mtest\u001b[49m\u001b[43m(\u001b[49m\u001b[43mX\u001b[49m\u001b[43m,\u001b[49m\u001b[43my\u001b[49m\u001b[43m,\u001b[49m\u001b[43mtree\u001b[49m\u001b[43m,\u001b[49m\u001b[43mdiscrete\u001b[49m\u001b[38;5;241;43m=\u001b[39;49m\u001b[43mdiscrete_flag\u001b[49m\u001b[43m,\u001b[49m\u001b[43mthreholds\u001b[49m\u001b[38;5;241;43m=\u001b[39;49m\u001b[43mthreholds\u001b[49m\u001b[43m)\u001b[49m\n",
      "Cell \u001b[1;32mIn[56], line 25\u001b[0m, in \u001b[0;36mtest\u001b[1;34m(X, y, tree, discrete, threholds)\u001b[0m\n\u001b[0;32m     24\u001b[0m \u001b[38;5;28;01mdef\u001b[39;00m \u001b[38;5;21mtest\u001b[39m(X,y,tree,\u001b[38;5;241m*\u001b[39m,discrete,threholds\u001b[38;5;241m=\u001b[39m\u001b[38;5;28;01mNone\u001b[39;00m):\n\u001b[1;32m---> 25\u001b[0m     pred_\u001b[38;5;241m=\u001b[39m\u001b[43mpred\u001b[49m\u001b[43m(\u001b[49m\u001b[43mX\u001b[49m\u001b[43m,\u001b[49m\u001b[43mtree\u001b[49m\u001b[43m,\u001b[49m\u001b[43mdiscrete\u001b[49m\u001b[38;5;241;43m=\u001b[39;49m\u001b[43mdiscrete\u001b[49m\u001b[43m,\u001b[49m\u001b[43mthresholds\u001b[49m\u001b[38;5;241;43m=\u001b[39;49m\u001b[43mthresholds\u001b[49m\u001b[43m)\u001b[49m\n\u001b[0;32m     26\u001b[0m     \u001b[38;5;28;01mreturn\u001b[39;00m np\u001b[38;5;241m.\u001b[39mcount_nonzero(pred_\u001b[38;5;241m==\u001b[39my)\u001b[38;5;241m/\u001b[39my\u001b[38;5;241m.\u001b[39mshape[\u001b[38;5;241m0\u001b[39m]\n",
      "Cell \u001b[1;32mIn[56], line 20\u001b[0m, in \u001b[0;36mpred\u001b[1;34m(X, tree, discrete, thresholds)\u001b[0m\n\u001b[0;32m     18\u001b[0m \u001b[38;5;28;01mfor\u001b[39;00m i \u001b[38;5;129;01min\u001b[39;00m \u001b[38;5;28mrange\u001b[39m(n):\n\u001b[0;32m     19\u001b[0m     x\u001b[38;5;241m=\u001b[39mX[i,:]\n\u001b[1;32m---> 20\u001b[0m     pred_[i]\u001b[38;5;241m=\u001b[39m\u001b[43mpred_node\u001b[49m\u001b[43m(\u001b[49m\u001b[43mtree\u001b[49m\u001b[43m,\u001b[49m\u001b[43mx\u001b[49m\u001b[43m,\u001b[49m\u001b[43mdiscrete\u001b[49m\u001b[38;5;241;43m=\u001b[39;49m\u001b[43mdiscrete\u001b[49m\u001b[43m,\u001b[49m\u001b[43mthresholds\u001b[49m\u001b[38;5;241;43m=\u001b[39;49m\u001b[43mthreholds\u001b[49m\u001b[43m)\u001b[49m\n\u001b[0;32m     21\u001b[0m \u001b[38;5;28;01mreturn\u001b[39;00m pred_\n",
      "\u001b[1;31mTypeError\u001b[0m: pred_node() got an unexpected keyword argument 'thresholds'"
     ]
    }
   ],
   "source": []
  },
  {
   "cell_type": "code",
   "execution_count": 25,
   "metadata": {},
   "outputs": [
    {
     "data": {
      "text/plain": [
       "array([0, 1, 2])"
      ]
     },
     "execution_count": 25,
     "metadata": {},
     "output_type": "execute_result"
    }
   ],
   "source": [
    "np.unique(y)"
   ]
  },
  {
   "cell_type": "code",
   "execution_count": null,
   "metadata": {},
   "outputs": [],
   "source": []
  },
  {
   "cell_type": "code",
   "execution_count": 26,
   "metadata": {},
   "outputs": [
    {
     "name": "stdout",
     "output_type": "stream",
     "text": [
      "100 / 150  correct\n",
      "accuracy =  66.67 %\n"
     ]
    }
   ],
   "source": [
    "correct=np.count_nonzero(X[:,3]==y)\n",
    "total=y.shape[0]\n",
    "# accuracy=np.count_nonzero(X[:,3]==y)/y.shape[0]\n",
    "accuracy=correct/total\n",
    "print(correct,\"/\",total, \" correct\")\n",
    "print( \"accuracy = \",round(accuracy*100,2), \"%\")"
   ]
  },
  {
   "cell_type": "code",
   "execution_count": null,
   "metadata": {},
   "outputs": [],
   "source": []
  },
  {
   "cell_type": "code",
   "execution_count": null,
   "metadata": {},
   "outputs": [],
   "source": []
  },
  {
   "cell_type": "code",
   "execution_count": null,
   "metadata": {},
   "outputs": [],
   "source": []
  },
  {
   "cell_type": "code",
   "execution_count": null,
   "metadata": {},
   "outputs": [],
   "source": []
  },
  {
   "cell_type": "code",
   "execution_count": null,
   "metadata": {},
   "outputs": [],
   "source": []
  },
  {
   "cell_type": "code",
   "execution_count": null,
   "metadata": {},
   "outputs": [],
   "source": []
  },
  {
   "cell_type": "code",
   "execution_count": null,
   "metadata": {},
   "outputs": [],
   "source": []
  },
  {
   "cell_type": "code",
   "execution_count": null,
   "metadata": {},
   "outputs": [],
   "source": []
  },
  {
   "cell_type": "code",
   "execution_count": null,
   "metadata": {},
   "outputs": [],
   "source": []
  },
  {
   "cell_type": "code",
   "execution_count": null,
   "metadata": {},
   "outputs": [],
   "source": []
  },
  {
   "cell_type": "code",
   "execution_count": 27,
   "metadata": {},
   "outputs": [],
   "source": [
    "S=np.array((9,5))\n",
    "# S=np.array((9,5))\n"
   ]
  },
  {
   "cell_type": "code",
   "execution_count": 28,
   "metadata": {},
   "outputs": [],
   "source": [
    "# example\n",
    "\n",
    "# Create a Digraph object\n",
    "dot = graphviz.Digraph()\n",
    "\n",
    "# # Add nodes\n",
    "dot.node('A', 'Feature 1 <= 5')\n",
    "dot.node('B', 'Class 0')\n",
    "dot.node('C', 'Feature 1 > 5')\n",
    "dot.node('D', 'Feature 2 <= 3')\n",
    "dot.node('E', 'Class 1')\n",
    "dot.node('F', 'Class 2')\n",
    "\n",
    "# # Add edges\n",
    "dot.edge('A', 'B', label='True')\n",
    "dot.edge('A', 'C', label='False')\n",
    "dot.edge('C', 'D', label='True')\n",
    "dot.edge('C', 'F', label='False')\n",
    "dot.edge('D', 'E', label='True')\n",
    "dot.edge('D', 'F', label='False')\n",
    "\n",
    "# Render the graph\n",
    "# dot.render('sample_tree', format='png', cleanup=True,view=True)\n",
    "# graph.render(directory='doctest-output', view=True) #for saving"
   ]
  },
  {
   "cell_type": "code",
   "execution_count": null,
   "metadata": {},
   "outputs": [],
   "source": []
  },
  {
   "cell_type": "code",
   "execution_count": null,
   "metadata": {},
   "outputs": [],
   "source": []
  },
  {
   "cell_type": "code",
   "execution_count": null,
   "metadata": {},
   "outputs": [],
   "source": []
  },
  {
   "cell_type": "code",
   "execution_count": null,
   "metadata": {},
   "outputs": [],
   "source": []
  }
 ],
 "metadata": {
  "kernelspec": {
   "display_name": "Python 3",
   "language": "python",
   "name": "python3"
  },
  "language_info": {
   "codemirror_mode": {
    "name": "ipython",
    "version": 3
   },
   "file_extension": ".py",
   "mimetype": "text/x-python",
   "name": "python",
   "nbconvert_exporter": "python",
   "pygments_lexer": "ipython3",
   "version": "3.11.2"
  }
 },
 "nbformat": 4,
 "nbformat_minor": 2
}
