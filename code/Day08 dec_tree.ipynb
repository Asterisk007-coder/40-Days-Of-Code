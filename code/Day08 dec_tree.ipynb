{
 "cells": [
  {
   "cell_type": "code",
   "execution_count": 2,
   "metadata": {},
   "outputs": [],
   "source": [
    "import numpy as np\n",
    "import pandas as pd\n",
    "# im\n",
    "import matplotlib.pyplot as plt\n",
    "import seaborn as sns"
   ]
  },
  {
   "cell_type": "code",
   "execution_count": 2,
   "metadata": {},
   "outputs": [],
   "source": [
    "'''Adds Graphviz to executable path, ONLY RUN IF YOU GET EXECUTABLE NOT FOUND ERROR in graphviz'''\n",
    "# import os\n",
    "# os.environ[\"PATH\"] += os.pathsep + 'C:/Program Files (x86)/Graphviz2.38/bin/'"
   ]
  },
  {
   "cell_type": "code",
   "execution_count": 15,
   "metadata": {},
   "outputs": [
    {
     "data": {
      "text/plain": [
       "0.9402859586706311"
      ]
     },
     "execution_count": 15,
     "metadata": {},
     "output_type": "execute_result"
    }
   ],
   "source": [
    "def entropy_binary(p,n):\n",
    "    '''higher entropy means more equal dataset, is from 0 to 1'''\n",
    "    N=p+n\n",
    "    p/=N\n",
    "    n/=N\n",
    "\n",
    "    return -(p*np.log2(p)+n*np.log2(n))\n",
    "\n",
    "def entropy(p_array):\n",
    "    '''higher entropy means more equal dataset, is from 0 to 1'''\n",
    "\n",
    "    p_=p_array.astype('float64')\n",
    "\n",
    "    N=np.sum(p_)\n",
    "    p_/=N\n",
    "    \n",
    "    return -np.sum(p_*np.log2(p_))\n",
    "\n",
    "k=np.array((9,5))\n",
    "entropy(k)\n"
   ]
  },
  {
   "cell_type": "code",
   "execution_count": 34,
   "metadata": {},
   "outputs": [
    {
     "data": {
      "text/plain": [
       "(4, 1)"
      ]
     },
     "execution_count": 34,
     "metadata": {},
     "output_type": "execute_result"
    }
   ],
   "source": [
    "a = np.random.randint(0,5,size=(4,3))\n",
    "a[:,0:1].shape\n"
   ]
  },
  {
   "cell_type": "code",
   "execution_count": null,
   "metadata": {},
   "outputs": [],
   "source": []
  },
  {
   "cell_type": "code",
   "execution_count": 26,
   "metadata": {},
   "outputs": [],
   "source": [
    "def gain(S,y,*,feature):\n",
    "    '''calculates information gain'''\n",
    "    A=feature\n",
    "    old_entropy=entropy(S)\n",
    "    n,m=S.shape[0]\n",
    "    S_A=S[:,A:A+1]\n",
    "    vals=np.unique(S_A)\n",
    "    new_entropy=0\n",
    "    for v in vals:\n",
    "        yv=y[S_A==v]\n",
    "        new_entropy+=yv.shape[0]/n*entropy(y)\n",
    "    \n",
    "    return old_entropy-new_entropy\n",
    "\n",
    "    "
   ]
  },
  {
   "cell_type": "code",
   "execution_count": 5,
   "metadata": {},
   "outputs": [
    {
     "data": {
      "text/plain": [
       "'sample_tree.png'"
      ]
     },
     "execution_count": 5,
     "metadata": {},
     "output_type": "execute_result"
    }
   ],
   "source": [
    "import graphviz\n",
    "\n",
    "# Create a Digraph object\n",
    "dot = graphviz.Digraph()\n",
    "\n",
    "# # Add nodes\n",
    "dot.node('A', 'Feature 1 <= 5')\n",
    "dot.node('B', 'Class 0')\n",
    "dot.node('C', 'Feature 1 > 5')\n",
    "dot.node('D', 'Feature 2 <= 3')\n",
    "dot.node('E', 'Class 1')\n",
    "dot.node('F', 'Class 2')\n",
    "\n",
    "# # Add edges\n",
    "dot.edge('A', 'B', label='True')\n",
    "dot.edge('A', 'C', label='False')\n",
    "dot.edge('C', 'D', label='True')\n",
    "dot.edge('C', 'F', label='False')\n",
    "dot.edge('D', 'E', label='True')\n",
    "dot.edge('D', 'F', label='False')\n",
    "\n",
    "# Render the graph\n",
    "dot.render('sample_tree', format='png', cleanup=True,view=True)\n",
    "# graph.render(directory='doctest-output', view=True) #for saving"
   ]
  },
  {
   "cell_type": "code",
   "execution_count": null,
   "metadata": {},
   "outputs": [],
   "source": []
  },
  {
   "cell_type": "code",
   "execution_count": null,
   "metadata": {},
   "outputs": [],
   "source": []
  },
  {
   "cell_type": "code",
   "execution_count": null,
   "metadata": {},
   "outputs": [],
   "source": []
  },
  {
   "cell_type": "code",
   "execution_count": null,
   "metadata": {},
   "outputs": [],
   "source": [
    "def plot_data(X,y,title='Closed form solution',pltobj=None):\n",
    "    xlabel='X'\n",
    "    ylabel='y'\n",
    "    if pltobj is None:\n",
    "        pltobj=plt\n",
    "        pltobj.scatter(X,y)\n",
    "        pltobj.xlabel('X')\n",
    "        pltobj.ylabel('y')\n",
    "        pltobj.title(title)\n",
    "        \n",
    "    else:\n",
    "        pltobj.scatter(X,y)\n",
    "\n",
    "        pltobj.set_xlabel('X')\n",
    "        pltobj.set_ylabel('y')\n",
    "        pltobj.set_title(title)\n",
    "\n",
    "def random_data(n,a=3,b=4,plotting=False):\n",
    "    '''generate random linear data of given shape with some gaussian noise'''\n",
    "\n",
    "    X=np.random.rand(n,1) #returns random value in a given shape, in this case nx1 (uniform probability distribution)\n",
    "    y=b + a*X+ np.random.randn(n,1) #the randn function is similar. except it generates gaussian noise\n",
    "    if plotting==True:\n",
    "        plot_data(X,y,title='Data')\n",
    "        plt.show()\n",
    "\n",
    "    ind=np.argsort(X,axis=0)\n",
    "    X=np.take_along_axis(X,ind,axis=0)\n",
    "    y=np.take_along_axis(y,ind,axis=0)\n",
    "\n",
    "\n",
    "    return X,y\n",
    "\n"
   ]
  }
 ],
 "metadata": {
  "kernelspec": {
   "display_name": "Python 3",
   "language": "python",
   "name": "python3"
  },
  "language_info": {
   "codemirror_mode": {
    "name": "ipython",
    "version": 3
   },
   "file_extension": ".py",
   "mimetype": "text/x-python",
   "name": "python",
   "nbconvert_exporter": "python",
   "pygments_lexer": "ipython3",
   "version": "3.11.2"
  }
 },
 "nbformat": 4,
 "nbformat_minor": 2
}
