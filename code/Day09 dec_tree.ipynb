{
 "cells": [
  {
   "cell_type": "code",
   "execution_count": 1,
   "metadata": {},
   "outputs": [],
   "source": [
    "import numpy as np\n",
    "import pandas as pd\n",
    "# im\n",
    "import matplotlib.pyplot as plt\n",
    "import seaborn as sns"
   ]
  },
  {
   "cell_type": "code",
   "execution_count": 21,
   "metadata": {},
   "outputs": [
    {
     "data": {
      "text/plain": [
       "(array([ 1,  2,  4,  5, 24]), array([3, 3, 2, 1, 1], dtype=int64))"
      ]
     },
     "execution_count": 21,
     "metadata": {},
     "output_type": "execute_result"
    }
   ],
   "source": [
    "a=np.array((1,1,1,4,5,24,4,2,2,2))\n",
    "\n",
    "x,y"
   ]
  },
  {
   "cell_type": "code",
   "execution_count": 24,
   "metadata": {},
   "outputs": [
    {
     "data": {
      "text/plain": [
       "1.584962500721156"
      ]
     },
     "execution_count": 24,
     "metadata": {},
     "output_type": "execute_result"
    }
   ],
   "source": [
    "def entropy_binary(p,n):\n",
    "    '''higher entropy means more equal dataset, is from 0 to 1'''\n",
    "    N=p+n\n",
    "    p/=N\n",
    "    n/=N\n",
    "\n",
    "    return -(p*np.log2(p)+n*np.log2(n))\n",
    "\n",
    "def entropy_prob(p_array):\n",
    "    '''higher entropy means more equal dataset, is from 0 to 1'''\n",
    "\n",
    "    p_=p_array.astype('float64')\n",
    "\n",
    "    N=np.sum(p_)\n",
    "    p_/=N\n",
    "    \n",
    "    return -np.sum(p_*np.log2(p_))\n",
    "\n",
    "def entropy(a):\n",
    "    x,probs=np.unique(a,return_counts=True)\n",
    "    return entropy_prob(probs)\n",
    "\n",
    "k=np.array((9,5,2))\n",
    "entropy(k)\n"
   ]
  },
  {
   "cell_type": "code",
   "execution_count": 60,
   "metadata": {},
   "outputs": [],
   "source": [
    "x=np.arange(3)"
   ]
  },
  {
   "cell_type": "code",
   "execution_count": 61,
   "metadata": {},
   "outputs": [],
   "source": [
    "a = np.random.randint(0,5,size=(4,3))\n",
    "a[:,0:1].shape\n",
    "\n",
    "def mode(x):\n",
    "    val,counts=np.unique(x,return_counts=True)\n",
    "    return val[np.argmax(counts)]\n"
   ]
  },
  {
   "cell_type": "code",
   "execution_count": 65,
   "metadata": {},
   "outputs": [
    {
     "data": {
      "text/plain": [
       "4"
      ]
     },
     "execution_count": 65,
     "metadata": {},
     "output_type": "execute_result"
    }
   ],
   "source": []
  },
  {
   "cell_type": "code",
   "execution_count": 49,
   "metadata": {},
   "outputs": [],
   "source": [
    "class Node:\n",
    "    def __init__(self):\n",
    "        self.feature_index=None\n",
    "        self.threshold=None\n",
    "        self.value=None\n",
    "        self.children=[]\n",
    "        self.isroot=False\n",
    "        self.isleaf=False\n",
    "        self.samples\n",
    "        \n",
    "\n",
    "\n",
    "\n"
   ]
  },
  {
   "cell_type": "code",
   "execution_count": 40,
   "metadata": {},
   "outputs": [],
   "source": [
    "def gain(S,y,*,feature_index):\n",
    "    '''calculates information gain'''\n",
    "    A=feature_index\n",
    "    old_entropy=entropy(y)\n",
    "    n,m=S.shape\n",
    "    S_A=S[:,A:A+1]\n",
    "    vals=np.unique(S_A)\n",
    "    new_entropy=0\n",
    "    for v in vals:\n",
    "        yv=y[S_A==v]\n",
    "        new_entropy+=yv.shape[0]/n*entropy(yv)\n",
    "    \n",
    "    return old_entropy-new_entropy\n",
    "\n",
    "def optimum_feature(X,y,*,features=-1):\n",
    "    n,m=X.shape\n",
    "    \n",
    "    if features==-1:\n",
    "        features=np.ones(m)\n",
    "    \n",
    "    # m=features.shape[0]\n",
    "    min_feature=-1\n",
    "    min_gain=-1\n",
    "    for i in range(m):\n",
    "        if features[i]==0:\n",
    "            continue\n",
    "        gain1=gain(X,y,feature_index=i)\n",
    "        if i==0 or min_gain>gain:\n",
    "            min_feature=i\n",
    "    return min_feature\n",
    "\n",
    "\n",
    "def ID3(X,y,*,features=-1):\n",
    "    '''features = -1 to include all features, else pass features array'''\n",
    "    n,m=X.shape\n",
    "    if features==-1:\n",
    "        features=np.ones(m)\n",
    "    root=Node()\n",
    "    root.samples=n\n",
    "    root.isroot=True\n",
    "    if (y==np.ones(n)):\n",
    "        root.value=1\n",
    "        return root\n",
    "    else if (y==np.zeros(n)):\n",
    "        root.value=0\n",
    "        return root\n",
    "    \n",
    "    else if features.shape[0]==0:\n",
    "        root.value=mode(y)\n",
    "        return root\n",
    "\n",
    "    \n",
    "        \n",
    "        \n",
    "    "
   ]
  },
  {
   "cell_type": "code",
   "execution_count": 55,
   "metadata": {},
   "outputs": [
    {
     "data": {
      "text/plain": [
       "(0,)"
      ]
     },
     "execution_count": 55,
     "metadata": {},
     "output_type": "execute_result"
    }
   ],
   "source": [
    "x=np.array(())\n",
    "x.shape"
   ]
  },
  {
   "cell_type": "code",
   "execution_count": 53,
   "metadata": {},
   "outputs": [
    {
     "data": {
      "text/plain": [
       "array([0, 1, 2, 3, 4])"
      ]
     },
     "execution_count": 53,
     "metadata": {},
     "output_type": "execute_result"
    }
   ],
   "source": [
    "m=5\n",
    "features=np.arange(0,m)\n",
    "features"
   ]
  },
  {
   "cell_type": "code",
   "execution_count": 41,
   "metadata": {},
   "outputs": [
    {
     "data": {
      "text/plain": [
       "0.04812703040826949"
      ]
     },
     "execution_count": 41,
     "metadata": {},
     "output_type": "execute_result"
    }
   ],
   "source": [
    "y=np.ones((14,1))\n",
    "y[:9,:]=0\n",
    "X=np.ones((14,1))\n",
    "X[:6,:]=0\n",
    "X[9:11,:]=0\n",
    "gain(X,y,feature_index=0)"
   ]
  },
  {
   "cell_type": "code",
   "execution_count": 48,
   "metadata": {},
   "outputs": [
    {
     "data": {
      "text/plain": [
       "5"
      ]
     },
     "execution_count": 48,
     "metadata": {},
     "output_type": "execute_result"
    }
   ],
   "source": []
  },
  {
   "cell_type": "code",
   "execution_count": 10,
   "metadata": {},
   "outputs": [],
   "source": [
    "S=np.array((9,5))\n",
    "# S=np.array((9,5))\n"
   ]
  },
  {
   "cell_type": "code",
   "execution_count": 66,
   "metadata": {},
   "outputs": [
    {
     "data": {
      "text/plain": [
       "'sample_tree.png'"
      ]
     },
     "execution_count": 66,
     "metadata": {},
     "output_type": "execute_result"
    }
   ],
   "source": [
    "import graphviz\n",
    "\n",
    "# Create a Digraph object\n",
    "dot = graphviz.Digraph()\n",
    "\n",
    "# # Add nodes\n",
    "dot.node('A', 'Feature 1 <= 5')\n",
    "dot.node('B', 'Class 0')\n",
    "dot.node('C', 'Feature 1 > 5')\n",
    "dot.node('D', 'Feature 2 <= 3')\n",
    "dot.node('E', 'Class 1')\n",
    "dot.node('F', 'Class 2')\n",
    "\n",
    "# # Add edges\n",
    "dot.edge('A', 'B', label='True')\n",
    "dot.edge('A', 'C', label='False')\n",
    "dot.edge('C', 'D', label='True')\n",
    "dot.edge('C', 'F', label='False')\n",
    "dot.edge('D', 'E', label='True')\n",
    "dot.edge('D', 'F', label='False')\n",
    "\n",
    "# Render the graph\n",
    "dot.render('sample_tree', format='png', cleanup=True,view=True)\n",
    "# graph.render(directory='doctest-output', view=True) #for saving"
   ]
  },
  {
   "cell_type": "code",
   "execution_count": null,
   "metadata": {},
   "outputs": [],
   "source": []
  },
  {
   "cell_type": "code",
   "execution_count": null,
   "metadata": {},
   "outputs": [],
   "source": []
  },
  {
   "cell_type": "code",
   "execution_count": null,
   "metadata": {},
   "outputs": [],
   "source": []
  },
  {
   "cell_type": "code",
   "execution_count": 7,
   "metadata": {},
   "outputs": [],
   "source": [
    "def plot_data(X,y,title='Closed form solution',pltobj=None):\n",
    "    xlabel='X'\n",
    "    ylabel='y'\n",
    "    if pltobj is None:\n",
    "        pltobj=plt\n",
    "        pltobj.scatter(X,y)\n",
    "        pltobj.xlabel('X')\n",
    "        pltobj.ylabel('y')\n",
    "        pltobj.title(title)\n",
    "        \n",
    "    else:\n",
    "        pltobj.scatter(X,y)\n",
    "\n",
    "        pltobj.set_xlabel('X')\n",
    "        pltobj.set_ylabel('y')\n",
    "        pltobj.set_title(title)\n",
    "\n",
    "def random_data(n,a=3,b=4,plotting=False):\n",
    "    '''generate random linear data of given shape with some gaussian noise'''\n",
    "\n",
    "    X=np.random.rand(n,1) #returns random value in a given shape, in this case nx1 (uniform probability distribution)\n",
    "    y=b + a*X+ np.random.randn(n,1) #the randn function is similar. except it generates gaussian noise\n",
    "    if plotting==True:\n",
    "        plot_data(X,y,title='Data')\n",
    "        plt.show()\n",
    "\n",
    "    ind=np.argsort(X,axis=0)\n",
    "    X=np.take_along_axis(X,ind,axis=0)\n",
    "    y=np.take_along_axis(y,ind,axis=0)\n",
    "\n",
    "\n",
    "    return X,y\n",
    "\n"
   ]
  }
 ],
 "metadata": {
  "kernelspec": {
   "display_name": "Python 3",
   "language": "python",
   "name": "python3"
  },
  "language_info": {
   "codemirror_mode": {
    "name": "ipython",
    "version": 3
   },
   "file_extension": ".py",
   "mimetype": "text/x-python",
   "name": "python",
   "nbconvert_exporter": "python",
   "pygments_lexer": "ipython3",
   "version": "3.11.2"
  }
 },
 "nbformat": 4,
 "nbformat_minor": 2
}
